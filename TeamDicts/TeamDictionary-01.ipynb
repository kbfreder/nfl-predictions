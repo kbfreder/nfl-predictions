{
 "cells": [
  {
   "cell_type": "markdown",
   "metadata": {},
   "source": [
    "### This dictionary was used in scraping & cleaning ProFtblRef website. \n",
    "\n",
    "Temporarily created team_dictionary_2018, 2017, 2016 for specific years"
   ]
  },
  {
   "cell_type": "code",
   "execution_count": 1,
   "metadata": {},
   "outputs": [],
   "source": [
    "import pandas as pd\n",
    "import re\n",
    "\n",
    "import pipeline as p\n",
    "\n",
    "%load_ext autoreload\n",
    "%autoreload 2"
   ]
  },
  {
   "cell_type": "code",
   "execution_count": 34,
   "metadata": {},
   "outputs": [],
   "source": [
    "team_dict = {'Arizona Cardinals': 'ARI',\n",
    " 'Atlanta Falcons': 'ATL',\n",
    " 'Baltimore Ravens': 'BAL',\n",
    " 'Buffalo Bills': 'BUF',\n",
    " 'Carolina Panthers': 'CAR',\n",
    " 'Chicago Bears': 'CHI',\n",
    " 'Cincinnati Bengals': 'CIN',\n",
    " 'Cleveland Browns': 'CLE',\n",
    " 'Dallas Cowboys': 'DAL',\n",
    " 'Denver Broncos': 'DEN',\n",
    " 'Detroit Lions': 'DET',\n",
    " 'Green Bay Packers': 'GNB',\n",
    " 'Houston Texans': 'HOU',\n",
    " 'Indianapolis Colts': 'IND',\n",
    " 'Jacksonville Jaguars': 'JAX',\n",
    " 'Kansas City Chiefs': 'KAN',\n",
    " 'Los Angeles Chargers': 'LAC',\n",
    " 'Los Angeles Rams': 'LAR',\n",
    " 'Miami Dolphins': 'MIA',\n",
    " 'Minnesota Vikings': 'TEN',\n",
    " 'New England Patriots': 'NWE',\n",
    " 'New Orleans Saints': 'NOR',\n",
    " 'New York Giants': 'NYG',\n",
    " 'New York Jets': 'NYJ',\n",
    " 'Oakland Raiders': 'OAK',\n",
    " 'Philadelphia Eagles': 'PHI',\n",
    " 'Pittsburgh Steelers': 'PIT',\n",
    " 'San Francisco 49ers': 'SFO',\n",
    " 'Seattle Seahawks': 'SEA',\n",
    " 'Tampa Bay Buccaneers': 'TAM',\n",
    " 'Tennessee Titans': 'TEN',\n",
    " 'Washington Redskins': 'WAS'}"
   ]
  },
  {
   "cell_type": "code",
   "execution_count": 17,
   "metadata": {},
   "outputs": [],
   "source": [
    "keys = list(team_dict.keys())\n",
    "dum = keys[0]"
   ]
  },
  {
   "cell_type": "code",
   "execution_count": 19,
   "metadata": {},
   "outputs": [
    {
     "data": {
      "text/plain": [
       "'Panthers'"
      ]
     },
     "execution_count": 19,
     "metadata": {},
     "output_type": "execute_result"
    }
   ],
   "source": [
    "dum.split()[-1]"
   ]
  },
  {
   "cell_type": "code",
   "execution_count": 36,
   "metadata": {},
   "outputs": [],
   "source": [
    "new_dict = {k.split()[-1]: [k, v, v.lower()] for k,v in team_dict.items()}"
   ]
  },
  {
   "cell_type": "code",
   "execution_count": 37,
   "metadata": {},
   "outputs": [
    {
     "data": {
      "text/plain": [
       "{'49ers': ['San Francisco 49ers', 'SFO', 'sfo'],\n",
       " 'Bears': ['Chicago Bears', 'CHI', 'chi'],\n",
       " 'Bengals': ['Cincinnati Bengals', 'CIN', 'cin'],\n",
       " 'Bills': ['Buffalo Bills', 'BUF', 'buf'],\n",
       " 'Broncos': ['Denver Broncos', 'DEN', 'den'],\n",
       " 'Browns': ['Cleveland Browns', 'CLE', 'cle'],\n",
       " 'Buccaneers': ['Tampa Bay Buccaneers', 'TAM', 'tam'],\n",
       " 'Cardinals': ['Arizona Cardinals', 'ARI', 'ari'],\n",
       " 'Chargers': ['Los Angeles Chargers', 'LAC', 'lac'],\n",
       " 'Chiefs': ['Kansas City Chiefs', 'KAN', 'kan'],\n",
       " 'Colts': ['Indianapolis Colts', 'IND', 'ind'],\n",
       " 'Cowboys': ['Dallas Cowboys', 'DAL', 'dal'],\n",
       " 'Dolphins': ['Miami Dolphins', 'MIA', 'mia'],\n",
       " 'Eagles': ['Philadelphia Eagles', 'PHI', 'phi'],\n",
       " 'Falcons': ['Atlanta Falcons', 'ATL', 'atl'],\n",
       " 'Giants': ['New York Giants', 'NYG', 'nyg'],\n",
       " 'Jaguars': ['Jacksonville Jaguars', 'JAX', 'jax'],\n",
       " 'Jets': ['New York Jets', 'NYJ', 'nyj'],\n",
       " 'Lions': ['Detroit Lions', 'DET', 'det'],\n",
       " 'Packers': ['Green Bay Packers', 'GNB', 'gnb'],\n",
       " 'Panthers': ['Carolina Panthers', 'CAR', 'car'],\n",
       " 'Patriots': ['New England Patriots', 'NWE', 'nwe'],\n",
       " 'Raiders': ['Oakland Raiders', 'OAK', 'oak'],\n",
       " 'Rams': ['Los Angeles Rams', 'LAR', 'lar'],\n",
       " 'Ravens': ['Baltimore Ravens', 'BAL', 'bal'],\n",
       " 'Redskins': ['Washington Redskins', 'WAS', 'was'],\n",
       " 'Saints': ['New Orleans Saints', 'NOR', 'nor'],\n",
       " 'Seahawks': ['Seattle Seahawks', 'SEA', 'sea'],\n",
       " 'Steelers': ['Pittsburgh Steelers', 'PIT', 'pit'],\n",
       " 'Texans': ['Houston Texans', 'HOU', 'hou'],\n",
       " 'Titans': ['Tennessee Titans', 'TEN', 'ten'],\n",
       " 'Vikings': ['Minnesota Vikings', 'TEN', 'ten']}"
      ]
     },
     "execution_count": 37,
     "metadata": {},
     "output_type": "execute_result"
    }
   ],
   "source": [
    "new_dict"
   ]
  },
  {
   "cell_type": "code",
   "execution_count": 38,
   "metadata": {},
   "outputs": [],
   "source": [
    "fix_urls = {'Chargers':'sdg',\n",
    "           'Rams':'ram',\n",
    "           'Texans':'htx',\n",
    "           'Cardinals':'crd',\n",
    "           'Raiders':'rai',\n",
    "           'Colts':'clt',\n",
    "           'Titans':'oti',\n",
    "            'Ravens':'rav'}"
   ]
  },
  {
   "cell_type": "code",
   "execution_count": 39,
   "metadata": {},
   "outputs": [],
   "source": [
    "for k,v in fix_urls.items():\n",
    "    new_dict[k][2] = v"
   ]
  },
  {
   "cell_type": "code",
   "execution_count": 40,
   "metadata": {},
   "outputs": [
    {
     "data": {
      "text/plain": [
       "{'49ers': ['San Francisco 49ers', 'SFO', 'sfo'],\n",
       " 'Bears': ['Chicago Bears', 'CHI', 'chi'],\n",
       " 'Bengals': ['Cincinnati Bengals', 'CIN', 'cin'],\n",
       " 'Bills': ['Buffalo Bills', 'BUF', 'buf'],\n",
       " 'Broncos': ['Denver Broncos', 'DEN', 'den'],\n",
       " 'Browns': ['Cleveland Browns', 'CLE', 'cle'],\n",
       " 'Buccaneers': ['Tampa Bay Buccaneers', 'TAM', 'tam'],\n",
       " 'Cardinals': ['Arizona Cardinals', 'ARI', 'crd'],\n",
       " 'Chargers': ['Los Angeles Chargers', 'LAC', 'sdg'],\n",
       " 'Chiefs': ['Kansas City Chiefs', 'KAN', 'kan'],\n",
       " 'Colts': ['Indianapolis Colts', 'IND', 'clt'],\n",
       " 'Cowboys': ['Dallas Cowboys', 'DAL', 'dal'],\n",
       " 'Dolphins': ['Miami Dolphins', 'MIA', 'mia'],\n",
       " 'Eagles': ['Philadelphia Eagles', 'PHI', 'phi'],\n",
       " 'Falcons': ['Atlanta Falcons', 'ATL', 'atl'],\n",
       " 'Giants': ['New York Giants', 'NYG', 'nyg'],\n",
       " 'Jaguars': ['Jacksonville Jaguars', 'JAX', 'jax'],\n",
       " 'Jets': ['New York Jets', 'NYJ', 'nyj'],\n",
       " 'Lions': ['Detroit Lions', 'DET', 'det'],\n",
       " 'Packers': ['Green Bay Packers', 'GNB', 'gnb'],\n",
       " 'Panthers': ['Carolina Panthers', 'CAR', 'car'],\n",
       " 'Patriots': ['New England Patriots', 'NWE', 'nwe'],\n",
       " 'Raiders': ['Oakland Raiders', 'OAK', 'rai'],\n",
       " 'Rams': ['Los Angeles Rams', 'LAR', 'ram'],\n",
       " 'Ravens': ['Baltimore Ravens', 'BAL', 'rav'],\n",
       " 'Redskins': ['Washington Redskins', 'WAS', 'was'],\n",
       " 'Saints': ['New Orleans Saints', 'NOR', 'nor'],\n",
       " 'Seahawks': ['Seattle Seahawks', 'SEA', 'sea'],\n",
       " 'Steelers': ['Pittsburgh Steelers', 'PIT', 'pit'],\n",
       " 'Texans': ['Houston Texans', 'HOU', 'htx'],\n",
       " 'Titans': ['Tennessee Titans', 'TEN', 'oti'],\n",
       " 'Vikings': ['Minnesota Vikings', 'TEN', 'ten']}"
      ]
     },
     "execution_count": 40,
     "metadata": {},
     "output_type": "execute_result"
    }
   ],
   "source": [
    "new_dict"
   ]
  },
  {
   "cell_type": "code",
   "execution_count": 41,
   "metadata": {},
   "outputs": [],
   "source": [
    "p.pkl_this('team_dictionary.pkl', new_dict)"
   ]
  }
 ],
 "metadata": {
  "kernelspec": {
   "display_name": "Python 3",
   "language": "python",
   "name": "python3"
  },
  "language_info": {
   "codemirror_mode": {
    "name": "ipython",
    "version": 3
   },
   "file_extension": ".py",
   "mimetype": "text/x-python",
   "name": "python",
   "nbconvert_exporter": "python",
   "pygments_lexer": "ipython3",
   "version": "3.5.6"
  }
 },
 "nbformat": 4,
 "nbformat_minor": 2
}
