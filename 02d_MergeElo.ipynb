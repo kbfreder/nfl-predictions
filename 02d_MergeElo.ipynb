{
 "cells": [
  {
   "cell_type": "code",
   "execution_count": 1,
   "metadata": {},
   "outputs": [],
   "source": [
    "import pandas as pd\n",
    "import pipeline as p\n",
    "import datetime as dt\n",
    "\n",
    "%load_ext autoreload\n",
    "%autoreload 2"
   ]
  },
  {
   "cell_type": "code",
   "execution_count": 21,
   "metadata": {},
   "outputs": [],
   "source": [
    "stats_df = p.open_pkl('Data/stats_df.pkl')"
   ]
  },
  {
   "cell_type": "code",
   "execution_count": 3,
   "metadata": {},
   "outputs": [],
   "source": [
    "elo_df = p.open_pkl('Data/elo_df.pkl')"
   ]
  },
  {
   "cell_type": "code",
   "execution_count": 4,
   "metadata": {},
   "outputs": [
    {
     "data": {
      "text/html": [
       "<div>\n",
       "<style scoped>\n",
       "    .dataframe tbody tr th:only-of-type {\n",
       "        vertical-align: middle;\n",
       "    }\n",
       "\n",
       "    .dataframe tbody tr th {\n",
       "        vertical-align: top;\n",
       "    }\n",
       "\n",
       "    .dataframe thead th {\n",
       "        text-align: right;\n",
       "    }\n",
       "</style>\n",
       "<table border=\"1\" class=\"dataframe\">\n",
       "  <thead>\n",
       "    <tr style=\"text-align: right;\">\n",
       "      <th></th>\n",
       "      <th>date</th>\n",
       "      <th>season</th>\n",
       "      <th>neutral</th>\n",
       "      <th>playoff</th>\n",
       "      <th>team1</th>\n",
       "      <th>team2</th>\n",
       "      <th>elo1_pre</th>\n",
       "      <th>elo2_pre</th>\n",
       "      <th>elo_prob1</th>\n",
       "      <th>elo_prob2</th>\n",
       "      <th>elo1_post</th>\n",
       "      <th>elo2_post</th>\n",
       "      <th>score1</th>\n",
       "      <th>score2</th>\n",
       "    </tr>\n",
       "  </thead>\n",
       "  <tbody>\n",
       "    <tr>\n",
       "      <th>0</th>\n",
       "      <td>2007-09-06</td>\n",
       "      <td>2007</td>\n",
       "      <td>0</td>\n",
       "      <td>NaN</td>\n",
       "      <td>IND</td>\n",
       "      <td>NO</td>\n",
       "      <td>1653.923</td>\n",
       "      <td>1515.973</td>\n",
       "      <td>0.762833</td>\n",
       "      <td>0.237167</td>\n",
       "      <td>1668.974</td>\n",
       "      <td>1500.922</td>\n",
       "      <td>41.0</td>\n",
       "      <td>10.0</td>\n",
       "    </tr>\n",
       "    <tr>\n",
       "      <th>1</th>\n",
       "      <td>2007-09-09</td>\n",
       "      <td>2007</td>\n",
       "      <td>0</td>\n",
       "      <td>NaN</td>\n",
       "      <td>DAL</td>\n",
       "      <td>NYG</td>\n",
       "      <td>1490.892</td>\n",
       "      <td>1494.060</td>\n",
       "      <td>0.588056</td>\n",
       "      <td>0.411944</td>\n",
       "      <td>1510.108</td>\n",
       "      <td>1474.844</td>\n",
       "      <td>45.0</td>\n",
       "      <td>35.0</td>\n",
       "    </tr>\n",
       "    <tr>\n",
       "      <th>2</th>\n",
       "      <td>2007-09-09</td>\n",
       "      <td>2007</td>\n",
       "      <td>0</td>\n",
       "      <td>NaN</td>\n",
       "      <td>LAR</td>\n",
       "      <td>CAR</td>\n",
       "      <td>1478.632</td>\n",
       "      <td>1511.942</td>\n",
       "      <td>0.545480</td>\n",
       "      <td>0.454520</td>\n",
       "      <td>1448.656</td>\n",
       "      <td>1541.917</td>\n",
       "      <td>13.0</td>\n",
       "      <td>27.0</td>\n",
       "    </tr>\n",
       "    <tr>\n",
       "      <th>3</th>\n",
       "      <td>2007-09-09</td>\n",
       "      <td>2007</td>\n",
       "      <td>0</td>\n",
       "      <td>NaN</td>\n",
       "      <td>LAC</td>\n",
       "      <td>CHI</td>\n",
       "      <td>1646.204</td>\n",
       "      <td>1574.744</td>\n",
       "      <td>0.686870</td>\n",
       "      <td>0.313130</td>\n",
       "      <td>1660.857</td>\n",
       "      <td>1560.090</td>\n",
       "      <td>14.0</td>\n",
       "      <td>3.0</td>\n",
       "    </tr>\n",
       "    <tr>\n",
       "      <th>4</th>\n",
       "      <td>2007-09-09</td>\n",
       "      <td>2007</td>\n",
       "      <td>0</td>\n",
       "      <td>NaN</td>\n",
       "      <td>WSH</td>\n",
       "      <td>MIA</td>\n",
       "      <td>1448.841</td>\n",
       "      <td>1489.941</td>\n",
       "      <td>0.534341</td>\n",
       "      <td>0.465659</td>\n",
       "      <td>1461.613</td>\n",
       "      <td>1477.169</td>\n",
       "      <td>16.0</td>\n",
       "      <td>13.0</td>\n",
       "    </tr>\n",
       "  </tbody>\n",
       "</table>\n",
       "</div>"
      ],
      "text/plain": [
       "        date  season  neutral playoff team1 team2  elo1_pre  elo2_pre  \\\n",
       "0 2007-09-06    2007        0     NaN   IND    NO  1653.923  1515.973   \n",
       "1 2007-09-09    2007        0     NaN   DAL   NYG  1490.892  1494.060   \n",
       "2 2007-09-09    2007        0     NaN   LAR   CAR  1478.632  1511.942   \n",
       "3 2007-09-09    2007        0     NaN   LAC   CHI  1646.204  1574.744   \n",
       "4 2007-09-09    2007        0     NaN   WSH   MIA  1448.841  1489.941   \n",
       "\n",
       "   elo_prob1  elo_prob2  elo1_post  elo2_post  score1  score2  \n",
       "0   0.762833   0.237167   1668.974   1500.922    41.0    10.0  \n",
       "1   0.588056   0.411944   1510.108   1474.844    45.0    35.0  \n",
       "2   0.545480   0.454520   1448.656   1541.917    13.0    27.0  \n",
       "3   0.686870   0.313130   1660.857   1560.090    14.0     3.0  \n",
       "4   0.534341   0.465659   1461.613   1477.169    16.0    13.0  "
      ]
     },
     "execution_count": 4,
     "metadata": {},
     "output_type": "execute_result"
    }
   ],
   "source": [
    "elo_df.head()"
   ]
  },
  {
   "cell_type": "markdown",
   "metadata": {},
   "source": [
    "Compute Deltas of Elo1 and Point Diff (easier now that pre and post are provided)"
   ]
  },
  {
   "cell_type": "code",
   "execution_count": 5,
   "metadata": {},
   "outputs": [],
   "source": [
    "elo_df['elo_delta'] = elo_df['elo1_post'] - elo_df['elo1_pre']\n",
    "elo_df['point_diff'] = elo_df['score1'] - elo_df['score2']"
   ]
  },
  {
   "cell_type": "code",
   "execution_count": 6,
   "metadata": {},
   "outputs": [
    {
     "data": {
      "text/html": [
       "<div>\n",
       "<style scoped>\n",
       "    .dataframe tbody tr th:only-of-type {\n",
       "        vertical-align: middle;\n",
       "    }\n",
       "\n",
       "    .dataframe tbody tr th {\n",
       "        vertical-align: top;\n",
       "    }\n",
       "\n",
       "    .dataframe thead th {\n",
       "        text-align: right;\n",
       "    }\n",
       "</style>\n",
       "<table border=\"1\" class=\"dataframe\">\n",
       "  <thead>\n",
       "    <tr style=\"text-align: right;\">\n",
       "      <th></th>\n",
       "      <th>date</th>\n",
       "      <th>season</th>\n",
       "      <th>neutral</th>\n",
       "      <th>playoff</th>\n",
       "      <th>team1</th>\n",
       "      <th>team2</th>\n",
       "      <th>elo1_pre</th>\n",
       "      <th>elo2_pre</th>\n",
       "      <th>elo_prob1</th>\n",
       "      <th>elo_prob2</th>\n",
       "      <th>elo1_post</th>\n",
       "      <th>elo2_post</th>\n",
       "      <th>score1</th>\n",
       "      <th>score2</th>\n",
       "      <th>elo_delta</th>\n",
       "      <th>point_diff</th>\n",
       "    </tr>\n",
       "  </thead>\n",
       "  <tbody>\n",
       "    <tr>\n",
       "      <th>0</th>\n",
       "      <td>2007-09-06</td>\n",
       "      <td>2007</td>\n",
       "      <td>0</td>\n",
       "      <td>NaN</td>\n",
       "      <td>IND</td>\n",
       "      <td>NO</td>\n",
       "      <td>1653.923</td>\n",
       "      <td>1515.973</td>\n",
       "      <td>0.762833</td>\n",
       "      <td>0.237167</td>\n",
       "      <td>1668.974</td>\n",
       "      <td>1500.922</td>\n",
       "      <td>41.0</td>\n",
       "      <td>10.0</td>\n",
       "      <td>15.051</td>\n",
       "      <td>31.0</td>\n",
       "    </tr>\n",
       "    <tr>\n",
       "      <th>1</th>\n",
       "      <td>2007-09-09</td>\n",
       "      <td>2007</td>\n",
       "      <td>0</td>\n",
       "      <td>NaN</td>\n",
       "      <td>DAL</td>\n",
       "      <td>NYG</td>\n",
       "      <td>1490.892</td>\n",
       "      <td>1494.060</td>\n",
       "      <td>0.588056</td>\n",
       "      <td>0.411944</td>\n",
       "      <td>1510.108</td>\n",
       "      <td>1474.844</td>\n",
       "      <td>45.0</td>\n",
       "      <td>35.0</td>\n",
       "      <td>19.216</td>\n",
       "      <td>10.0</td>\n",
       "    </tr>\n",
       "    <tr>\n",
       "      <th>2</th>\n",
       "      <td>2007-09-09</td>\n",
       "      <td>2007</td>\n",
       "      <td>0</td>\n",
       "      <td>NaN</td>\n",
       "      <td>LAR</td>\n",
       "      <td>CAR</td>\n",
       "      <td>1478.632</td>\n",
       "      <td>1511.942</td>\n",
       "      <td>0.545480</td>\n",
       "      <td>0.454520</td>\n",
       "      <td>1448.656</td>\n",
       "      <td>1541.917</td>\n",
       "      <td>13.0</td>\n",
       "      <td>27.0</td>\n",
       "      <td>-29.976</td>\n",
       "      <td>-14.0</td>\n",
       "    </tr>\n",
       "    <tr>\n",
       "      <th>3</th>\n",
       "      <td>2007-09-09</td>\n",
       "      <td>2007</td>\n",
       "      <td>0</td>\n",
       "      <td>NaN</td>\n",
       "      <td>LAC</td>\n",
       "      <td>CHI</td>\n",
       "      <td>1646.204</td>\n",
       "      <td>1574.744</td>\n",
       "      <td>0.686870</td>\n",
       "      <td>0.313130</td>\n",
       "      <td>1660.857</td>\n",
       "      <td>1560.090</td>\n",
       "      <td>14.0</td>\n",
       "      <td>3.0</td>\n",
       "      <td>14.653</td>\n",
       "      <td>11.0</td>\n",
       "    </tr>\n",
       "    <tr>\n",
       "      <th>4</th>\n",
       "      <td>2007-09-09</td>\n",
       "      <td>2007</td>\n",
       "      <td>0</td>\n",
       "      <td>NaN</td>\n",
       "      <td>WSH</td>\n",
       "      <td>MIA</td>\n",
       "      <td>1448.841</td>\n",
       "      <td>1489.941</td>\n",
       "      <td>0.534341</td>\n",
       "      <td>0.465659</td>\n",
       "      <td>1461.613</td>\n",
       "      <td>1477.169</td>\n",
       "      <td>16.0</td>\n",
       "      <td>13.0</td>\n",
       "      <td>12.772</td>\n",
       "      <td>3.0</td>\n",
       "    </tr>\n",
       "  </tbody>\n",
       "</table>\n",
       "</div>"
      ],
      "text/plain": [
       "        date  season  neutral playoff team1 team2  elo1_pre  elo2_pre  \\\n",
       "0 2007-09-06    2007        0     NaN   IND    NO  1653.923  1515.973   \n",
       "1 2007-09-09    2007        0     NaN   DAL   NYG  1490.892  1494.060   \n",
       "2 2007-09-09    2007        0     NaN   LAR   CAR  1478.632  1511.942   \n",
       "3 2007-09-09    2007        0     NaN   LAC   CHI  1646.204  1574.744   \n",
       "4 2007-09-09    2007        0     NaN   WSH   MIA  1448.841  1489.941   \n",
       "\n",
       "   elo_prob1  elo_prob2  elo1_post  elo2_post  score1  score2  elo_delta  \\\n",
       "0   0.762833   0.237167   1668.974   1500.922    41.0    10.0     15.051   \n",
       "1   0.588056   0.411944   1510.108   1474.844    45.0    35.0     19.216   \n",
       "2   0.545480   0.454520   1448.656   1541.917    13.0    27.0    -29.976   \n",
       "3   0.686870   0.313130   1660.857   1560.090    14.0     3.0     14.653   \n",
       "4   0.534341   0.465659   1461.613   1477.169    16.0    13.0     12.772   \n",
       "\n",
       "   point_diff  \n",
       "0        31.0  \n",
       "1        10.0  \n",
       "2       -14.0  \n",
       "3        11.0  \n",
       "4         3.0  "
      ]
     },
     "execution_count": 6,
     "metadata": {},
     "output_type": "execute_result"
    }
   ],
   "source": [
    "elo_df.head()"
   ]
  },
  {
   "cell_type": "code",
   "execution_count": 7,
   "metadata": {},
   "outputs": [
    {
     "data": {
      "text/plain": [
       "3204"
      ]
     },
     "execution_count": 7,
     "metadata": {},
     "output_type": "execute_result"
    }
   ],
   "source": [
    "len(elo_df)"
   ]
  },
  {
   "cell_type": "code",
   "execution_count": 8,
   "metadata": {},
   "outputs": [
    {
     "data": {
      "text/plain": [
       "6386"
      ]
     },
     "execution_count": 8,
     "metadata": {},
     "output_type": "execute_result"
    }
   ],
   "source": [
    "len(stats_df)"
   ]
  },
  {
   "cell_type": "code",
   "execution_count": 58,
   "metadata": {},
   "outputs": [],
   "source": [
    "df2 = pd.merge(elo_df, stats_df, right_on=['Team','Date'], left_on=['team1','date'], copy=False)\n",
    "df2 = pd.merge(df2, stats_df, right_on=['Team','Date'], left_on=['team2','date'], copy=False, suffixes=('1','2'))"
   ]
  },
  {
   "cell_type": "code",
   "execution_count": 13,
   "metadata": {},
   "outputs": [
    {
     "data": {
      "text/plain": [
       "3193"
      ]
     },
     "execution_count": 13,
     "metadata": {},
     "output_type": "execute_result"
    }
   ],
   "source": [
    "len(df2)"
   ]
  },
  {
   "cell_type": "code",
   "execution_count": 59,
   "metadata": {},
   "outputs": [],
   "source": [
    "cols_to_drop = [\n",
    " 'Date2',\n",
    " 'Day2',\n",
    " 'Games1',\n",
    " 'Games2',\n",
    " 'Location2',\n",
    " 'OT2',\n",
    " 'Opp1',\n",
    " 'Opp2',\n",
    " 'Record1',\n",
    " 'Record2',\n",
    " 'Result1',\n",
    " 'Result2',\n",
    " 'Season2',\n",
    " 'Time2',\n",
    " 'Week2',\n",
    " 'Win%1',\n",
    " 'Win%2',\n",
    " 'Wins1',\n",
    " 'Wins2',\n",
    " 'date',\n",
    " 'elo1_post',\n",
    " 'elo2_post',\n",
    " 'score1',\n",
    " 'score2',\n",
    "    'team1', \n",
    "    'team2'\n",
    "]"
   ]
  },
  {
   "cell_type": "code",
   "execution_count": 60,
   "metadata": {},
   "outputs": [],
   "source": [
    "df2.drop(columns=cols_to_drop, inplace=True)"
   ]
  },
  {
   "cell_type": "code",
   "execution_count": 61,
   "metadata": {},
   "outputs": [
    {
     "data": {
      "text/plain": [
       "68"
      ]
     },
     "execution_count": 61,
     "metadata": {},
     "output_type": "execute_result"
    }
   ],
   "source": [
    "len(df2.columns)"
   ]
  },
  {
   "cell_type": "code",
   "execution_count": 62,
   "metadata": {},
   "outputs": [],
   "source": [
    "cols_to_rename = [\n",
    " 'Date1',\n",
    " 'Day1',\n",
    " 'Location1',\n",
    " 'OT1',\n",
    " 'Opp1',\n",
    " 'Season1',\n",
    " 'Time1',\n",
    " 'Week1']\n",
    "\n",
    "rename_dict = {x: x[:-1] for x in cols_to_rename}\n",
    "df2.rename(columns=rename_dict, inplace=True)"
   ]
  },
  {
   "cell_type": "code",
   "execution_count": 63,
   "metadata": {},
   "outputs": [],
   "source": [
    "p.pkl_this('Data/df_for_model.pkl', df2)"
   ]
  },
  {
   "cell_type": "code",
   "execution_count": null,
   "metadata": {},
   "outputs": [],
   "source": []
  }
 ],
 "metadata": {
  "kernelspec": {
   "display_name": "Python 3",
   "language": "python",
   "name": "python3"
  },
  "language_info": {
   "codemirror_mode": {
    "name": "ipython",
    "version": 3
   },
   "file_extension": ".py",
   "mimetype": "text/x-python",
   "name": "python",
   "nbconvert_exporter": "python",
   "pygments_lexer": "ipython3",
   "version": "3.6.6"
  }
 },
 "nbformat": 4,
 "nbformat_minor": 2
}
