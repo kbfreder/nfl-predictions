{
 "cells": [
  {
   "cell_type": "markdown",
   "metadata": {},
   "source": [
    "## Clean column names, Train-Test split"
   ]
  },
  {
   "cell_type": "code",
   "execution_count": null,
   "metadata": {},
   "outputs": [],
   "source": [
    "import pandas as pd\n",
    "import re\n",
    "import pipeline as p\n",
    "\n",
    "%load_ext autoreload\n",
    "%autoreload 2\n",
    "\n",
    "from sklearn.model_selection import train_test_split"
   ]
  },
  {
   "cell_type": "code",
   "execution_count": 4,
   "metadata": {},
   "outputs": [],
   "source": [
    "import util as u"
   ]
  },
  {
   "cell_type": "code",
   "execution_count": 2,
   "metadata": {},
   "outputs": [],
   "source": [
    "def clean_col_names(col):\n",
    "    col = re.sub('%','Pct',col)\n",
    "    col = re.sub('1st','First', col)\n",
    "    col = re.sub('3rd','Third', col)\n",
    "    col = re.sub('4th','Fourth', col)\n",
    "    return col"
   ]
  },
  {
   "cell_type": "code",
   "execution_count": 14,
   "metadata": {},
   "outputs": [],
   "source": [
    "df = p.open_pkl('Data/df_for_model.pkl')\n",
    "df.columns = [clean_col_names(x) for x in df.columns]\n",
    "df['playoff'] = df['playoff'].apply(lambda x: 0 if pd.isna(x) else 1)"
   ]
  },
  {
   "cell_type": "code",
   "execution_count": 15,
   "metadata": {},
   "outputs": [],
   "source": [
    "nadf = u.na_check(df)"
   ]
  },
  {
   "cell_type": "code",
   "execution_count": 16,
   "metadata": {},
   "outputs": [
    {
     "data": {
      "text/html": [
       "<div>\n",
       "<style scoped>\n",
       "    .dataframe tbody tr th:only-of-type {\n",
       "        vertical-align: middle;\n",
       "    }\n",
       "\n",
       "    .dataframe tbody tr th {\n",
       "        vertical-align: top;\n",
       "    }\n",
       "\n",
       "    .dataframe thead th {\n",
       "        text-align: right;\n",
       "    }\n",
       "</style>\n",
       "<table border=\"1\" class=\"dataframe\">\n",
       "  <thead>\n",
       "    <tr style=\"text-align: right;\">\n",
       "      <th></th>\n",
       "      <th>neutral</th>\n",
       "      <th>playoff</th>\n",
       "      <th>elo1_pre</th>\n",
       "      <th>elo2_pre</th>\n",
       "      <th>elo_prob1</th>\n",
       "      <th>elo_prob2</th>\n",
       "      <th>score1</th>\n",
       "      <th>score2</th>\n",
       "      <th>elo_delta</th>\n",
       "      <th>point_diff</th>\n",
       "      <th>...</th>\n",
       "      <th>SacksO_SA2</th>\n",
       "      <th>Fumbles_SA2</th>\n",
       "      <th>Penalies_SA2</th>\n",
       "      <th>PenY_SA2</th>\n",
       "      <th>ThirdDConv_SA2</th>\n",
       "      <th>ThirdDAtt_SA2</th>\n",
       "      <th>FourthDAtt_SA2</th>\n",
       "      <th>PassCompPct_SA2</th>\n",
       "      <th>PassRating_SA2</th>\n",
       "      <th>TimePossMins_SA2</th>\n",
       "    </tr>\n",
       "  </thead>\n",
       "  <tbody>\n",
       "    <tr>\n",
       "      <th>2686</th>\n",
       "      <td>0</td>\n",
       "      <td>0</td>\n",
       "      <td>1505.564971</td>\n",
       "      <td>1373.987153</td>\n",
       "      <td>0.756133</td>\n",
       "      <td>0.243867</td>\n",
       "      <td>29.0</td>\n",
       "      <td>7.0</td>\n",
       "      <td>14.038498</td>\n",
       "      <td>22.0</td>\n",
       "      <td>...</td>\n",
       "      <td>4.0</td>\n",
       "      <td>2.0</td>\n",
       "      <td>4.0</td>\n",
       "      <td>40.0</td>\n",
       "      <td>5.0</td>\n",
       "      <td>13.0</td>\n",
       "      <td>2.0</td>\n",
       "      <td>65.0</td>\n",
       "      <td>82.916667</td>\n",
       "      <td>29.433333</td>\n",
       "    </tr>\n",
       "    <tr>\n",
       "      <th>2694</th>\n",
       "      <td>0</td>\n",
       "      <td>0</td>\n",
       "      <td>1430.442797</td>\n",
       "      <td>1508.519331</td>\n",
       "      <td>0.481190</td>\n",
       "      <td>0.518810</td>\n",
       "      <td>17.0</td>\n",
       "      <td>19.0</td>\n",
       "      <td>-10.510358</td>\n",
       "      <td>-2.0</td>\n",
       "      <td>...</td>\n",
       "      <td>NaN</td>\n",
       "      <td>NaN</td>\n",
       "      <td>NaN</td>\n",
       "      <td>NaN</td>\n",
       "      <td>NaN</td>\n",
       "      <td>NaN</td>\n",
       "      <td>NaN</td>\n",
       "      <td>NaN</td>\n",
       "      <td>NaN</td>\n",
       "      <td>NaN</td>\n",
       "    </tr>\n",
       "  </tbody>\n",
       "</table>\n",
       "<p>2 rows × 69 columns</p>\n",
       "</div>"
      ],
      "text/plain": [
       "      neutral  playoff     elo1_pre     elo2_pre  elo_prob1  elo_prob2  \\\n",
       "2686        0        0  1505.564971  1373.987153   0.756133   0.243867   \n",
       "2694        0        0  1430.442797  1508.519331   0.481190   0.518810   \n",
       "\n",
       "      score1  score2  elo_delta  point_diff        ...        SacksO_SA2  \\\n",
       "2686    29.0     7.0  14.038498        22.0        ...               4.0   \n",
       "2694    17.0    19.0 -10.510358        -2.0        ...               NaN   \n",
       "\n",
       "     Fumbles_SA2  Penalies_SA2  PenY_SA2 ThirdDConv_SA2 ThirdDAtt_SA2  \\\n",
       "2686         2.0           4.0      40.0            5.0          13.0   \n",
       "2694         NaN           NaN       NaN            NaN           NaN   \n",
       "\n",
       "      FourthDAtt_SA2  PassCompPct_SA2  PassRating_SA2  TimePossMins_SA2  \n",
       "2686             2.0             65.0       82.916667         29.433333  \n",
       "2694             NaN              NaN             NaN               NaN  \n",
       "\n",
       "[2 rows x 69 columns]"
      ]
     },
     "execution_count": 16,
     "metadata": {},
     "output_type": "execute_result"
    }
   ],
   "source": [
    "nadf[nadf['Week'] != 1].head()"
   ]
  },
  {
   "cell_type": "code",
   "execution_count": 19,
   "metadata": {},
   "outputs": [],
   "source": [
    "p.pkl_this('Data/df_for_model_cleaned.pkl', df)"
   ]
  },
  {
   "cell_type": "markdown",
   "metadata": {},
   "source": [
    "### Train-Test Split"
   ]
  },
  {
   "cell_type": "code",
   "execution_count": 20,
   "metadata": {},
   "outputs": [],
   "source": [
    "y = df['point_diff']\n",
    "X = df.drop(columns='point_diff')\n",
    "X_train, X_test, y_train, y_test = train_test_split(X, y, test_size=0.25, random_state=12)\n",
    "# train_df = X_train.join(y_train)\n",
    "# test_df = X_test.join(y_test)\n",
    "\n",
    "X_train.reset_index(inplace=True, drop=True)\n",
    "X_test.reset_index(inplace=True, drop=True)\n",
    "y_train.reset_index(inplace=True, drop=True)\n",
    "y_test.reset_index(inplace=True, drop=True)\n",
    "\n",
    "p.pkl_this('Data/X_train.pkl', X_train)\n",
    "p.pkl_this('Data/y_train.pkl', y_train)\n",
    "p.pkl_this('Data/X_test.pkl', X_test)\n",
    "p.pkl_this('Data/y_test.pkl', y_test)"
   ]
  }
 ],
 "metadata": {
  "kernelspec": {
   "display_name": "Python 3",
   "language": "python",
   "name": "python3"
  },
  "language_info": {
   "codemirror_mode": {
    "name": "ipython",
    "version": 3
   },
   "file_extension": ".py",
   "mimetype": "text/x-python",
   "name": "python",
   "nbconvert_exporter": "python",
   "pygments_lexer": "ipython3",
   "version": "3.6.6"
  }
 },
 "nbformat": 4,
 "nbformat_minor": 2
}
