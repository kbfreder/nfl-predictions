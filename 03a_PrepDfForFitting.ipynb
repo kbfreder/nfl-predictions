{
 "cells": [
  {
   "cell_type": "markdown",
   "metadata": {},
   "source": [
    "## Clean column names, Train-Test split"
   ]
  },
  {
   "cell_type": "code",
   "execution_count": 1,
   "metadata": {},
   "outputs": [],
   "source": [
    "import pandas as pd\n",
    "import re\n",
    "import pipeline as p\n",
    "\n",
    "%load_ext autoreload\n",
    "%autoreload 2\n",
    "\n",
    "from sklearn.model_selection import train_test_split"
   ]
  },
  {
   "cell_type": "code",
   "execution_count": 8,
   "metadata": {},
   "outputs": [],
   "source": [
    "df = p.open_pkl('Data/df_for_model.pkl')"
   ]
  },
  {
   "cell_type": "code",
   "execution_count": 3,
   "metadata": {},
   "outputs": [],
   "source": [
    "def clean_col_names(col):\n",
    "    col = re.sub('%','Pct',col)\n",
    "    col = re.sub('1st','First', col)\n",
    "    col = re.sub('3rd','Third', col)\n",
    "    col = re.sub('4th','Fourth', col)\n",
    "    return col"
   ]
  },
  {
   "cell_type": "code",
   "execution_count": 9,
   "metadata": {},
   "outputs": [],
   "source": [
    "df.columns = [clean_col_names(x) for x in df.columns]"
   ]
  },
  {
   "cell_type": "code",
   "execution_count": 15,
   "metadata": {},
   "outputs": [],
   "source": [
    "# p.pkl_this('Data/model_df2.pkl', df_orig)\n",
    "p.pkl_this('Data/df_for_model_cleaned.pkl', df)"
   ]
  },
  {
   "cell_type": "markdown",
   "metadata": {},
   "source": [
    "### Train-Test Split"
   ]
  },
  {
   "cell_type": "code",
   "execution_count": 10,
   "metadata": {},
   "outputs": [],
   "source": [
    "# df['Ones'] = np.ones((len(df),)) # what the hell was this for?\n",
    "# num_cols = df.columns[df.dtypes != 'object']\n",
    "# cols_to_exclude = ['date','OT','week','result1','season','neutral','elo_prob1','elo_delta1','Ones','score1','score2']\n",
    "# all_cols = list(np.setdiff1d(num_cols, cols_to_exclude))"
   ]
  },
  {
   "cell_type": "code",
   "execution_count": 10,
   "metadata": {},
   "outputs": [],
   "source": [
    "y = df['point_diff']\n",
    "X = df.drop(columns='point_diff')\n",
    "X_train, X_test, y_train, y_test = train_test_split(X, y, test_size=0.25, random_state=12)\n",
    "# train_df = X_train.join(y_train)\n",
    "# test_df = X_test.join(y_test)"
   ]
  },
  {
   "cell_type": "code",
   "execution_count": 16,
   "metadata": {},
   "outputs": [],
   "source": [
    "p.pkl_this('Data/X_train.pkl', X_train)\n",
    "p.pkl_this('Data/y_train.pkl', y_train)\n",
    "p.pkl_this('Data/X_test.pkl', X_test)\n",
    "p.pkl_this('Data/y_test.pkl', y_test)"
   ]
  },
  {
   "cell_type": "code",
   "execution_count": null,
   "metadata": {},
   "outputs": [],
   "source": []
  }
 ],
 "metadata": {
  "kernelspec": {
   "display_name": "Python 3",
   "language": "python",
   "name": "python3"
  },
  "language_info": {
   "codemirror_mode": {
    "name": "ipython",
    "version": 3
   },
   "file_extension": ".py",
   "mimetype": "text/x-python",
   "name": "python",
   "nbconvert_exporter": "python",
   "pygments_lexer": "ipython3",
   "version": "3.6.6"
  }
 },
 "nbformat": 4,
 "nbformat_minor": 2
}
