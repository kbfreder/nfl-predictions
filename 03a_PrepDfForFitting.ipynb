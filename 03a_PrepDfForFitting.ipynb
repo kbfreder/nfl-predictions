{
 "cells": [
  {
   "cell_type": "markdown",
   "metadata": {},
   "source": [
    "## Clean column names, Train-Test split"
   ]
  },
  {
   "cell_type": "code",
   "execution_count": 1,
   "metadata": {},
   "outputs": [],
   "source": [
    "import pandas as pd\n",
    "import re\n",
    "import pipeline as p\n",
    "\n",
    "%load_ext autoreload\n",
    "%autoreload 2"
   ]
  },
  {
   "cell_type": "code",
   "execution_count": 3,
   "metadata": {},
   "outputs": [],
   "source": [
    "df_orig = p.open_pkl('Data/merged_by_game_df.pkl')"
   ]
  },
  {
   "cell_type": "code",
   "execution_count": 4,
   "metadata": {},
   "outputs": [],
   "source": [
    "def clean_col_names(col):\n",
    "    col = re.sub('%','Pct',col)\n",
    "    col = re.sub('1st','First', col)\n",
    "    col = re.sub('3rd','Third', col)\n",
    "    col = re.sub('4th','Fourth', col)\n",
    "    return col"
   ]
  },
  {
   "cell_type": "code",
   "execution_count": 5,
   "metadata": {},
   "outputs": [],
   "source": [
    "df_orig.columns = [clean_col_names(x) for x in df_orig.columns]"
   ]
  },
  {
   "cell_type": "code",
   "execution_count": 6,
   "metadata": {},
   "outputs": [
    {
     "data": {
      "text/plain": [
       "Index(['date', 'season', 'neutral', 'playoff', 'team1', 'team2', 'elo1',\n",
       "       'elo2', 'elo_prob1', 'score1', 'score2', 'result1', 'elo_delta1', 'OT',\n",
       "       'time', 'week', 'WinPct1', 'TimePossMins1', 'FirstD_SA1', 'PassY_SA1',\n",
       "       'PtsOpp_SA1', 'PtsTm_SA1', 'RushY_SA1', 'TO_SA1', 'DefTO_SA1',\n",
       "       'TotY_SA1', 'RushAtt_SA1', 'RushTDs_SA1', 'PassCmp_SA1', 'PassAtt_SA1',\n",
       "       'PassTDs_SA1', 'INT_SA1', 'SacksO_SA1', 'Fumbles_SA1', 'Penalies_SA1',\n",
       "       'PenY_SA1', 'ThirdDConv_SA1', 'ThirdDAtt_SA1', 'FourthDAtt_SA1',\n",
       "       'PassCompPct_SA1', 'PassRating_SA1', 'WinPct2', 'TimePossMins2',\n",
       "       'FirstD_SA2', 'PassY_SA2', 'PtsOpp_SA2', 'PtsTm_SA2', 'RushY_SA2',\n",
       "       'TO_SA2', 'DefTO_SA2', 'TotY_SA2', 'RushAtt_SA2', 'RushTDs_SA2',\n",
       "       'PassCmp_SA2', 'PassAtt_SA2', 'PassTDs_SA2', 'INT_SA2', 'SacksO_SA2',\n",
       "       'Fumbles_SA2', 'Penalies_SA2', 'PenY_SA2', 'ThirdDConv_SA2',\n",
       "       'ThirdDAtt_SA2', 'FourthDAtt_SA2', 'PassCompPct_SA2', 'PassRating_SA2'],\n",
       "      dtype='object')"
      ]
     },
     "execution_count": 6,
     "metadata": {},
     "output_type": "execute_result"
    }
   ],
   "source": [
    "df_orig.columns"
   ]
  },
  {
   "cell_type": "code",
   "execution_count": 7,
   "metadata": {},
   "outputs": [],
   "source": [
    "df = df_orig.dropna()"
   ]
  },
  {
   "cell_type": "code",
   "execution_count": 9,
   "metadata": {},
   "outputs": [],
   "source": [
    "y = df[['elo_delta1']]\n",
    "df['Ones'] = np.ones((len(df),))"
   ]
  },
  {
   "cell_type": "code",
   "execution_count": 21,
   "metadata": {},
   "outputs": [],
   "source": [
    "p.pkl_this('Data/model_df2.pkl', df_orig)\n",
    "p.pkl_this('Data/model_df3.pkl', df)"
   ]
  },
  {
   "cell_type": "markdown",
   "metadata": {},
   "source": [
    "### Train-Test Split"
   ]
  },
  {
   "cell_type": "code",
   "execution_count": 10,
   "metadata": {},
   "outputs": [],
   "source": [
    "num_cols = df.columns[df.dtypes != 'object']"
   ]
  },
  {
   "cell_type": "code",
   "execution_count": 15,
   "metadata": {},
   "outputs": [],
   "source": [
    "cols_to_exclude = ['date','OT','week','result1','season','neutral','elo_prob1','elo_delta1','Ones','score1','score2']"
   ]
  },
  {
   "cell_type": "code",
   "execution_count": 16,
   "metadata": {},
   "outputs": [],
   "source": [
    "all_cols = list(np.setdiff1d(num_cols, cols_to_exclude))"
   ]
  },
  {
   "cell_type": "code",
   "execution_count": 17,
   "metadata": {},
   "outputs": [
    {
     "data": {
      "text/plain": [
       "53"
      ]
     },
     "execution_count": 17,
     "metadata": {},
     "output_type": "execute_result"
    }
   ],
   "source": [
    "len(all_cols)"
   ]
  },
  {
   "cell_type": "code",
   "execution_count": 14,
   "metadata": {
    "collapsed": true
   },
   "outputs": [
    {
     "data": {
      "text/plain": [
       "['DefTO_SA1',\n",
       " 'DefTO_SA2',\n",
       " 'FirstD_SA1',\n",
       " 'FirstD_SA2',\n",
       " 'FourthDAtt_SA1',\n",
       " 'FourthDAtt_SA2',\n",
       " 'Fumbles_SA1',\n",
       " 'Fumbles_SA2',\n",
       " 'INT_SA1',\n",
       " 'INT_SA2',\n",
       " 'PassAtt_SA1',\n",
       " 'PassAtt_SA2',\n",
       " 'PassCmp_SA1',\n",
       " 'PassCmp_SA2',\n",
       " 'PassCompPct_SA1',\n",
       " 'PassCompPct_SA2',\n",
       " 'PassRating_SA1',\n",
       " 'PassRating_SA2',\n",
       " 'PassTDs_SA1',\n",
       " 'PassTDs_SA2',\n",
       " 'PassY_SA1',\n",
       " 'PassY_SA2',\n",
       " 'PenY_SA1',\n",
       " 'PenY_SA2',\n",
       " 'Penalies_SA1',\n",
       " 'Penalies_SA2',\n",
       " 'PtsOpp_SA1',\n",
       " 'PtsOpp_SA2',\n",
       " 'PtsTm_SA1',\n",
       " 'PtsTm_SA2',\n",
       " 'RushAtt_SA1',\n",
       " 'RushAtt_SA2',\n",
       " 'RushTDs_SA1',\n",
       " 'RushTDs_SA2',\n",
       " 'RushY_SA1',\n",
       " 'RushY_SA2',\n",
       " 'SacksO_SA1',\n",
       " 'SacksO_SA2',\n",
       " 'TO_SA1',\n",
       " 'TO_SA2',\n",
       " 'ThirdDAtt_SA1',\n",
       " 'ThirdDAtt_SA2',\n",
       " 'ThirdDConv_SA1',\n",
       " 'ThirdDConv_SA2',\n",
       " 'TimePossMins1',\n",
       " 'TimePossMins2',\n",
       " 'TotY_SA1',\n",
       " 'TotY_SA2',\n",
       " 'WinPct1',\n",
       " 'WinPct2',\n",
       " 'elo1',\n",
       " 'elo2',\n",
       " 'playoff',\n",
       " 'score1',\n",
       " 'score2']"
      ]
     },
     "execution_count": 14,
     "metadata": {},
     "output_type": "execute_result"
    }
   ],
   "source": [
    "all_cols"
   ]
  },
  {
   "cell_type": "code",
   "execution_count": 22,
   "metadata": {},
   "outputs": [],
   "source": [
    "p.pkl_this('Data/all_cols.pkl', all_cols)"
   ]
  },
  {
   "cell_type": "code",
   "execution_count": 19,
   "metadata": {},
   "outputs": [],
   "source": [
    "X = df[all_cols + ['Ones']]\n",
    "X_train, X_test, y_train, y_test = train_test_split(X, y, test_size=0.25, random_state=12)\n",
    "train_df = X_train.join(y_train)\n",
    "test_df = X_test.join(y_test)"
   ]
  },
  {
   "cell_type": "code",
   "execution_count": 20,
   "metadata": {},
   "outputs": [],
   "source": [
    "p.pkl_this('Data/train_df.pkl', train_df)\n",
    "p.pkl_this('Data/test_df.pkl', test_df)"
   ]
  }
 ],
 "metadata": {
  "kernelspec": {
   "display_name": "Python 3",
   "language": "python",
   "name": "python3"
  },
  "language_info": {
   "codemirror_mode": {
    "name": "ipython",
    "version": 3
   },
   "file_extension": ".py",
   "mimetype": "text/x-python",
   "name": "python",
   "nbconvert_exporter": "python",
   "pygments_lexer": "ipython3",
   "version": "3.5.6"
  }
 },
 "nbformat": 4,
 "nbformat_minor": 2
}
