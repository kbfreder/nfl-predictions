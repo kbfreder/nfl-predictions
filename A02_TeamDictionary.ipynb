{
 "cells": [
  {
   "cell_type": "markdown",
   "metadata": {},
   "source": [
    "## One dictionary to rule them all\n",
    " \n",
    "Had previously created team_dictionary for specific years. Need one main one to work with merged data and incorporate Elo table."
   ]
  },
  {
   "cell_type": "code",
   "execution_count": 1,
   "metadata": {},
   "outputs": [],
   "source": [
    "import pandas as pd\n",
    "import re\n",
    "# from collections import defaultdict\n",
    "import pipeline as p\n",
    "\n",
    "%load_ext autoreload\n",
    "%autoreload 2"
   ]
  },
  {
   "cell_type": "code",
   "execution_count": 2,
   "metadata": {},
   "outputs": [],
   "source": [
    "import numpy as np"
   ]
  },
  {
   "cell_type": "code",
   "execution_count": null,
   "metadata": {},
   "outputs": [],
   "source": [
    "# team_dict = p.open_pkl('team_dictionary.pkl')\n",
    "# url_team_dict = p.open_pkl('url_team_dict.pkl') \n",
    "# elo_stats_team_dict = p.open_pkl('elo_stats_team_dict.pkl')"
   ]
  },
  {
   "cell_type": "markdown",
   "metadata": {},
   "source": [
    "### Manually create full name team dictionary"
   ]
  },
  {
   "cell_type": "code",
   "execution_count": 3,
   "metadata": {},
   "outputs": [],
   "source": [
    "# Full team name --> Stats Boxscore abbrev. Includes all teams over years 2008-2018\n",
    "full_name_team_dict = {'Arizona Cardinals': 'ARI',\n",
    " 'Atlanta Falcons': 'ATL',\n",
    " 'Baltimore Ravens': 'BAL',\n",
    " 'Buffalo Bills': 'BUF',\n",
    " 'Carolina Panthers': 'CAR',\n",
    " 'Chicago Bears': 'CHI',\n",
    " 'Cincinnati Bengals': 'CIN',\n",
    " 'Cleveland Browns': 'CLE',\n",
    " 'Dallas Cowboys': 'DAL',\n",
    " 'Denver Broncos': 'DEN',\n",
    " 'Detroit Lions': 'DET',\n",
    " 'Green Bay Packers': 'GNB',\n",
    " 'Houston Texans': 'HOU',\n",
    " 'Indianapolis Colts': 'IND',\n",
    " 'Jacksonville Jaguars': 'JAX',\n",
    " 'Kansas City Chiefs': 'KAN',\n",
    " 'Los Angeles Chargers': 'LAC',\n",
    " 'Los Angeles Rams': 'LAR',\n",
    " 'Miami Dolphins': 'MIA',\n",
    " 'Minnesota Vikings': 'MIN',\n",
    " 'New England Patriots': 'NWE',\n",
    " 'New Orleans Saints': 'NOR',\n",
    " 'New York Giants': 'NYG',\n",
    " 'New York Jets': 'NYJ',\n",
    " 'Oakland Raiders': 'OAK',\n",
    " 'Philadelphia Eagles': 'PHI',\n",
    " 'Pittsburgh Steelers': 'PIT',\n",
    " 'San Diego Chargers' : 'SDG',\n",
    " 'San Francisco 49ers': 'SFO',\n",
    " 'St. Louis Rams': 'STL',\n",
    " 'Seattle Seahawks': 'SEA',\n",
    " 'Tampa Bay Buccaneers': 'TAM',\n",
    " 'Tennessee Titans': 'TEN',\n",
    " 'Washington Redskins': 'WAS'}"
   ]
  },
  {
   "cell_type": "code",
   "execution_count": 18,
   "metadata": {},
   "outputs": [],
   "source": [
    "p.pkl_this('full_name_team_dict.pkl', full_name_team_dict)"
   ]
  },
  {
   "cell_type": "markdown",
   "metadata": {},
   "source": [
    "### Dctionary for Stats: all years, different abbrevs --> one abbrev for all years\n",
    "this only applies to teams that moved"
   ]
  },
  {
   "cell_type": "code",
   "execution_count": 4,
   "metadata": {},
   "outputs": [],
   "source": [
    "moved_teams_corr_dict = {\n",
    "    'LAR':'RAM',\n",
    "    'STL':'RAM',\n",
    "    'LAC':'CHG',\n",
    "    'SDG':'CHG'\n",
    "}"
   ]
  },
  {
   "cell_type": "code",
   "execution_count": 19,
   "metadata": {},
   "outputs": [],
   "source": [
    "p.pkl_this('moved_teams_corr_dict.pkl', moved_teams_corr_dict)"
   ]
  },
  {
   "cell_type": "markdown",
   "metadata": {},
   "source": [
    "### Elo --> Stats dictionary"
   ]
  },
  {
   "cell_type": "code",
   "execution_count": 5,
   "metadata": {},
   "outputs": [],
   "source": [
    "stats_teams = [x for x in full_name_team_dict.values()]"
   ]
  },
  {
   "cell_type": "code",
   "execution_count": 6,
   "metadata": {},
   "outputs": [],
   "source": [
    "elo_df = p.open_pkl('elo_df.pkl')\n",
    "elo_teams = elo_df['team1'].unique()\n",
    "elo_teams = [x for x in elo_teams]"
   ]
  },
  {
   "cell_type": "code",
   "execution_count": 7,
   "metadata": {},
   "outputs": [],
   "source": [
    "same = list(set(stats_teams).intersection(elo_teams))\n",
    "diff = np.setdiff1d(stats_teams, elo_teams)"
   ]
  },
  {
   "cell_type": "code",
   "execution_count": 8,
   "metadata": {
    "collapsed": true
   },
   "outputs": [
    {
     "data": {
      "text/plain": [
       "['MIN',\n",
       " 'IND',\n",
       " 'PHI',\n",
       " 'NYJ',\n",
       " 'ATL',\n",
       " 'ARI',\n",
       " 'CIN',\n",
       " 'BAL',\n",
       " 'CLE',\n",
       " 'DET',\n",
       " 'NYG',\n",
       " 'TEN',\n",
       " 'LAC',\n",
       " 'CAR',\n",
       " 'PIT',\n",
       " 'OAK',\n",
       " 'CHI',\n",
       " 'DEN',\n",
       " 'JAX',\n",
       " 'MIA',\n",
       " 'HOU',\n",
       " 'SEA',\n",
       " 'DAL',\n",
       " 'BUF',\n",
       " 'LAR']"
      ]
     },
     "execution_count": 8,
     "metadata": {},
     "output_type": "execute_result"
    }
   ],
   "source": [
    "same"
   ]
  },
  {
   "cell_type": "code",
   "execution_count": 9,
   "metadata": {},
   "outputs": [
    {
     "data": {
      "text/plain": [
       "array(['GNB', 'KAN', 'NOR', 'NWE', 'SDG', 'SFO', 'STL', 'TAM', 'WAS'],\n",
       "      dtype='<U3')"
      ]
     },
     "execution_count": 9,
     "metadata": {},
     "output_type": "execute_result"
    }
   ],
   "source": [
    "diff"
   ]
  },
  {
   "cell_type": "code",
   "execution_count": 10,
   "metadata": {},
   "outputs": [
    {
     "data": {
      "text/plain": [
       "['GB', 'KC', 'NE', 'NO', 'SF', 'TB', 'WSH']"
      ]
     },
     "execution_count": 10,
     "metadata": {},
     "output_type": "execute_result"
    }
   ],
   "source": [
    "elo_subtract = [x for x in elo_teams if x not in same]\n",
    "elo_subtract.sort()\n",
    "\n",
    "elo_subtract"
   ]
  },
  {
   "cell_type": "code",
   "execution_count": 11,
   "metadata": {},
   "outputs": [
    {
     "data": {
      "text/plain": [
       "array(['GNB', 'KAN', 'NOR', 'NWE', 'SFO', 'TAM', 'WAS'],\n",
       "      dtype='<U3')"
      ]
     },
     "execution_count": 11,
     "metadata": {},
     "output_type": "execute_result"
    }
   ],
   "source": [
    "# elo has converted San Diego and St. Louis to LAC and LAR, so can remove them from diff\n",
    "i1 = np.where(diff=='SDG')\n",
    "i2 = np.where(diff=='STL')\n",
    "diff = np.delete(diff, [i1,i2])\n",
    "diff"
   ]
  },
  {
   "cell_type": "code",
   "execution_count": 12,
   "metadata": {},
   "outputs": [],
   "source": [
    "# Manually create 'diff_elos' \n",
    "# this list is the Elo team abbreviation for teams whose stats (boxscore) abbreviations are different)\n",
    "# order is that in 'diff' list\n",
    "diff_elos = ['GB','KC','NO','NE','SF','TB','WSH']"
   ]
  },
  {
   "cell_type": "code",
   "execution_count": 13,
   "metadata": {},
   "outputs": [],
   "source": [
    "same_elos = [x for x in same]"
   ]
  },
  {
   "cell_type": "code",
   "execution_count": 14,
   "metadata": {},
   "outputs": [],
   "source": [
    "# Can't just \"add\" the lists because the dtype of diff is weird ('<U3'). So, a work-around:\n",
    "\n",
    "stats_teams2 = same\n",
    "stats_teams2.extend(diff)\n",
    "\n",
    "elo_teams2 = same_elos\n",
    "elo_teams2.extend(diff_elos)\n",
    "\n",
    "elo_stats_team_dict = {}\n",
    "\n",
    "for i in range(len(stats_teams2)):\n",
    "    elo_stats_team_dict[elo_teams2[i]] = stats_teams2[i]"
   ]
  },
  {
   "cell_type": "code",
   "execution_count": 15,
   "metadata": {},
   "outputs": [
    {
     "data": {
      "text/plain": [
       "{'ARI': 'ARI',\n",
       " 'ATL': 'ATL',\n",
       " 'BAL': 'BAL',\n",
       " 'BUF': 'BUF',\n",
       " 'CAR': 'CAR',\n",
       " 'CHI': 'CHI',\n",
       " 'CIN': 'CIN',\n",
       " 'CLE': 'CLE',\n",
       " 'DAL': 'DAL',\n",
       " 'DEN': 'DEN',\n",
       " 'DET': 'DET',\n",
       " 'GB': 'GNB',\n",
       " 'HOU': 'HOU',\n",
       " 'IND': 'IND',\n",
       " 'JAX': 'JAX',\n",
       " 'KC': 'KAN',\n",
       " 'LAC': 'LAC',\n",
       " 'LAR': 'LAR',\n",
       " 'MIA': 'MIA',\n",
       " 'MIN': 'MIN',\n",
       " 'NE': 'NWE',\n",
       " 'NO': 'NOR',\n",
       " 'NYG': 'NYG',\n",
       " 'NYJ': 'NYJ',\n",
       " 'OAK': 'OAK',\n",
       " 'PHI': 'PHI',\n",
       " 'PIT': 'PIT',\n",
       " 'SEA': 'SEA',\n",
       " 'SF': 'SFO',\n",
       " 'TB': 'TAM',\n",
       " 'TEN': 'TEN',\n",
       " 'WSH': 'WAS'}"
      ]
     },
     "execution_count": 15,
     "metadata": {},
     "output_type": "execute_result"
    }
   ],
   "source": [
    "elo_stats_team_dict"
   ]
  },
  {
   "cell_type": "code",
   "execution_count": 16,
   "metadata": {},
   "outputs": [],
   "source": [
    "# Fix the Chargers & the Rams to my liking\n",
    "elo_stats_team_dict['LAR'] = 'RAM'\n",
    "elo_stats_team_dict['LAC'] = 'CHG'"
   ]
  },
  {
   "cell_type": "code",
   "execution_count": 17,
   "metadata": {},
   "outputs": [],
   "source": [
    "p.pkl_this('elo_stats_team_dict.pkl', elo_stats_team_dict)"
   ]
  },
  {
   "cell_type": "code",
   "execution_count": null,
   "metadata": {},
   "outputs": [],
   "source": []
  }
 ],
 "metadata": {
  "kernelspec": {
   "display_name": "Python 3",
   "language": "python",
   "name": "python3"
  },
  "language_info": {
   "codemirror_mode": {
    "name": "ipython",
    "version": 3
   },
   "file_extension": ".py",
   "mimetype": "text/x-python",
   "name": "python",
   "nbconvert_exporter": "python",
   "pygments_lexer": "ipython3",
   "version": "3.5.6"
  }
 },
 "nbformat": 4,
 "nbformat_minor": 2
}
