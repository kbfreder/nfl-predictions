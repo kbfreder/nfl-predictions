{
 "cells": [
  {
   "cell_type": "markdown",
   "metadata": {},
   "source": [
    "## Clean Boxscore Data & Merge with Season Data"
   ]
  },
  {
   "cell_type": "code",
   "execution_count": 1,
   "metadata": {},
   "outputs": [],
   "source": [
    "import pandas as pd\n",
    "import os\n",
    "import pickle\n",
    "import pipeline as p\n",
    "import datetime as dt\n",
    "\n",
    "# from collections import defaultdict\n",
    "\n",
    "%load_ext autoreload\n",
    "%autoreload 2\n",
    "\n",
    "pd.set_eng_float_format(accuracy=1, use_eng_prefix=True)"
   ]
  },
  {
   "cell_type": "code",
   "execution_count": null,
   "metadata": {},
   "outputs": [],
   "source": [
    "url_team_dict = p.open_pkl('TeamDicts/url_team_dict.pkl') \n",
    "\n",
    "master_df = p.open_pkl('Data/master_df.pkl')\n",
    "# master_df = p.open_pkl('Data/season_stats_df.pkl')\n",
    "# master_df = p.open_pkl('Data/season_stats_df_2018.pkl')\n",
    "\n",
    "dir_name = 'Data/BxscHtmls/'\n",
    "# os.chdir('BxscHtmls/')"
   ]
  },
  {
   "cell_type": "code",
   "execution_count": null,
   "metadata": {},
   "outputs": [],
   "source": [
    "# For all files in directory\n",
    "bxsc_df = pd.DataFrame()\n",
    "\n",
    "for f in os.listdir(dir_name):\n",
    "    count = 0\n",
    "    bxsc_html = p.open_pkl(dir_name + f)\n",
    "    year = int(f[-8:-4])\n",
    "    print(year)\n",
    "    for key, val in bxsc_html.items():\n",
    "        week_date = dt.datetime.strptime(key.split(\"/\")[2][:8], '%Y%m%d')\n",
    "        team = url_team_dict[key[-7:-4]][2]\n",
    "        week = master_df[(master_df['Date'] == week_date) & (master_df['Team'] == team)]['Week'].values[0]\n",
    "\n",
    "        df = p.clean_bxsc_data(val, week, year)\n",
    "\n",
    "        # Append boxscore df to bxsc_df\n",
    "        bxsc_df = bxsc_df.append(df)\n",
    "\n",
    "        count += 1\n",
    "        if count%20 == 0:\n",
    "            print(count)\n",
    "    \n",
    "print ('Done!')\n",
    "\n",
    "p.pkl_this('../Data/bxsc_df.pkl', bxsc_df)"
   ]
  },
  {
   "cell_type": "code",
   "execution_count": null,
   "metadata": {},
   "outputs": [],
   "source": [
    "# for a single year. Must specify filename\n",
    "\n",
    "f = 'bxsc_html_2018.pkl'\n",
    "\n",
    "count = 0\n",
    "bxsc_html = p.open_pkl(dir_name + f)\n",
    "year = int(f[-8:-4])\n",
    "# print(year)\n",
    "\n",
    "bxsc_df = pd.DataFrame()\n",
    "\n",
    "for key, val in bxsc_html.items():\n",
    "    week_date = dt.datetime.strptime(key.split(\"/\")[2][:8], '%Y%m%d')\n",
    "\n",
    "    if week_date < dt.datetime.now():\n",
    "        print(week_date)\n",
    "        team = url_team_dict[key[-7:-4]][2]\n",
    "        print(team)\n",
    "        week = master_df[(master_df['Date'] == week_date) & (master_df['Team'] == team)]['Week'].values[0]\n",
    "        try:\n",
    "            df = p.clean_bxsc_data(val, week, year)\n",
    "\n",
    "            # Append boxscore df to bxsc_df\n",
    "            bxsc_df = bxsc_df.append(df)\n",
    "\n",
    "            count += 1\n",
    "            if count%20 == 0:\n",
    "                print(count)\n",
    "        except:\n",
    "            print('Error')\n",
    "    \n",
    "\n",
    "print ('Done!')\n",
    "\n",
    "p.pkl_this(f'Data/bxsc_df_{str(year)}.pkl', bxsc_df)"
   ]
  },
  {
   "cell_type": "code",
   "execution_count": null,
   "metadata": {},
   "outputs": [],
   "source": [
    "# Merge\n",
    "df = pd.merge(master_df, bxsc_df, how='left', on=['Team', 'Week','Year'])"
   ]
  },
  {
   "cell_type": "markdown",
   "metadata": {},
   "source": [
    "#### Check"
   ]
  },
  {
   "cell_type": "code",
   "execution_count": null,
   "metadata": {},
   "outputs": [],
   "source": [
    "df.columns"
   ]
  },
  {
   "cell_type": "code",
   "execution_count": null,
   "metadata": {},
   "outputs": [],
   "source": [
    "len(master_df), len(df)"
   ]
  },
  {
   "cell_type": "code",
   "execution_count": null,
   "metadata": {},
   "outputs": [],
   "source": [
    "df.rename(columns={'1stD-O':'1stD', 'TO-D':'DefTO'}, inplace=True)"
   ]
  },
  {
   "cell_type": "markdown",
   "metadata": {},
   "source": [
    "### Save"
   ]
  },
  {
   "cell_type": "code",
   "execution_count": null,
   "metadata": {},
   "outputs": [],
   "source": [
    "# p.pkl_this('../merged_df_2018.pkl', df)\n",
    "p.pkl_this('../merged_df.pkl', df)"
   ]
  }
 ],
 "metadata": {
  "kernelspec": {
   "display_name": "Python 3",
   "language": "python",
   "name": "python3"
  },
  "language_info": {
   "codemirror_mode": {
    "name": "ipython",
    "version": 3
   },
   "file_extension": ".py",
   "mimetype": "text/x-python",
   "name": "python",
   "nbconvert_exporter": "python",
   "pygments_lexer": "ipython3",
   "version": "3.6.6"
  }
 },
 "nbformat": 4,
 "nbformat_minor": 2
}
