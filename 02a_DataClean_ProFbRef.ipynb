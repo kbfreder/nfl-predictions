{
 "cells": [
  {
   "cell_type": "code",
   "execution_count": 1,
   "metadata": {},
   "outputs": [],
   "source": [
    "import pandas as pd\n",
    "import re\n",
    "import numpy as np\n",
    "import time\n",
    "import os\n",
    "import pickle\n",
    "import time\n",
    "import pipeline as p\n",
    "\n",
    "from collections import defaultdict\n",
    "\n",
    "%load_ext autoreload\n",
    "%autoreload 2"
   ]
  },
  {
   "cell_type": "code",
   "execution_count": 2,
   "metadata": {},
   "outputs": [],
   "source": [
    "pd.set_eng_float_format(accuracy=1, use_eng_prefix=True)\n",
    "team_dict = p.open_pkl('TeamDicts/team_dictionary.pkl')\n",
    "url_team_dict = p.open_pkl('TeamDicts/url_team_dict.pkl')"
   ]
  },
  {
   "cell_type": "code",
   "execution_count": 5,
   "metadata": {},
   "outputs": [],
   "source": [
    "os.chdir('Data/SeasonHtmls/')"
   ]
  },
  {
   "cell_type": "code",
   "execution_count": 6,
   "metadata": {},
   "outputs": [],
   "source": [
    "master_df = pd.DataFrame()\n",
    "# master_df = p.open_pkl('master_df.pkl')\n",
    "\n",
    "merge_dict = defaultdict(list)\n",
    "# merge_dict = p.open_pkl('merge_dict.pkl')"
   ]
  },
  {
   "cell_type": "markdown",
   "metadata": {},
   "source": [
    "### Read HTML, convert to df, clean, merge"
   ]
  },
  {
   "cell_type": "code",
   "execution_count": 7,
   "metadata": {},
   "outputs": [
    {
     "name": "stdout",
     "output_type": "stream",
     "text": [
      "Processing NOR 2018\n",
      "Processing OAK 2018\n",
      "Processing STL 2018\n",
      "Processing ARI 2018\n",
      "Processing TAM 2018\n",
      "Processing CLE 2018\n",
      "Processing DET 2018\n",
      "Processing DAL 2018\n",
      "Processing IND 2018\n",
      "Processing MIA 2018\n",
      "Processing WAS 2018\n",
      "Processing SDG 2018\n",
      "Processing PIT 2018\n",
      "Processing ATL 2018\n",
      "Processing BAL 2018\n",
      "Processing NWE 2018\n",
      "Processing BUF 2018\n",
      "Processing SEA 2018\n",
      "Processing NYG 2018\n",
      "Processing KAN 2018\n",
      "Processing GNB 2018\n",
      "Processing SFO 2018\n",
      "Processing CHI 2018\n",
      "Processing CIN 2018\n",
      "Processing MIN 2018\n",
      "Processing NYJ 2018\n",
      "Processing DEN 2018\n",
      "Processing HOU 2018\n",
      "Processing JAX 2018\n",
      "Processing CAR 2018\n",
      "Processing PHI 2018\n",
      "Processing TEN 2018\n",
      "Done\n"
     ]
    }
   ],
   "source": [
    "count = 0\n",
    "\n",
    "for f in os.listdir():\n",
    "    if f[0] != '.':\n",
    "        team = url_team_dict[f[:3].lower()][2]\n",
    "        year = int(f[4:8])\n",
    "\n",
    "        if team not in merge_dict[year]:\n",
    "            print('Processing ' + team, year)\n",
    "            html = p.open_pkl(f)\n",
    "            try:\n",
    "                # covert to df & clean \n",
    "                df = p.clean_season_data(html, team, year)\n",
    "\n",
    "                # append to master df\n",
    "                master_df = master_df.append(df, ignore_index=True, sort=True)\n",
    "\n",
    "                # add entry to tsdf_merge_track\n",
    "                merge_dict[year].append(team)\n",
    "                count += 1\n",
    "            except ValueError as e: \n",
    "                print('Error cleaning ' + team, year, e)\n",
    "                p.log_this('Error cleaning ' + team, year, e)\n",
    "\n",
    "#         if count%10 == 0:\n",
    "#             p.pkl_this('../Data/master_df.pkl', master_df)\n",
    "\n",
    "print('Done')    "
   ]
  },
  {
   "cell_type": "code",
   "execution_count": 8,
   "metadata": {},
   "outputs": [
    {
     "data": {
      "text/html": [
       "<div>\n",
       "<style scoped>\n",
       "    .dataframe tbody tr th:only-of-type {\n",
       "        vertical-align: middle;\n",
       "    }\n",
       "\n",
       "    .dataframe tbody tr th {\n",
       "        vertical-align: top;\n",
       "    }\n",
       "\n",
       "    .dataframe thead th {\n",
       "        text-align: right;\n",
       "    }\n",
       "</style>\n",
       "<table border=\"1\" class=\"dataframe\">\n",
       "  <thead>\n",
       "    <tr style=\"text-align: right;\">\n",
       "      <th></th>\n",
       "      <th>1stD-O</th>\n",
       "      <th>Date</th>\n",
       "      <th>Day</th>\n",
       "      <th>Location</th>\n",
       "      <th>OT</th>\n",
       "      <th>Opp</th>\n",
       "      <th>PassY</th>\n",
       "      <th>PtsOpp</th>\n",
       "      <th>PtsTm</th>\n",
       "      <th>Record</th>\n",
       "      <th>Result</th>\n",
       "      <th>RushY</th>\n",
       "      <th>TO</th>\n",
       "      <th>TO-D</th>\n",
       "      <th>Team</th>\n",
       "      <th>Time</th>\n",
       "      <th>TotY</th>\n",
       "      <th>Week</th>\n",
       "      <th>Year</th>\n",
       "      <th>bs</th>\n",
       "    </tr>\n",
       "  </thead>\n",
       "  <tbody>\n",
       "    <tr>\n",
       "      <th>0</th>\n",
       "      <td>26.0</td>\n",
       "      <td>September 9</td>\n",
       "      <td>Sun</td>\n",
       "      <td>NaN</td>\n",
       "      <td>NaN</td>\n",
       "      <td>Tampa Bay Buccaneers</td>\n",
       "      <td>432.0</td>\n",
       "      <td>48.0</td>\n",
       "      <td>40.0</td>\n",
       "      <td>0-1</td>\n",
       "      <td>L</td>\n",
       "      <td>43.0</td>\n",
       "      <td>2.0</td>\n",
       "      <td>NaN</td>\n",
       "      <td>NOR</td>\n",
       "      <td>1:00PM ET</td>\n",
       "      <td>475.0</td>\n",
       "      <td>1</td>\n",
       "      <td>2018</td>\n",
       "      <td>boxscore</td>\n",
       "    </tr>\n",
       "    <tr>\n",
       "      <th>1</th>\n",
       "      <td>18.0</td>\n",
       "      <td>September 16</td>\n",
       "      <td>Sun</td>\n",
       "      <td>NaN</td>\n",
       "      <td>NaN</td>\n",
       "      <td>Cleveland Browns</td>\n",
       "      <td>213.0</td>\n",
       "      <td>18.0</td>\n",
       "      <td>21.0</td>\n",
       "      <td>1-1</td>\n",
       "      <td>W</td>\n",
       "      <td>62.0</td>\n",
       "      <td>2.0</td>\n",
       "      <td>1.0</td>\n",
       "      <td>NOR</td>\n",
       "      <td>1:00PM ET</td>\n",
       "      <td>275.0</td>\n",
       "      <td>2</td>\n",
       "      <td>2018</td>\n",
       "      <td>boxscore</td>\n",
       "    </tr>\n",
       "    <tr>\n",
       "      <th>2</th>\n",
       "      <td>32.0</td>\n",
       "      <td>September 23</td>\n",
       "      <td>Sun</td>\n",
       "      <td>@</td>\n",
       "      <td>OT</td>\n",
       "      <td>Atlanta Falcons</td>\n",
       "      <td>391.0</td>\n",
       "      <td>37.0</td>\n",
       "      <td>43.0</td>\n",
       "      <td>2-1</td>\n",
       "      <td>W</td>\n",
       "      <td>143.0</td>\n",
       "      <td>NaN</td>\n",
       "      <td>NaN</td>\n",
       "      <td>NOR</td>\n",
       "      <td>1:00PM ET</td>\n",
       "      <td>534.0</td>\n",
       "      <td>3</td>\n",
       "      <td>2018</td>\n",
       "      <td>boxscore</td>\n",
       "    </tr>\n",
       "    <tr>\n",
       "      <th>3</th>\n",
       "      <td>25.0</td>\n",
       "      <td>September 30</td>\n",
       "      <td>Sun</td>\n",
       "      <td>@</td>\n",
       "      <td>NaN</td>\n",
       "      <td>New York Giants</td>\n",
       "      <td>219.0</td>\n",
       "      <td>18.0</td>\n",
       "      <td>33.0</td>\n",
       "      <td>3-1</td>\n",
       "      <td>W</td>\n",
       "      <td>170.0</td>\n",
       "      <td>NaN</td>\n",
       "      <td>2.0</td>\n",
       "      <td>NOR</td>\n",
       "      <td>4:25PM ET</td>\n",
       "      <td>389.0</td>\n",
       "      <td>4</td>\n",
       "      <td>2018</td>\n",
       "      <td>boxscore</td>\n",
       "    </tr>\n",
       "    <tr>\n",
       "      <th>4</th>\n",
       "      <td>27.0</td>\n",
       "      <td>October 8</td>\n",
       "      <td>Mon</td>\n",
       "      <td>NaN</td>\n",
       "      <td>NaN</td>\n",
       "      <td>Washington Redskins</td>\n",
       "      <td>349.0</td>\n",
       "      <td>19.0</td>\n",
       "      <td>43.0</td>\n",
       "      <td>4-1</td>\n",
       "      <td>W</td>\n",
       "      <td>98.0</td>\n",
       "      <td>1.0</td>\n",
       "      <td>2.0</td>\n",
       "      <td>NOR</td>\n",
       "      <td>8:15PM ET</td>\n",
       "      <td>447.0</td>\n",
       "      <td>5</td>\n",
       "      <td>2018</td>\n",
       "      <td>boxscore</td>\n",
       "    </tr>\n",
       "  </tbody>\n",
       "</table>\n",
       "</div>"
      ],
      "text/plain": [
       "   1stD-O          Date  Day Location   OT                   Opp  PassY  \\\n",
       "0    26.0   September 9  Sun      NaN  NaN  Tampa Bay Buccaneers  432.0   \n",
       "1    18.0  September 16  Sun      NaN  NaN      Cleveland Browns  213.0   \n",
       "2    32.0  September 23  Sun        @   OT       Atlanta Falcons  391.0   \n",
       "3    25.0  September 30  Sun        @  NaN       New York Giants  219.0   \n",
       "4    27.0     October 8  Mon      NaN  NaN   Washington Redskins  349.0   \n",
       "\n",
       "   PtsOpp  PtsTm Record Result  RushY   TO  TO-D Team       Time   TotY  Week  \\\n",
       "0    48.0   40.0    0-1      L   43.0  2.0   NaN  NOR  1:00PM ET  475.0     1   \n",
       "1    18.0   21.0    1-1      W   62.0  2.0   1.0  NOR  1:00PM ET  275.0     2   \n",
       "2    37.0   43.0    2-1      W  143.0  NaN   NaN  NOR  1:00PM ET  534.0     3   \n",
       "3    18.0   33.0    3-1      W  170.0  NaN   2.0  NOR  4:25PM ET  389.0     4   \n",
       "4    19.0   43.0    4-1      W   98.0  1.0   2.0  NOR  8:15PM ET  447.0     5   \n",
       "\n",
       "   Year        bs  \n",
       "0  2018  boxscore  \n",
       "1  2018  boxscore  \n",
       "2  2018  boxscore  \n",
       "3  2018  boxscore  \n",
       "4  2018  boxscore  "
      ]
     },
     "execution_count": 8,
     "metadata": {},
     "output_type": "execute_result"
    }
   ],
   "source": [
    "master_df.head()"
   ]
  },
  {
   "cell_type": "code",
   "execution_count": 9,
   "metadata": {},
   "outputs": [],
   "source": [
    "# p.pkl_this('../Data/merge_dict.pkl', merge_dict)"
   ]
  },
  {
   "cell_type": "code",
   "execution_count": 10,
   "metadata": {},
   "outputs": [
    {
     "data": {
      "text/plain": [
       "520"
      ]
     },
     "execution_count": 10,
     "metadata": {},
     "output_type": "execute_result"
    }
   ],
   "source": [
    "len(master_df)"
   ]
  },
  {
   "cell_type": "markdown",
   "metadata": {},
   "source": [
    "Check that we have 32 teams for each season:"
   ]
  },
  {
   "cell_type": "code",
   "execution_count": 11,
   "metadata": {},
   "outputs": [
    {
     "name": "stdout",
     "output_type": "stream",
     "text": [
      "2018 32\n"
     ]
    }
   ],
   "source": [
    "for k,v in merge_dict.items():\n",
    "    print(k, len(v))"
   ]
  },
  {
   "cell_type": "markdown",
   "metadata": {},
   "source": [
    "Missing team from 2016 & 2017. Figure out which one it is, and manually add it to master_df"
   ]
  },
  {
   "cell_type": "code",
   "execution_count": 23,
   "metadata": {},
   "outputs": [],
   "source": [
    "team_abbrev_list = [v[2] for v in url_team_dict.values()]"
   ]
  },
  {
   "cell_type": "code",
   "execution_count": 24,
   "metadata": {},
   "outputs": [],
   "source": [
    "missing_list = {}\n",
    "for year in range(2007, 2018):\n",
    "    missing_list[year] = np.setdiff1d(team_abbrev_list, master_df[master_df['Year'] == year]['Team'].unique()) "
   ]
  },
  {
   "cell_type": "code",
   "execution_count": 25,
   "metadata": {},
   "outputs": [
    {
     "data": {
      "text/plain": [
       "{2007: array([],\n",
       "       dtype='<U3'), 2008: array([],\n",
       "       dtype='<U3'), 2009: array([],\n",
       "       dtype='<U3'), 2010: array([],\n",
       "       dtype='<U3'), 2011: array([],\n",
       "       dtype='<U3'), 2012: array([],\n",
       "       dtype='<U3'), 2013: array([],\n",
       "       dtype='<U3'), 2014: array([],\n",
       "       dtype='<U3'), 2015: array([],\n",
       "       dtype='<U3'), 2016: array(['PIT'],\n",
       "       dtype='<U3'), 2017: array(['PIT'],\n",
       "       dtype='<U3')}"
      ]
     },
     "execution_count": 25,
     "metadata": {},
     "output_type": "execute_result"
    }
   ],
   "source": [
    "missing_list"
   ]
  },
  {
   "cell_type": "code",
   "execution_count": 28,
   "metadata": {},
   "outputs": [],
   "source": [
    "season_html_2016 = p.open_pkl('../season_html_2016.pkl')\n",
    "html = season_html_2016['PIT-2016']\n",
    "team = 'PIT'\n",
    "year = 2016\n",
    "df = p.clean_season_data(html, team, year)"
   ]
  },
  {
   "cell_type": "code",
   "execution_count": 30,
   "metadata": {},
   "outputs": [],
   "source": [
    "# append to master df\n",
    "master_df = master_df.append(df, ignore_index=True, sort=True)\n",
    "\n",
    "# add entry to tsdf_merge_track\n",
    "merge_dict[year].append(team)"
   ]
  },
  {
   "cell_type": "code",
   "execution_count": 31,
   "metadata": {},
   "outputs": [],
   "source": [
    "season_html_2017 = p.open_pkl('../season_html_2017.pkl')\n",
    "html = season_html_2017['PIT-2017']\n",
    "team = 'PIT'\n",
    "year = 2017\n",
    "df = p.clean_season_data(html, team, year)"
   ]
  },
  {
   "cell_type": "code",
   "execution_count": 33,
   "metadata": {},
   "outputs": [],
   "source": [
    "# append to master df\n",
    "master_df = master_df.append(df, ignore_index=True, sort=True)\n",
    "\n",
    "# add entry to tsdf_merge_track\n",
    "merge_dict[year].append(team)"
   ]
  },
  {
   "cell_type": "code",
   "execution_count": 34,
   "metadata": {},
   "outputs": [
    {
     "data": {
      "text/plain": [
       "5874"
      ]
     },
     "execution_count": 34,
     "metadata": {},
     "output_type": "execute_result"
    }
   ],
   "source": [
    "len(master_df)"
   ]
  },
  {
   "cell_type": "code",
   "execution_count": 40,
   "metadata": {},
   "outputs": [
    {
     "name": "stdout",
     "output_type": "stream",
     "text": [
      "2016 32\n",
      "2017 32\n",
      "2007 32\n",
      "2008 32\n",
      "2009 32\n",
      "2010 32\n",
      "2011 32\n",
      "2012 32\n",
      "2013 32\n",
      "2014 32\n",
      "2015 32\n"
     ]
    }
   ],
   "source": [
    "for k,v in merge_dict.items():\n",
    "    print(k, len(v))"
   ]
  },
  {
   "cell_type": "code",
   "execution_count": 13,
   "metadata": {},
   "outputs": [],
   "source": [
    "# p.pkl_this('../master_df_2018.pkl', master_df)\n",
    "p.pkl_this('../master_df.pkl', master_df)\n",
    "p.pkl_this('../merge_dict.pkl', merge_dict)"
   ]
  },
  {
   "cell_type": "code",
   "execution_count": 14,
   "metadata": {},
   "outputs": [
    {
     "data": {
      "text/plain": [
       "32"
      ]
     },
     "execution_count": 14,
     "metadata": {},
     "output_type": "execute_result"
    }
   ],
   "source": [
    "len(master_df['Team'].unique())"
   ]
  },
  {
   "cell_type": "code",
   "execution_count": null,
   "metadata": {},
   "outputs": [],
   "source": []
  }
 ],
 "metadata": {
  "kernelspec": {
   "display_name": "Python 3",
   "language": "python",
   "name": "python3"
  },
  "language_info": {
   "codemirror_mode": {
    "name": "ipython",
    "version": 3
   },
   "file_extension": ".py",
   "mimetype": "text/x-python",
   "name": "python",
   "nbconvert_exporter": "python",
   "pygments_lexer": "ipython3",
   "version": "3.6.6"
  }
 },
 "nbformat": 4,
 "nbformat_minor": 2
}
