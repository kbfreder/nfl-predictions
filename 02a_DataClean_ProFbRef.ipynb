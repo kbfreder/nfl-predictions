{
 "cells": [
  {
   "cell_type": "code",
   "execution_count": 1,
   "metadata": {},
   "outputs": [],
   "source": [
    "import pandas as pd\n",
    "import re\n",
    "import numpy as np\n",
    "import time\n",
    "import os\n",
    "import pickle\n",
    "import time\n",
    "import pipeline as p\n",
    "\n",
    "from collections import defaultdict\n",
    "\n",
    "%load_ext autoreload\n",
    "%autoreload 2"
   ]
  },
  {
   "cell_type": "code",
   "execution_count": 3,
   "metadata": {},
   "outputs": [],
   "source": [
    "pd.set_eng_float_format(accuracy=1, use_eng_prefix=True)\n",
    "team_dict = p.open_pkl('Data/team_dictionary.pkl')"
   ]
  },
  {
   "cell_type": "code",
   "execution_count": 4,
   "metadata": {},
   "outputs": [],
   "source": [
    "url_team_dict = p.open_pkl('Data/url_team_dict.pkl')"
   ]
  },
  {
   "cell_type": "code",
   "execution_count": 5,
   "metadata": {},
   "outputs": [],
   "source": [
    "os.chdir('SeasonHtmls/')"
   ]
  },
  {
   "cell_type": "code",
   "execution_count": 6,
   "metadata": {},
   "outputs": [],
   "source": [
    "master_df = pd.DataFrame()\n",
    "# master_df = p.open_pkl('master_df.pkl')\n",
    "\n",
    "merge_dict = defaultdict(list)\n",
    "# merge_dict = p.open_pkl('merge_dict.pkl')"
   ]
  },
  {
   "cell_type": "markdown",
   "metadata": {},
   "source": [
    "### Read HTML, convert to df, clean, merge"
   ]
  },
  {
   "cell_type": "code",
   "execution_count": 7,
   "metadata": {},
   "outputs": [
    {
     "name": "stdout",
     "output_type": "stream",
     "text": [
      "Processing NOR 2018\n",
      "Processing OAK 2018\n",
      "Processing STL 2018\n",
      "Processing ARI 2018\n",
      "Processing TAM 2018\n",
      "Processing CLE 2018\n",
      "Processing DET 2018\n",
      "Processing DAL 2018\n",
      "Processing IND 2018\n",
      "Processing MIA 2018\n",
      "Processing WAS 2018\n",
      "Processing SDG 2018\n",
      "Processing PIT 2018\n",
      "Processing ATL 2018\n",
      "Processing BAL 2018\n",
      "Processing NWE 2018\n",
      "Processing BUF 2018\n",
      "Processing SEA 2018\n",
      "Processing NYG 2018\n",
      "Processing KAN 2018\n",
      "Processing GNB 2018\n",
      "Processing SFO 2018\n",
      "Processing CHI 2018\n",
      "Processing CIN 2018\n",
      "Processing MIN 2018\n",
      "Processing NYJ 2018\n",
      "Processing DEN 2018\n",
      "Processing HOU 2018\n",
      "Processing JAX 2018\n",
      "Processing CAR 2018\n",
      "Processing PHI 2018\n",
      "Processing TEN 2018\n",
      "Done\n"
     ]
    }
   ],
   "source": [
    "count = 0\n",
    "\n",
    "for f in os.listdir():\n",
    "    if f[0] != '.':\n",
    "        team = url_team_dict[f[:3].lower()][2]\n",
    "        year = int(f[4:8])\n",
    "\n",
    "        if team not in merge_dict[year]:\n",
    "            print('Processing ' + team, year)\n",
    "            html = p.open_pkl(f)\n",
    "            try:\n",
    "                # covert to df & clean \n",
    "                df = p.clean_season_data(html, team, year)\n",
    "\n",
    "                # append to master df\n",
    "                master_df = master_df.append(df, ignore_index=True, sort=True)\n",
    "\n",
    "                # add entry to tsdf_merge_track\n",
    "                merge_dict[year].append(team)\n",
    "                count += 1\n",
    "            except ValueError as e: \n",
    "                print('Error cleaning ' + team, year, e)\n",
    "                p.log_this('Error cleaning ' + team, year, e)\n",
    "\n",
    "        if count%10 == 0:\n",
    "            p.pkl_this('../Data/master_df.pkl', master_df)\n",
    "\n",
    "print('Done')    \n",
    "p.pkl_this('../Data/merge_dict.pkl', merge_dict)"
   ]
  },
  {
   "cell_type": "code",
   "execution_count": 8,
   "metadata": {},
   "outputs": [
    {
     "data": {
      "text/plain": [
       "512"
      ]
     },
     "execution_count": 8,
     "metadata": {},
     "output_type": "execute_result"
    }
   ],
   "source": [
    "len(master_df)"
   ]
  },
  {
   "cell_type": "markdown",
   "metadata": {},
   "source": [
    "Check that we have 32 teams for each season:"
   ]
  },
  {
   "cell_type": "code",
   "execution_count": 9,
   "metadata": {},
   "outputs": [
    {
     "name": "stdout",
     "output_type": "stream",
     "text": [
      "2018 32\n"
     ]
    }
   ],
   "source": [
    "for k,v in merge_dict.items():\n",
    "    print(k, len(v))"
   ]
  },
  {
   "cell_type": "markdown",
   "metadata": {},
   "source": [
    "Missing team from 2016 & 2017. Figure out which one it is, and manually add it to master_df"
   ]
  },
  {
   "cell_type": "code",
   "execution_count": 23,
   "metadata": {},
   "outputs": [],
   "source": [
    "team_abbrev_list = [v[2] for v in url_team_dict.values()]"
   ]
  },
  {
   "cell_type": "code",
   "execution_count": 24,
   "metadata": {},
   "outputs": [],
   "source": [
    "missing_list = {}\n",
    "for year in range(2007, 2018):\n",
    "    missing_list[year] = np.setdiff1d(team_abbrev_list, master_df[master_df['Year'] == year]['Team'].unique()) "
   ]
  },
  {
   "cell_type": "code",
   "execution_count": 25,
   "metadata": {},
   "outputs": [
    {
     "data": {
      "text/plain": [
       "{2007: array([],\n",
       "       dtype='<U3'), 2008: array([],\n",
       "       dtype='<U3'), 2009: array([],\n",
       "       dtype='<U3'), 2010: array([],\n",
       "       dtype='<U3'), 2011: array([],\n",
       "       dtype='<U3'), 2012: array([],\n",
       "       dtype='<U3'), 2013: array([],\n",
       "       dtype='<U3'), 2014: array([],\n",
       "       dtype='<U3'), 2015: array([],\n",
       "       dtype='<U3'), 2016: array(['PIT'],\n",
       "       dtype='<U3'), 2017: array(['PIT'],\n",
       "       dtype='<U3')}"
      ]
     },
     "execution_count": 25,
     "metadata": {},
     "output_type": "execute_result"
    }
   ],
   "source": [
    "missing_list"
   ]
  },
  {
   "cell_type": "code",
   "execution_count": 28,
   "metadata": {},
   "outputs": [],
   "source": [
    "season_html_2016 = p.open_pkl('../season_html_2016.pkl')\n",
    "html = season_html_2016['PIT-2016']\n",
    "team = 'PIT'\n",
    "year = 2016\n",
    "df = p.clean_season_data(html, team, year)"
   ]
  },
  {
   "cell_type": "code",
   "execution_count": 30,
   "metadata": {},
   "outputs": [],
   "source": [
    "# append to master df\n",
    "master_df = master_df.append(df, ignore_index=True, sort=True)\n",
    "\n",
    "# add entry to tsdf_merge_track\n",
    "merge_dict[year].append(team)"
   ]
  },
  {
   "cell_type": "code",
   "execution_count": 31,
   "metadata": {},
   "outputs": [],
   "source": [
    "season_html_2017 = p.open_pkl('../season_html_2017.pkl')\n",
    "html = season_html_2017['PIT-2017']\n",
    "team = 'PIT'\n",
    "year = 2017\n",
    "df = p.clean_season_data(html, team, year)"
   ]
  },
  {
   "cell_type": "code",
   "execution_count": 33,
   "metadata": {},
   "outputs": [],
   "source": [
    "# append to master df\n",
    "master_df = master_df.append(df, ignore_index=True, sort=True)\n",
    "\n",
    "# add entry to tsdf_merge_track\n",
    "merge_dict[year].append(team)"
   ]
  },
  {
   "cell_type": "code",
   "execution_count": 34,
   "metadata": {},
   "outputs": [
    {
     "data": {
      "text/plain": [
       "5874"
      ]
     },
     "execution_count": 34,
     "metadata": {},
     "output_type": "execute_result"
    }
   ],
   "source": [
    "len(master_df)"
   ]
  },
  {
   "cell_type": "code",
   "execution_count": 40,
   "metadata": {},
   "outputs": [
    {
     "name": "stdout",
     "output_type": "stream",
     "text": [
      "2016 32\n",
      "2017 32\n",
      "2007 32\n",
      "2008 32\n",
      "2009 32\n",
      "2010 32\n",
      "2011 32\n",
      "2012 32\n",
      "2013 32\n",
      "2014 32\n",
      "2015 32\n"
     ]
    }
   ],
   "source": [
    "for k,v in merge_dict.items():\n",
    "    print(k, len(v))"
   ]
  },
  {
   "cell_type": "code",
   "execution_count": 13,
   "metadata": {},
   "outputs": [],
   "source": [
    "# p.pkl_this('../master_df_2018.pkl', master_df)\n",
    "p.pkl_this('../master_df.pkl', master_df)\n",
    "p.pkl_this('../merge_dict.pkl', merge_dict)"
   ]
  },
  {
   "cell_type": "code",
   "execution_count": 14,
   "metadata": {},
   "outputs": [
    {
     "data": {
      "text/plain": [
       "32"
      ]
     },
     "execution_count": 14,
     "metadata": {},
     "output_type": "execute_result"
    }
   ],
   "source": [
    "len(master_df['Team'].unique())"
   ]
  },
  {
   "cell_type": "code",
   "execution_count": null,
   "metadata": {},
   "outputs": [],
   "source": []
  }
 ],
 "metadata": {
  "kernelspec": {
   "display_name": "Python 3",
   "language": "python",
   "name": "python3"
  },
  "language_info": {
   "codemirror_mode": {
    "name": "ipython",
    "version": 3
   },
   "file_extension": ".py",
   "mimetype": "text/x-python",
   "name": "python",
   "nbconvert_exporter": "python",
   "pygments_lexer": "ipython3",
   "version": "3.5.6"
  }
 },
 "nbformat": 4,
 "nbformat_minor": 2
}
