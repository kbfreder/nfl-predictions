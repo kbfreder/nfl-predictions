{
 "cells": [
  {
   "cell_type": "markdown",
   "metadata": {},
   "source": [
    "## Feature Selection"
   ]
  },
  {
   "cell_type": "markdown",
   "metadata": {},
   "source": [
    "### <a href=#s2>Baseline</a>\n",
    "### <a href=#s3>Correlations, basic OLS</a>\n",
    "### <a href=#s4> Lasso Regularization</a>"
   ]
  },
  {
   "cell_type": "code",
   "execution_count": 1,
   "metadata": {},
   "outputs": [],
   "source": [
    "import pandas as pd\n",
    "import re\n",
    "import numpy as np\n",
    "import datetime as dt\n",
    "\n",
    "import pipeline as p\n",
    "import fitting as f\n",
    "%load_ext autoreload\n",
    "%autoreload 2\n",
    "\n",
    "from collections import defaultdict\n",
    "import matplotlib.pyplot as plt\n",
    "import seaborn as sns"
   ]
  },
  {
   "cell_type": "code",
   "execution_count": 55,
   "metadata": {},
   "outputs": [],
   "source": [
    "# %reload_ext autoreload"
   ]
  },
  {
   "cell_type": "code",
   "execution_count": 2,
   "metadata": {},
   "outputs": [],
   "source": [
    "from sklearn.pipeline import make_pipeline\n",
    "\n",
    "from sklearn.preprocessing import PolynomialFeatures\n",
    "from sklearn.preprocessing import StandardScaler\n",
    "\n",
    "from sklearn.linear_model import RidgeCV\n",
    "from sklearn.linear_model import Lasso\n",
    "from sklearn.linear_model import LassoCV\n",
    "from sklearn.linear_model import ElasticNetCV\n",
    "from sklearn.linear_model import ElasticNet\n",
    "from sklearn.linear_model import LinearRegression\n",
    "from sklearn.linear_model import RidgeCV\n",
    "\n",
    "from sklearn.model_selection import learning_curve\n",
    "from sklearn.model_selection import train_test_split\n",
    "from sklearn.model_selection import KFold\n",
    "\n",
    "from sklearn.metrics import mean_squared_error\n",
    "\n",
    "import warnings\n",
    "warnings.filterwarnings(\"ignore\")\n",
    "\n",
    "import statsmodels.api as sm\n",
    "import statsmodels.formula.api as smf\n",
    "import patsy"
   ]
  },
  {
   "cell_type": "code",
   "execution_count": 16,
   "metadata": {},
   "outputs": [],
   "source": [
    "from sklearn.model_selection import cross_validate\n",
    "from sklearn.metrics import r2_score, make_scorer\n",
    "scoring = {'R2': make_scorer(r2_score), 'MSE': make_scorer(mean_squared_error, greater_is_better=False)}"
   ]
  },
  {
   "cell_type": "code",
   "execution_count": 3,
   "metadata": {},
   "outputs": [],
   "source": [
    "X_train = p.open_pkl('Data/X_train.pkl')\n",
    "y_train  = p.open_pkl('Data/y_train.pkl')\n",
    "\n",
    "train_df = X_train.join(y_train)\n",
    "target = 'point_diff'"
   ]
  },
  {
   "cell_type": "code",
   "execution_count": 9,
   "metadata": {},
   "outputs": [],
   "source": [
    "drop_df = train_df.dropna()"
   ]
  },
  {
   "cell_type": "code",
   "execution_count": 10,
   "metadata": {},
   "outputs": [
    {
     "data": {
      "text/plain": [
       "(2394, 2233)"
      ]
     },
     "execution_count": 10,
     "metadata": {},
     "output_type": "execute_result"
    }
   ],
   "source": [
    "len(train_df), len(dum_df)"
   ]
  },
  {
   "cell_type": "markdown",
   "metadata": {},
   "source": [
    "### 2. Baseline <a name=s2 />\n",
    "We know that FivethrityEight's Elo model includes only game Location, and Elo for Team & Opponent entering the week. We'll use this as our baseline"
   ]
  },
  {
   "cell_type": "code",
   "execution_count": 12,
   "metadata": {},
   "outputs": [],
   "source": [
    "simple_cols = ['elo1_pre','elo2_pre','Location']"
   ]
  },
  {
   "cell_type": "code",
   "execution_count": 13,
   "metadata": {},
   "outputs": [
    {
     "data": {
      "text/html": [
       "<table class=\"simpletable\">\n",
       "<caption>OLS Regression Results</caption>\n",
       "<tr>\n",
       "  <th>Dep. Variable:</th>       <td>point_diff</td>    <th>  R-squared:         </th> <td>   0.138</td> \n",
       "</tr>\n",
       "<tr>\n",
       "  <th>Model:</th>                   <td>OLS</td>       <th>  Adj. R-squared:    </th> <td>   0.137</td> \n",
       "</tr>\n",
       "<tr>\n",
       "  <th>Method:</th>             <td>Least Squares</td>  <th>  F-statistic:       </th> <td>   127.2</td> \n",
       "</tr>\n",
       "<tr>\n",
       "  <th>Date:</th>             <td>Sun, 06 Jan 2019</td> <th>  Prob (F-statistic):</th> <td>1.94e-76</td> \n",
       "</tr>\n",
       "<tr>\n",
       "  <th>Time:</th>                 <td>13:50:31</td>     <th>  Log-Likelihood:    </th> <td> -9673.8</td> \n",
       "</tr>\n",
       "<tr>\n",
       "  <th>No. Observations:</th>      <td>  2394</td>      <th>  AIC:               </th> <td>1.936e+04</td>\n",
       "</tr>\n",
       "<tr>\n",
       "  <th>Df Residuals:</th>          <td>  2390</td>      <th>  BIC:               </th> <td>1.938e+04</td>\n",
       "</tr>\n",
       "<tr>\n",
       "  <th>Df Model:</th>              <td>     3</td>      <th>                     </th>     <td> </td>    \n",
       "</tr>\n",
       "<tr>\n",
       "  <th>Covariance Type:</th>      <td>nonrobust</td>    <th>                     </th>     <td> </td>    \n",
       "</tr>\n",
       "</table>\n",
       "<table class=\"simpletable\">\n",
       "<tr>\n",
       "      <td></td>         <th>coef</th>     <th>std err</th>      <th>t</th>      <th>P>|t|</th>  <th>[0.025</th>    <th>0.975]</th>  \n",
       "</tr>\n",
       "<tr>\n",
       "  <th>Intercept</th> <td>   -7.5278</td> <td>    5.800</td> <td>   -1.298</td> <td> 0.194</td> <td>  -18.900</td> <td>    3.845</td>\n",
       "</tr>\n",
       "<tr>\n",
       "  <th>elo1_pre</th>  <td>    0.0435</td> <td>    0.003</td> <td>   15.465</td> <td> 0.000</td> <td>    0.038</td> <td>    0.049</td>\n",
       "</tr>\n",
       "<tr>\n",
       "  <th>elo2_pre</th>  <td>   -0.0368</td> <td>    0.003</td> <td>  -12.883</td> <td> 0.000</td> <td>   -0.042</td> <td>   -0.031</td>\n",
       "</tr>\n",
       "<tr>\n",
       "  <th>Location</th>  <td>    5.5119</td> <td>    4.376</td> <td>    1.259</td> <td> 0.208</td> <td>   -3.070</td> <td>   14.094</td>\n",
       "</tr>\n",
       "</table>\n",
       "<table class=\"simpletable\">\n",
       "<tr>\n",
       "  <th>Omnibus:</th>       <td> 9.648</td> <th>  Durbin-Watson:     </th> <td>   1.995</td>\n",
       "</tr>\n",
       "<tr>\n",
       "  <th>Prob(Omnibus):</th> <td> 0.008</td> <th>  Jarque-Bera (JB):  </th> <td>  12.076</td>\n",
       "</tr>\n",
       "<tr>\n",
       "  <th>Skew:</th>          <td> 0.044</td> <th>  Prob(JB):          </th> <td> 0.00239</td>\n",
       "</tr>\n",
       "<tr>\n",
       "  <th>Kurtosis:</th>      <td> 3.337</td> <th>  Cond. No.          </th> <td>4.40e+04</td>\n",
       "</tr>\n",
       "</table><br/><br/>Warnings:<br/>[1] Standard Errors assume that the covariance matrix of the errors is correctly specified.<br/>[2] The condition number is large, 4.4e+04. This might indicate that there are<br/>strong multicollinearity or other numerical problems."
      ],
      "text/plain": [
       "<class 'statsmodels.iolib.summary.Summary'>\n",
       "\"\"\"\n",
       "                            OLS Regression Results                            \n",
       "==============================================================================\n",
       "Dep. Variable:             point_diff   R-squared:                       0.138\n",
       "Model:                            OLS   Adj. R-squared:                  0.137\n",
       "Method:                 Least Squares   F-statistic:                     127.2\n",
       "Date:                Sun, 06 Jan 2019   Prob (F-statistic):           1.94e-76\n",
       "Time:                        13:50:31   Log-Likelihood:                -9673.8\n",
       "No. Observations:                2394   AIC:                         1.936e+04\n",
       "Df Residuals:                    2390   BIC:                         1.938e+04\n",
       "Df Model:                           3                                         \n",
       "Covariance Type:            nonrobust                                         \n",
       "==============================================================================\n",
       "                 coef    std err          t      P>|t|      [0.025      0.975]\n",
       "------------------------------------------------------------------------------\n",
       "Intercept     -7.5278      5.800     -1.298      0.194     -18.900       3.845\n",
       "elo1_pre       0.0435      0.003     15.465      0.000       0.038       0.049\n",
       "elo2_pre      -0.0368      0.003    -12.883      0.000      -0.042      -0.031\n",
       "Location       5.5119      4.376      1.259      0.208      -3.070      14.094\n",
       "==============================================================================\n",
       "Omnibus:                        9.648   Durbin-Watson:                   1.995\n",
       "Prob(Omnibus):                  0.008   Jarque-Bera (JB):               12.076\n",
       "Skew:                           0.044   Prob(JB):                      0.00239\n",
       "Kurtosis:                       3.337   Cond. No.                     4.40e+04\n",
       "==============================================================================\n",
       "\n",
       "Warnings:\n",
       "[1] Standard Errors assume that the covariance matrix of the errors is correctly specified.\n",
       "[2] The condition number is large, 4.4e+04. This might indicate that there are\n",
       "strong multicollinearity or other numerical problems.\n",
       "\"\"\""
      ]
     },
     "execution_count": 13,
     "metadata": {},
     "output_type": "execute_result"
    }
   ],
   "source": [
    "fit = f.simple_OLS(train_df, simple_cols, target)\n",
    "fit.summary()"
   ]
  },
  {
   "cell_type": "code",
   "execution_count": 18,
   "metadata": {},
   "outputs": [
    {
     "data": {
      "image/png": "[encoded data removed]",
      "text/plain": [
       "<Figure size 432x288 with 1 Axes>"
      ]
     },
     "metadata": {
      "needs_background": "light"
     },
     "output_type": "display_data"
    }
   ],
   "source": [
    "f.pick_degrees(train_df, simple_cols, target, max_deg=10)"
   ]
  },
  {
   "cell_type": "code",
   "execution_count": 20,
   "metadata": {},
   "outputs": [
    {
     "name": "stdout",
     "output_type": "stream",
     "text": [
      "R2: [0.1391764181742392, 0.10939677076437315, 0.10165485693416199, 0.15691001145904548, 0.14836121236309063]\n",
      "MSE: [182.8893068496541, 187.90142494291965, 206.31428204292428, 184.27441628087618, 192.19252967941335]\n"
     ]
    },
    {
     "data": {
      "text/plain": [
       "[0.1310998539389821, 190.71439195915752]"
      ]
     },
     "execution_count": 20,
     "metadata": {},
     "output_type": "execute_result"
    }
   ],
   "source": [
    "f.assess_model_poly(train_df, simple_cols, target, 3)"
   ]
  },
  {
   "cell_type": "markdown",
   "metadata": {},
   "source": [
    "### 2. Simple OLS, P-values  <a name=s2 />"
   ]
  },
  {
   "cell_type": "code",
   "execution_count": 14,
   "metadata": {},
   "outputs": [],
   "source": [
    "drop_cols = ['score1', 'score2', 'elo_delta', 'Date', 'OT', 'Season','Date', 'point_diff']\n",
    "all_cols = [x for x in train_df.columns if x not in drop_cols]\n",
    "num_cols = [x for x in all_cols if train_df.dtypes[x] != 'O']"
   ]
  },
  {
   "cell_type": "code",
   "execution_count": 54,
   "metadata": {},
   "outputs": [
    {
     "data": {
      "text/html": [
       "<table class=\"simpletable\">\n",
       "<caption>OLS Regression Results</caption>\n",
       "<tr>\n",
       "  <th>Dep. Variable:</th>       <td>point_diff</td>    <th>  R-squared:         </th> <td>   0.178</td> \n",
       "</tr>\n",
       "<tr>\n",
       "  <th>Model:</th>                   <td>OLS</td>       <th>  Adj. R-squared:    </th> <td>   0.154</td> \n",
       "</tr>\n",
       "<tr>\n",
       "  <th>Method:</th>             <td>Least Squares</td>  <th>  F-statistic:       </th> <td>   7.695</td> \n",
       "</tr>\n",
       "<tr>\n",
       "  <th>Date:</th>             <td>Sun, 06 Jan 2019</td> <th>  Prob (F-statistic):</th> <td>1.46e-52</td> \n",
       "</tr>\n",
       "<tr>\n",
       "  <th>Time:</th>                 <td>12:32:26</td>     <th>  Log-Likelihood:    </th> <td> -8253.5</td> \n",
       "</tr>\n",
       "<tr>\n",
       "  <th>No. Observations:</th>      <td>  2053</td>      <th>  AIC:               </th> <td>1.662e+04</td>\n",
       "</tr>\n",
       "<tr>\n",
       "  <th>Df Residuals:</th>          <td>  1996</td>      <th>  BIC:               </th> <td>1.694e+04</td>\n",
       "</tr>\n",
       "<tr>\n",
       "  <th>Df Model:</th>              <td>    56</td>      <th>                     </th>     <td> </td>    \n",
       "</tr>\n",
       "<tr>\n",
       "  <th>Covariance Type:</th>      <td>nonrobust</td>    <th>                     </th>     <td> </td>    \n",
       "</tr>\n",
       "</table>\n",
       "<table class=\"simpletable\">\n",
       "<tr>\n",
       "          <td></td>            <th>coef</th>     <th>std err</th>      <th>t</th>      <th>P>|t|</th>  <th>[0.025</th>    <th>0.975]</th>  \n",
       "</tr>\n",
       "<tr>\n",
       "  <th>Intercept</th>        <td>  -20.2839</td> <td>   21.025</td> <td>   -0.965</td> <td> 0.335</td> <td>  -61.517</td> <td>   20.949</td>\n",
       "</tr>\n",
       "<tr>\n",
       "  <th>neutral</th>          <td>    2.6260</td> <td>    3.646</td> <td>    0.720</td> <td> 0.471</td> <td>   -4.525</td> <td>    9.777</td>\n",
       "</tr>\n",
       "<tr>\n",
       "  <th>playoff</th>          <td>   -0.5911</td> <td>    1.916</td> <td>   -0.308</td> <td> 0.758</td> <td>   -4.349</td> <td>    3.167</td>\n",
       "</tr>\n",
       "<tr>\n",
       "  <th>elo1_pre</th>         <td>    0.0141</td> <td>    0.021</td> <td>    0.657</td> <td> 0.511</td> <td>   -0.028</td> <td>    0.056</td>\n",
       "</tr>\n",
       "<tr>\n",
       "  <th>elo2_pre</th>         <td>   -0.0250</td> <td>    0.022</td> <td>   -1.153</td> <td> 0.249</td> <td>   -0.067</td> <td>    0.017</td>\n",
       "</tr>\n",
       "<tr>\n",
       "  <th>elo_prob1</th>        <td>   -6.1159</td> <td>   13.301</td> <td>   -0.460</td> <td> 0.646</td> <td>  -32.202</td> <td>   19.970</td>\n",
       "</tr>\n",
       "<tr>\n",
       "  <th>elo_prob2</th>        <td>  -14.1680</td> <td>   13.383</td> <td>   -1.059</td> <td> 0.290</td> <td>  -40.415</td> <td>   12.079</td>\n",
       "</tr>\n",
       "<tr>\n",
       "  <th>Location</th>         <td>    5.7628</td> <td>    5.722</td> <td>    1.007</td> <td> 0.314</td> <td>   -5.460</td> <td>   16.985</td>\n",
       "</tr>\n",
       "<tr>\n",
       "  <th>Week</th>             <td>    0.1038</td> <td>    0.210</td> <td>    0.495</td> <td> 0.620</td> <td>   -0.307</td> <td>    0.515</td>\n",
       "</tr>\n",
       "<tr>\n",
       "  <th>Losses1</th>          <td>    0.0276</td> <td>    0.302</td> <td>    0.091</td> <td> 0.927</td> <td>   -0.565</td> <td>    0.621</td>\n",
       "</tr>\n",
       "<tr>\n",
       "  <th>FirstD_SA1</th>       <td>   -0.2463</td> <td>    0.451</td> <td>   -0.546</td> <td> 0.585</td> <td>   -1.130</td> <td>    0.638</td>\n",
       "</tr>\n",
       "<tr>\n",
       "  <th>PassY_SA1</th>        <td>   -0.6273</td> <td>    1.154</td> <td>   -0.544</td> <td> 0.587</td> <td>   -2.889</td> <td>    1.635</td>\n",
       "</tr>\n",
       "<tr>\n",
       "  <th>PtsOpp_SA1</th>       <td>   -0.4045</td> <td>    0.103</td> <td>   -3.942</td> <td> 0.000</td> <td>   -0.606</td> <td>   -0.203</td>\n",
       "</tr>\n",
       "<tr>\n",
       "  <th>PtsTm_SA1</th>        <td>    0.2202</td> <td>    0.175</td> <td>    1.260</td> <td> 0.208</td> <td>   -0.122</td> <td>    0.563</td>\n",
       "</tr>\n",
       "<tr>\n",
       "  <th>RushY_SA1</th>        <td>   -0.6178</td> <td>    1.153</td> <td>   -0.536</td> <td> 0.592</td> <td>   -2.879</td> <td>    1.643</td>\n",
       "</tr>\n",
       "<tr>\n",
       "  <th>TO_SA1</th>           <td>    0.2606</td> <td>    0.747</td> <td>    0.349</td> <td> 0.727</td> <td>   -1.205</td> <td>    1.726</td>\n",
       "</tr>\n",
       "<tr>\n",
       "  <th>DefTO_SA1</th>        <td>   -0.3219</td> <td>    0.631</td> <td>   -0.510</td> <td> 0.610</td> <td>   -1.560</td> <td>    0.916</td>\n",
       "</tr>\n",
       "<tr>\n",
       "  <th>TotY_SA1</th>         <td>    0.6369</td> <td>    1.153</td> <td>    0.552</td> <td> 0.581</td> <td>   -1.624</td> <td>    2.898</td>\n",
       "</tr>\n",
       "<tr>\n",
       "  <th>RushAtt_SA1</th>      <td>    0.3071</td> <td>    0.321</td> <td>    0.956</td> <td> 0.339</td> <td>   -0.323</td> <td>    0.937</td>\n",
       "</tr>\n",
       "<tr>\n",
       "  <th>RushTDs_SA1</th>      <td>   -0.5515</td> <td>    1.377</td> <td>   -0.401</td> <td> 0.689</td> <td>   -3.252</td> <td>    2.149</td>\n",
       "</tr>\n",
       "<tr>\n",
       "  <th>PassCmp_SA1</th>      <td>   -0.2083</td> <td>    0.996</td> <td>   -0.209</td> <td> 0.834</td> <td>   -2.161</td> <td>    1.744</td>\n",
       "</tr>\n",
       "<tr>\n",
       "  <th>PassAtt_SA1</th>      <td>    0.5517</td> <td>    0.621</td> <td>    0.888</td> <td> 0.375</td> <td>   -0.666</td> <td>    1.770</td>\n",
       "</tr>\n",
       "<tr>\n",
       "  <th>PassTDs_SA1</th>      <td>   -0.2799</td> <td>    1.968</td> <td>   -0.142</td> <td> 0.887</td> <td>   -4.140</td> <td>    3.580</td>\n",
       "</tr>\n",
       "<tr>\n",
       "  <th>INT_SA1</th>          <td>    0.2029</td> <td>    2.004</td> <td>    0.101</td> <td> 0.919</td> <td>   -3.728</td> <td>    4.134</td>\n",
       "</tr>\n",
       "<tr>\n",
       "  <th>SacksO_SA1</th>       <td>    0.6951</td> <td>    0.527</td> <td>    1.319</td> <td> 0.187</td> <td>   -0.339</td> <td>    1.729</td>\n",
       "</tr>\n",
       "<tr>\n",
       "  <th>Fumbles_SA1</th>      <td>   -1.2371</td> <td>    0.670</td> <td>   -1.846</td> <td> 0.065</td> <td>   -2.551</td> <td>    0.077</td>\n",
       "</tr>\n",
       "<tr>\n",
       "  <th>Penalies_SA1</th>     <td>    1.2532</td> <td>    0.504</td> <td>    2.486</td> <td> 0.013</td> <td>    0.265</td> <td>    2.242</td>\n",
       "</tr>\n",
       "<tr>\n",
       "  <th>PenY_SA1</th>         <td>   -0.1016</td> <td>    0.054</td> <td>   -1.877</td> <td> 0.061</td> <td>   -0.208</td> <td>    0.005</td>\n",
       "</tr>\n",
       "<tr>\n",
       "  <th>ThirdDConv_SA1</th>   <td>    0.6341</td> <td>    0.622</td> <td>    1.020</td> <td> 0.308</td> <td>   -0.586</td> <td>    1.854</td>\n",
       "</tr>\n",
       "<tr>\n",
       "  <th>ThirdDAtt_SA1</th>    <td>   -1.2798</td> <td>    0.861</td> <td>   -1.486</td> <td> 0.138</td> <td>   -2.969</td> <td>    0.410</td>\n",
       "</tr>\n",
       "<tr>\n",
       "  <th>FourthDAtt_SA1</th>   <td>    0.3620</td> <td>    0.821</td> <td>    0.441</td> <td> 0.659</td> <td>   -1.249</td> <td>    1.973</td>\n",
       "</tr>\n",
       "<tr>\n",
       "  <th>PassCompPct_SA1</th>  <td>    0.0816</td> <td>    0.402</td> <td>    0.203</td> <td> 0.839</td> <td>   -0.706</td> <td>    0.870</td>\n",
       "</tr>\n",
       "<tr>\n",
       "  <th>PassRating_SA1</th>   <td>    0.0167</td> <td>    0.133</td> <td>    0.125</td> <td> 0.900</td> <td>   -0.245</td> <td>    0.278</td>\n",
       "</tr>\n",
       "<tr>\n",
       "  <th>TimePossMins_SA1</th> <td>   -0.2726</td> <td>    0.244</td> <td>   -1.116</td> <td> 0.264</td> <td>   -0.751</td> <td>    0.206</td>\n",
       "</tr>\n",
       "<tr>\n",
       "  <th>Losses2</th>          <td>   -0.1006</td> <td>    0.302</td> <td>   -0.333</td> <td> 0.739</td> <td>   -0.692</td> <td>    0.491</td>\n",
       "</tr>\n",
       "<tr>\n",
       "  <th>FirstD_SA2</th>       <td>   -0.0350</td> <td>    0.418</td> <td>   -0.084</td> <td> 0.933</td> <td>   -0.854</td> <td>    0.784</td>\n",
       "</tr>\n",
       "<tr>\n",
       "  <th>PassY_SA2</th>        <td>   -0.0071</td> <td>    0.016</td> <td>   -0.456</td> <td> 0.648</td> <td>   -0.038</td> <td>    0.024</td>\n",
       "</tr>\n",
       "<tr>\n",
       "  <th>PtsOpp_SA2</th>       <td>    0.0557</td> <td>    0.096</td> <td>    0.579</td> <td> 0.563</td> <td>   -0.133</td> <td>    0.244</td>\n",
       "</tr>\n",
       "<tr>\n",
       "  <th>PtsTm_SA2</th>        <td>   -0.0676</td> <td>    0.174</td> <td>   -0.389</td> <td> 0.697</td> <td>   -0.409</td> <td>    0.273</td>\n",
       "</tr>\n",
       "<tr>\n",
       "  <th>RushY_SA2</th>        <td>    0.0131</td> <td>    0.017</td> <td>    0.786</td> <td> 0.432</td> <td>   -0.020</td> <td>    0.046</td>\n",
       "</tr>\n",
       "<tr>\n",
       "  <th>TO_SA2</th>           <td>    0.2156</td> <td>    0.781</td> <td>    0.276</td> <td> 0.783</td> <td>   -1.316</td> <td>    1.747</td>\n",
       "</tr>\n",
       "<tr>\n",
       "  <th>DefTO_SA2</th>        <td>   -0.1179</td> <td>    0.606</td> <td>   -0.194</td> <td> 0.846</td> <td>   -1.307</td> <td>    1.072</td>\n",
       "</tr>\n",
       "<tr>\n",
       "  <th>TotY_SA2</th>         <td>    0.0059</td> <td>    0.013</td> <td>    0.469</td> <td> 0.639</td> <td>   -0.019</td> <td>    0.031</td>\n",
       "</tr>\n",
       "<tr>\n",
       "  <th>RushAtt_SA2</th>      <td>   -0.1173</td> <td>    0.307</td> <td>   -0.382</td> <td> 0.702</td> <td>   -0.719</td> <td>    0.484</td>\n",
       "</tr>\n",
       "<tr>\n",
       "  <th>RushTDs_SA2</th>      <td>    0.8217</td> <td>    1.399</td> <td>    0.587</td> <td> 0.557</td> <td>   -1.921</td> <td>    3.565</td>\n",
       "</tr>\n",
       "<tr>\n",
       "  <th>PassCmp_SA2</th>      <td>   -1.8972</td> <td>    1.015</td> <td>   -1.869</td> <td> 0.062</td> <td>   -3.888</td> <td>    0.093</td>\n",
       "</tr>\n",
       "<tr>\n",
       "  <th>PassAtt_SA2</th>      <td>    1.3602</td> <td>    0.644</td> <td>    2.113</td> <td> 0.035</td> <td>    0.098</td> <td>    2.623</td>\n",
       "</tr>\n",
       "<tr>\n",
       "  <th>PassTDs_SA2</th>      <td>   -0.8806</td> <td>    1.865</td> <td>   -0.472</td> <td> 0.637</td> <td>   -4.539</td> <td>    2.778</td>\n",
       "</tr>\n",
       "<tr>\n",
       "  <th>INT_SA2</th>          <td>    0.0427</td> <td>    1.919</td> <td>    0.022</td> <td> 0.982</td> <td>   -3.720</td> <td>    3.805</td>\n",
       "</tr>\n",
       "<tr>\n",
       "  <th>SacksO_SA2</th>       <td>   -0.8206</td> <td>    0.518</td> <td>   -1.583</td> <td> 0.114</td> <td>   -1.837</td> <td>    0.196</td>\n",
       "</tr>\n",
       "<tr>\n",
       "  <th>Fumbles_SA2</th>      <td>    0.6643</td> <td>    0.662</td> <td>    1.004</td> <td> 0.316</td> <td>   -0.634</td> <td>    1.962</td>\n",
       "</tr>\n",
       "<tr>\n",
       "  <th>Penalies_SA2</th>     <td>   -0.2388</td> <td>    0.508</td> <td>   -0.470</td> <td> 0.638</td> <td>   -1.236</td> <td>    0.758</td>\n",
       "</tr>\n",
       "<tr>\n",
       "  <th>PenY_SA2</th>         <td>   -0.0267</td> <td>    0.054</td> <td>   -0.498</td> <td> 0.619</td> <td>   -0.132</td> <td>    0.078</td>\n",
       "</tr>\n",
       "<tr>\n",
       "  <th>ThirdDConv_SA2</th>   <td>   -1.0635</td> <td>    0.609</td> <td>   -1.748</td> <td> 0.081</td> <td>   -2.257</td> <td>    0.130</td>\n",
       "</tr>\n",
       "<tr>\n",
       "  <th>ThirdDAtt_SA2</th>    <td>    1.1497</td> <td>    0.848</td> <td>    1.355</td> <td> 0.175</td> <td>   -0.514</td> <td>    2.813</td>\n",
       "</tr>\n",
       "<tr>\n",
       "  <th>FourthDAtt_SA2</th>   <td>   -2.8922</td> <td>    0.798</td> <td>   -3.623</td> <td> 0.000</td> <td>   -4.458</td> <td>   -1.327</td>\n",
       "</tr>\n",
       "<tr>\n",
       "  <th>PassCompPct_SA2</th>  <td>    0.5405</td> <td>    0.405</td> <td>    1.335</td> <td> 0.182</td> <td>   -0.254</td> <td>    1.335</td>\n",
       "</tr>\n",
       "<tr>\n",
       "  <th>PassRating_SA2</th>   <td>    0.0484</td> <td>    0.128</td> <td>    0.378</td> <td> 0.705</td> <td>   -0.202</td> <td>    0.299</td>\n",
       "</tr>\n",
       "<tr>\n",
       "  <th>TimePossMins_SA2</th> <td>   -0.0385</td> <td>    0.246</td> <td>   -0.156</td> <td> 0.876</td> <td>   -0.522</td> <td>    0.445</td>\n",
       "</tr>\n",
       "</table>\n",
       "<table class=\"simpletable\">\n",
       "<tr>\n",
       "  <th>Omnibus:</th>       <td> 7.614</td> <th>  Durbin-Watson:     </th> <td>   1.999</td>\n",
       "</tr>\n",
       "<tr>\n",
       "  <th>Prob(Omnibus):</th> <td> 0.022</td> <th>  Jarque-Bera (JB):  </th> <td>   9.205</td>\n",
       "</tr>\n",
       "<tr>\n",
       "  <th>Skew:</th>          <td> 0.048</td> <th>  Prob(JB):          </th> <td>  0.0100</td>\n",
       "</tr>\n",
       "<tr>\n",
       "  <th>Kurtosis:</th>      <td> 3.314</td> <th>  Cond. No.          </th> <td>1.00e+16</td>\n",
       "</tr>\n",
       "</table><br/><br/>Warnings:<br/>[1] Standard Errors assume that the covariance matrix of the errors is correctly specified.<br/>[2] The smallest eigenvalue is 1.02e-22. This might indicate that there are<br/>strong multicollinearity problems or that the design matrix is singular."
      ],
      "text/plain": [
       "<class 'statsmodels.iolib.summary.Summary'>\n",
       "\"\"\"\n",
       "                            OLS Regression Results                            \n",
       "==============================================================================\n",
       "Dep. Variable:             point_diff   R-squared:                       0.178\n",
       "Model:                            OLS   Adj. R-squared:                  0.154\n",
       "Method:                 Least Squares   F-statistic:                     7.695\n",
       "Date:                Sun, 06 Jan 2019   Prob (F-statistic):           1.46e-52\n",
       "Time:                        12:32:26   Log-Likelihood:                -8253.5\n",
       "No. Observations:                2053   AIC:                         1.662e+04\n",
       "Df Residuals:                    1996   BIC:                         1.694e+04\n",
       "Df Model:                          56                                         \n",
       "Covariance Type:            nonrobust                                         \n",
       "====================================================================================\n",
       "                       coef    std err          t      P>|t|      [0.025      0.975]\n",
       "------------------------------------------------------------------------------------\n",
       "Intercept          -20.2839     21.025     -0.965      0.335     -61.517      20.949\n",
       "neutral              2.6260      3.646      0.720      0.471      -4.525       9.777\n",
       "playoff             -0.5911      1.916     -0.308      0.758      -4.349       3.167\n",
       "elo1_pre             0.0141      0.021      0.657      0.511      -0.028       0.056\n",
       "elo2_pre            -0.0250      0.022     -1.153      0.249      -0.067       0.017\n",
       "elo_prob1           -6.1159     13.301     -0.460      0.646     -32.202      19.970\n",
       "elo_prob2          -14.1680     13.383     -1.059      0.290     -40.415      12.079\n",
       "Location             5.7628      5.722      1.007      0.314      -5.460      16.985\n",
       "Week                 0.1038      0.210      0.495      0.620      -0.307       0.515\n",
       "Losses1              0.0276      0.302      0.091      0.927      -0.565       0.621\n",
       "FirstD_SA1          -0.2463      0.451     -0.546      0.585      -1.130       0.638\n",
       "PassY_SA1           -0.6273      1.154     -0.544      0.587      -2.889       1.635\n",
       "PtsOpp_SA1          -0.4045      0.103     -3.942      0.000      -0.606      -0.203\n",
       "PtsTm_SA1            0.2202      0.175      1.260      0.208      -0.122       0.563\n",
       "RushY_SA1           -0.6178      1.153     -0.536      0.592      -2.879       1.643\n",
       "TO_SA1               0.2606      0.747      0.349      0.727      -1.205       1.726\n",
       "DefTO_SA1           -0.3219      0.631     -0.510      0.610      -1.560       0.916\n",
       "TotY_SA1             0.6369      1.153      0.552      0.581      -1.624       2.898\n",
       "RushAtt_SA1          0.3071      0.321      0.956      0.339      -0.323       0.937\n",
       "RushTDs_SA1         -0.5515      1.377     -0.401      0.689      -3.252       2.149\n",
       "PassCmp_SA1         -0.2083      0.996     -0.209      0.834      -2.161       1.744\n",
       "PassAtt_SA1          0.5517      0.621      0.888      0.375      -0.666       1.770\n",
       "PassTDs_SA1         -0.2799      1.968     -0.142      0.887      -4.140       3.580\n",
       "INT_SA1              0.2029      2.004      0.101      0.919      -3.728       4.134\n",
       "SacksO_SA1           0.6951      0.527      1.319      0.187      -0.339       1.729\n",
       "Fumbles_SA1         -1.2371      0.670     -1.846      0.065      -2.551       0.077\n",
       "Penalies_SA1         1.2532      0.504      2.486      0.013       0.265       2.242\n",
       "PenY_SA1            -0.1016      0.054     -1.877      0.061      -0.208       0.005\n",
       "ThirdDConv_SA1       0.6341      0.622      1.020      0.308      -0.586       1.854\n",
       "ThirdDAtt_SA1       -1.2798      0.861     -1.486      0.138      -2.969       0.410\n",
       "FourthDAtt_SA1       0.3620      0.821      0.441      0.659      -1.249       1.973\n",
       "PassCompPct_SA1      0.0816      0.402      0.203      0.839      -0.706       0.870\n",
       "PassRating_SA1       0.0167      0.133      0.125      0.900      -0.245       0.278\n",
       "TimePossMins_SA1    -0.2726      0.244     -1.116      0.264      -0.751       0.206\n",
       "Losses2             -0.1006      0.302     -0.333      0.739      -0.692       0.491\n",
       "FirstD_SA2          -0.0350      0.418     -0.084      0.933      -0.854       0.784\n",
       "PassY_SA2           -0.0071      0.016     -0.456      0.648      -0.038       0.024\n",
       "PtsOpp_SA2           0.0557      0.096      0.579      0.563      -0.133       0.244\n",
       "PtsTm_SA2           -0.0676      0.174     -0.389      0.697      -0.409       0.273\n",
       "RushY_SA2            0.0131      0.017      0.786      0.432      -0.020       0.046\n",
       "TO_SA2               0.2156      0.781      0.276      0.783      -1.316       1.747\n",
       "DefTO_SA2           -0.1179      0.606     -0.194      0.846      -1.307       1.072\n",
       "TotY_SA2             0.0059      0.013      0.469      0.639      -0.019       0.031\n",
       "RushAtt_SA2         -0.1173      0.307     -0.382      0.702      -0.719       0.484\n",
       "RushTDs_SA2          0.8217      1.399      0.587      0.557      -1.921       3.565\n",
       "PassCmp_SA2         -1.8972      1.015     -1.869      0.062      -3.888       0.093\n",
       "PassAtt_SA2          1.3602      0.644      2.113      0.035       0.098       2.623\n",
       "PassTDs_SA2         -0.8806      1.865     -0.472      0.637      -4.539       2.778\n",
       "INT_SA2              0.0427      1.919      0.022      0.982      -3.720       3.805\n",
       "SacksO_SA2          -0.8206      0.518     -1.583      0.114      -1.837       0.196\n",
       "Fumbles_SA2          0.6643      0.662      1.004      0.316      -0.634       1.962\n",
       "Penalies_SA2        -0.2388      0.508     -0.470      0.638      -1.236       0.758\n",
       "PenY_SA2            -0.0267      0.054     -0.498      0.619      -0.132       0.078\n",
       "ThirdDConv_SA2      -1.0635      0.609     -1.748      0.081      -2.257       0.130\n",
       "ThirdDAtt_SA2        1.1497      0.848      1.355      0.175      -0.514       2.813\n",
       "FourthDAtt_SA2      -2.8922      0.798     -3.623      0.000      -4.458      -1.327\n",
       "PassCompPct_SA2      0.5405      0.405      1.335      0.182      -0.254       1.335\n",
       "PassRating_SA2       0.0484      0.128      0.378      0.705      -0.202       0.299\n",
       "TimePossMins_SA2    -0.0385      0.246     -0.156      0.876      -0.522       0.445\n",
       "==============================================================================\n",
       "Omnibus:                        7.614   Durbin-Watson:                   1.999\n",
       "Prob(Omnibus):                  0.022   Jarque-Bera (JB):                9.205\n",
       "Skew:                           0.048   Prob(JB):                       0.0100\n",
       "Kurtosis:                       3.314   Cond. No.                     1.00e+16\n",
       "==============================================================================\n",
       "\n",
       "Warnings:\n",
       "[1] Standard Errors assume that the covariance matrix of the errors is correctly specified.\n",
       "[2] The smallest eigenvalue is 1.02e-22. This might indicate that there are\n",
       "strong multicollinearity problems or that the design matrix is singular.\n",
       "\"\"\""
      ]
     },
     "execution_count": 54,
     "metadata": {},
     "output_type": "execute_result"
    }
   ],
   "source": [
    "fit2a = f.simple_OLS(train_df, num_cols, target)\n",
    "fit2a.summary()"
   ]
  },
  {
   "cell_type": "code",
   "execution_count": 60,
   "metadata": {},
   "outputs": [],
   "source": [
    "# this took too long\n",
    "# f.pick_degrees(drop_df, num_cols, target, max_deg=6)"
   ]
  },
  {
   "cell_type": "markdown",
   "metadata": {},
   "source": [
    "#### Get p-values. Select features whose p-values are less than 0.1. Run through Simple OLS"
   ]
  },
  {
   "cell_type": "code",
   "execution_count": 62,
   "metadata": {},
   "outputs": [],
   "source": [
    "x_cols_02 = f.get_vars_low_pvals(fit2a, pval=0.3)"
   ]
  },
  {
   "cell_type": "code",
   "execution_count": 63,
   "metadata": {},
   "outputs": [
    {
     "data": {
      "text/plain": [
       "['elo2_pre',\n",
       " 'elo_prob2',\n",
       " 'PtsOpp_SA1',\n",
       " 'PtsTm_SA1',\n",
       " 'SacksO_SA1',\n",
       " 'Fumbles_SA1',\n",
       " 'Penalies_SA1',\n",
       " 'PenY_SA1',\n",
       " 'ThirdDAtt_SA1',\n",
       " 'TimePossMins_SA1',\n",
       " 'PassCmp_SA2',\n",
       " 'PassAtt_SA2',\n",
       " 'SacksO_SA2',\n",
       " 'ThirdDConv_SA2',\n",
       " 'ThirdDAtt_SA2',\n",
       " 'FourthDAtt_SA2',\n",
       " 'PassCompPct_SA2']"
      ]
     },
     "execution_count": 63,
     "metadata": {},
     "output_type": "execute_result"
    }
   ],
   "source": [
    "x_cols_02"
   ]
  },
  {
   "cell_type": "code",
   "execution_count": 64,
   "metadata": {},
   "outputs": [
    {
     "data": {
      "text/html": [
       "<table class=\"simpletable\">\n",
       "<caption>OLS Regression Results</caption>\n",
       "<tr>\n",
       "  <th>Dep. Variable:</th>       <td>point_diff</td>    <th>  R-squared:         </th> <td>   0.156</td> \n",
       "</tr>\n",
       "<tr>\n",
       "  <th>Model:</th>                   <td>OLS</td>       <th>  Adj. R-squared:    </th> <td>   0.149</td> \n",
       "</tr>\n",
       "<tr>\n",
       "  <th>Method:</th>             <td>Least Squares</td>  <th>  F-statistic:       </th> <td>   23.44</td> \n",
       "</tr>\n",
       "<tr>\n",
       "  <th>Date:</th>             <td>Sun, 06 Jan 2019</td> <th>  Prob (F-statistic):</th> <td>1.47e-67</td> \n",
       "</tr>\n",
       "<tr>\n",
       "  <th>Time:</th>                 <td>12:43:48</td>     <th>  Log-Likelihood:    </th> <td> -8780.0</td> \n",
       "</tr>\n",
       "<tr>\n",
       "  <th>No. Observations:</th>      <td>  2180</td>      <th>  AIC:               </th> <td>1.760e+04</td>\n",
       "</tr>\n",
       "<tr>\n",
       "  <th>Df Residuals:</th>          <td>  2162</td>      <th>  BIC:               </th> <td>1.770e+04</td>\n",
       "</tr>\n",
       "<tr>\n",
       "  <th>Df Model:</th>              <td>    17</td>      <th>                     </th>     <td> </td>    \n",
       "</tr>\n",
       "<tr>\n",
       "  <th>Covariance Type:</th>      <td>nonrobust</td>    <th>                     </th>     <td> </td>    \n",
       "</tr>\n",
       "</table>\n",
       "<table class=\"simpletable\">\n",
       "<tr>\n",
       "          <td></td>            <th>coef</th>     <th>std err</th>      <th>t</th>      <th>P>|t|</th>  <th>[0.025</th>    <th>0.975]</th>  \n",
       "</tr>\n",
       "<tr>\n",
       "  <th>Intercept</th>        <td>  -13.7590</td> <td>   18.169</td> <td>   -0.757</td> <td> 0.449</td> <td>  -49.390</td> <td>   21.872</td>\n",
       "</tr>\n",
       "<tr>\n",
       "  <th>elo2_pre</th>         <td>   -0.0064</td> <td>    0.005</td> <td>   -1.205</td> <td> 0.228</td> <td>   -0.017</td> <td>    0.004</td>\n",
       "</tr>\n",
       "<tr>\n",
       "  <th>elo_prob2</th>        <td>  -24.6556</td> <td>    3.433</td> <td>   -7.182</td> <td> 0.000</td> <td>  -31.388</td> <td>  -17.923</td>\n",
       "</tr>\n",
       "<tr>\n",
       "  <th>PtsOpp_SA1</th>       <td>   -0.1858</td> <td>    0.072</td> <td>   -2.577</td> <td> 0.010</td> <td>   -0.327</td> <td>   -0.044</td>\n",
       "</tr>\n",
       "<tr>\n",
       "  <th>PtsTm_SA1</th>        <td>    0.1905</td> <td>    0.074</td> <td>    2.574</td> <td> 0.010</td> <td>    0.045</td> <td>    0.336</td>\n",
       "</tr>\n",
       "<tr>\n",
       "  <th>SacksO_SA1</th>       <td>    0.0196</td> <td>    0.366</td> <td>    0.054</td> <td> 0.957</td> <td>   -0.698</td> <td>    0.737</td>\n",
       "</tr>\n",
       "<tr>\n",
       "  <th>Fumbles_SA1</th>      <td>   -0.5964</td> <td>    0.536</td> <td>   -1.112</td> <td> 0.266</td> <td>   -1.648</td> <td>    0.455</td>\n",
       "</tr>\n",
       "<tr>\n",
       "  <th>Penalies_SA1</th>     <td>    0.7518</td> <td>    0.443</td> <td>    1.699</td> <td> 0.090</td> <td>   -0.116</td> <td>    1.620</td>\n",
       "</tr>\n",
       "<tr>\n",
       "  <th>PenY_SA1</th>         <td>   -0.0565</td> <td>    0.047</td> <td>   -1.212</td> <td> 0.226</td> <td>   -0.148</td> <td>    0.035</td>\n",
       "</tr>\n",
       "<tr>\n",
       "  <th>ThirdDAtt_SA1</th>    <td>   -0.3639</td> <td>    0.264</td> <td>   -1.381</td> <td> 0.167</td> <td>   -0.881</td> <td>    0.153</td>\n",
       "</tr>\n",
       "<tr>\n",
       "  <th>TimePossMins_SA1</th> <td>    0.0863</td> <td>    0.158</td> <td>    0.548</td> <td> 0.584</td> <td>   -0.223</td> <td>    0.396</td>\n",
       "</tr>\n",
       "<tr>\n",
       "  <th>PassCmp_SA2</th>      <td>   -1.5183</td> <td>    0.760</td> <td>   -1.998</td> <td> 0.046</td> <td>   -3.009</td> <td>   -0.028</td>\n",
       "</tr>\n",
       "<tr>\n",
       "  <th>PassAtt_SA2</th>      <td>    1.0083</td> <td>    0.483</td> <td>    2.086</td> <td> 0.037</td> <td>    0.060</td> <td>    1.956</td>\n",
       "</tr>\n",
       "<tr>\n",
       "  <th>SacksO_SA2</th>       <td>   -0.5686</td> <td>    0.356</td> <td>   -1.599</td> <td> 0.110</td> <td>   -1.266</td> <td>    0.129</td>\n",
       "</tr>\n",
       "<tr>\n",
       "  <th>ThirdDConv_SA2</th>   <td>   -1.0481</td> <td>    0.417</td> <td>   -2.515</td> <td> 0.012</td> <td>   -1.865</td> <td>   -0.231</td>\n",
       "</tr>\n",
       "<tr>\n",
       "  <th>ThirdDAtt_SA2</th>    <td>    1.0087</td> <td>    0.376</td> <td>    2.684</td> <td> 0.007</td> <td>    0.272</td> <td>    1.746</td>\n",
       "</tr>\n",
       "<tr>\n",
       "  <th>FourthDAtt_SA2</th>   <td>   -2.4717</td> <td>    0.682</td> <td>   -3.626</td> <td> 0.000</td> <td>   -3.809</td> <td>   -1.135</td>\n",
       "</tr>\n",
       "<tr>\n",
       "  <th>PassCompPct_SA2</th>  <td>    0.4979</td> <td>    0.256</td> <td>    1.945</td> <td> 0.052</td> <td>   -0.004</td> <td>    1.000</td>\n",
       "</tr>\n",
       "</table>\n",
       "<table class=\"simpletable\">\n",
       "<tr>\n",
       "  <th>Omnibus:</th>       <td> 6.446</td> <th>  Durbin-Watson:     </th> <td>   2.018</td>\n",
       "</tr>\n",
       "<tr>\n",
       "  <th>Prob(Omnibus):</th> <td> 0.040</td> <th>  Jarque-Bera (JB):  </th> <td>   7.609</td>\n",
       "</tr>\n",
       "<tr>\n",
       "  <th>Skew:</th>          <td> 0.037</td> <th>  Prob(JB):          </th> <td>  0.0223</td>\n",
       "</tr>\n",
       "<tr>\n",
       "  <th>Kurtosis:</th>      <td> 3.280</td> <th>  Cond. No.          </th> <td>9.44e+04</td>\n",
       "</tr>\n",
       "</table><br/><br/>Warnings:<br/>[1] Standard Errors assume that the covariance matrix of the errors is correctly specified.<br/>[2] The condition number is large, 9.44e+04. This might indicate that there are<br/>strong multicollinearity or other numerical problems."
      ],
      "text/plain": [
       "<class 'statsmodels.iolib.summary.Summary'>\n",
       "\"\"\"\n",
       "                            OLS Regression Results                            \n",
       "==============================================================================\n",
       "Dep. Variable:             point_diff   R-squared:                       0.156\n",
       "Model:                            OLS   Adj. R-squared:                  0.149\n",
       "Method:                 Least Squares   F-statistic:                     23.44\n",
       "Date:                Sun, 06 Jan 2019   Prob (F-statistic):           1.47e-67\n",
       "Time:                        12:43:48   Log-Likelihood:                -8780.0\n",
       "No. Observations:                2180   AIC:                         1.760e+04\n",
       "Df Residuals:                    2162   BIC:                         1.770e+04\n",
       "Df Model:                          17                                         \n",
       "Covariance Type:            nonrobust                                         \n",
       "====================================================================================\n",
       "                       coef    std err          t      P>|t|      [0.025      0.975]\n",
       "------------------------------------------------------------------------------------\n",
       "Intercept          -13.7590     18.169     -0.757      0.449     -49.390      21.872\n",
       "elo2_pre            -0.0064      0.005     -1.205      0.228      -0.017       0.004\n",
       "elo_prob2          -24.6556      3.433     -7.182      0.000     -31.388     -17.923\n",
       "PtsOpp_SA1          -0.1858      0.072     -2.577      0.010      -0.327      -0.044\n",
       "PtsTm_SA1            0.1905      0.074      2.574      0.010       0.045       0.336\n",
       "SacksO_SA1           0.0196      0.366      0.054      0.957      -0.698       0.737\n",
       "Fumbles_SA1         -0.5964      0.536     -1.112      0.266      -1.648       0.455\n",
       "Penalies_SA1         0.7518      0.443      1.699      0.090      -0.116       1.620\n",
       "PenY_SA1            -0.0565      0.047     -1.212      0.226      -0.148       0.035\n",
       "ThirdDAtt_SA1       -0.3639      0.264     -1.381      0.167      -0.881       0.153\n",
       "TimePossMins_SA1     0.0863      0.158      0.548      0.584      -0.223       0.396\n",
       "PassCmp_SA2         -1.5183      0.760     -1.998      0.046      -3.009      -0.028\n",
       "PassAtt_SA2          1.0083      0.483      2.086      0.037       0.060       1.956\n",
       "SacksO_SA2          -0.5686      0.356     -1.599      0.110      -1.266       0.129\n",
       "ThirdDConv_SA2      -1.0481      0.417     -2.515      0.012      -1.865      -0.231\n",
       "ThirdDAtt_SA2        1.0087      0.376      2.684      0.007       0.272       1.746\n",
       "FourthDAtt_SA2      -2.4717      0.682     -3.626      0.000      -3.809      -1.135\n",
       "PassCompPct_SA2      0.4979      0.256      1.945      0.052      -0.004       1.000\n",
       "==============================================================================\n",
       "Omnibus:                        6.446   Durbin-Watson:                   2.018\n",
       "Prob(Omnibus):                  0.040   Jarque-Bera (JB):                7.609\n",
       "Skew:                           0.037   Prob(JB):                       0.0223\n",
       "Kurtosis:                       3.280   Cond. No.                     9.44e+04\n",
       "==============================================================================\n",
       "\n",
       "Warnings:\n",
       "[1] Standard Errors assume that the covariance matrix of the errors is correctly specified.\n",
       "[2] The condition number is large, 9.44e+04. This might indicate that there are\n",
       "strong multicollinearity or other numerical problems.\n",
       "\"\"\""
      ]
     },
     "execution_count": 64,
     "metadata": {},
     "output_type": "execute_result"
    }
   ],
   "source": [
    "fit2b = f.simple_OLS(train_df, x_cols_02, target)\n",
    "fit2b.summary()"
   ]
  },
  {
   "cell_type": "code",
   "execution_count": 66,
   "metadata": {},
   "outputs": [
    {
     "data": {
      "image/png": "[encoded data removed]",
      "text/plain": [
       "<Figure size 432x288 with 1 Axes>"
      ]
     },
     "metadata": {
      "needs_background": "light"
     },
     "output_type": "display_data"
    }
   ],
   "source": [
    "f.pick_degrees(drop_df, x_cols_02, target, max_deg=4)"
   ]
  },
  {
   "cell_type": "code",
   "execution_count": 77,
   "metadata": {},
   "outputs": [],
   "source": [
    "model = make_pipeline(PolynomialFeatures(2), StandardScaler(), LinearRegression())"
   ]
  },
  {
   "cell_type": "code",
   "execution_count": 87,
   "metadata": {},
   "outputs": [
    {
     "data": {
      "text/plain": [
       "{'fit_time': array([0.0261941 , 0.02080607, 0.02361417, 0.03113914, 0.01935482]),\n",
       " 'score_time': array([0.0042479 , 0.00415802, 0.00434113, 0.00471377, 0.00299811]),\n",
       " 'test_score': array([ 0.02540411,  0.05521943, -0.00917756,  0.12491351,  0.02072081]),\n",
       " 'train_score': array([0.25714685, 0.24831231, 0.26684721, 0.23732483, 0.25235977])}"
      ]
     },
     "execution_count": 87,
     "metadata": {},
     "output_type": "execute_result"
    }
   ],
   "source": [
    "cross_validate(model, drop_df[x_cols_02], drop_df[target], cv=5)"
   ]
  },
  {
   "cell_type": "code",
   "execution_count": 98,
   "metadata": {},
   "outputs": [
    {
     "data": {
      "text/plain": [
       "{'fit_time': array([0.02418375, 0.02247405, 0.02764606, 0.02294016, 0.01614213]),\n",
       " 'score_time': array([0.00540423, 0.00820184, 0.00975585, 0.00494504, 0.00566864]),\n",
       " 'test_R2': array([ 0.02540411,  0.05521943, -0.00917756,  0.12491351,  0.02072081]),\n",
       " 'train_R2': array([0.25714685, 0.24831231, 0.26684721, 0.23732483, 0.25235977]),\n",
       " 'test_MSE': array([-205.81108224, -201.82975244, -235.63837476, -195.74643201,\n",
       "        -217.24620784]),\n",
       " 'train_MSE': array([-165.87238299, -167.46209341, -159.6939893 , -167.97473742,\n",
       "        -164.93841978])}"
      ]
     },
     "execution_count": 98,
     "metadata": {},
     "output_type": "execute_result"
    }
   ],
   "source": [
    "cross_validate(model, drop_df[x_cols_02], drop_df[target], cv=5, scoring=scoring)"
   ]
  },
  {
   "cell_type": "markdown",
   "metadata": {},
   "source": [
    "### 3. Correlations. Simple OLS \n",
    "<a name=s3 />"
   ]
  },
  {
   "cell_type": "code",
   "execution_count": 99,
   "metadata": {},
   "outputs": [],
   "source": [
    "dfc = train_df.corr()"
   ]
  },
  {
   "cell_type": "code",
   "execution_count": 100,
   "metadata": {},
   "outputs": [
    {
     "data": {
      "text/html": [
       "<div>\n",
       "<style scoped>\n",
       "    .dataframe tbody tr th:only-of-type {\n",
       "        vertical-align: middle;\n",
       "    }\n",
       "\n",
       "    .dataframe tbody tr th {\n",
       "        vertical-align: top;\n",
       "    }\n",
       "\n",
       "    .dataframe thead th {\n",
       "        text-align: right;\n",
       "    }\n",
       "</style>\n",
       "<table border=\"1\" class=\"dataframe\">\n",
       "  <thead>\n",
       "    <tr style=\"text-align: right;\">\n",
       "      <th></th>\n",
       "      <th>neutral</th>\n",
       "      <th>playoff</th>\n",
       "      <th>elo1_pre</th>\n",
       "      <th>elo2_pre</th>\n",
       "      <th>elo_prob1</th>\n",
       "      <th>elo_prob2</th>\n",
       "      <th>score1</th>\n",
       "      <th>score2</th>\n",
       "      <th>elo_delta</th>\n",
       "      <th>Location</th>\n",
       "      <th>...</th>\n",
       "      <th>Fumbles_SA2</th>\n",
       "      <th>Penalies_SA2</th>\n",
       "      <th>PenY_SA2</th>\n",
       "      <th>ThirdDConv_SA2</th>\n",
       "      <th>ThirdDAtt_SA2</th>\n",
       "      <th>FourthDAtt_SA2</th>\n",
       "      <th>PassCompPct_SA2</th>\n",
       "      <th>PassRating_SA2</th>\n",
       "      <th>TimePossMins_SA2</th>\n",
       "      <th>point_diff</th>\n",
       "    </tr>\n",
       "  </thead>\n",
       "  <tbody>\n",
       "    <tr>\n",
       "      <th>neutral</th>\n",
       "      <td>1.000000</td>\n",
       "      <td>0.163384</td>\n",
       "      <td>0.042063</td>\n",
       "      <td>0.035211</td>\n",
       "      <td>-0.048643</td>\n",
       "      <td>0.048643</td>\n",
       "      <td>0.036028</td>\n",
       "      <td>-0.011074</td>\n",
       "      <td>0.046575</td>\n",
       "      <td>0.574923</td>\n",
       "      <td>...</td>\n",
       "      <td>-0.009652</td>\n",
       "      <td>0.004452</td>\n",
       "      <td>0.007085</td>\n",
       "      <td>0.002381</td>\n",
       "      <td>-0.008463</td>\n",
       "      <td>0.022405</td>\n",
       "      <td>0.012401</td>\n",
       "      <td>-0.001855</td>\n",
       "      <td>-0.006728</td>\n",
       "      <td>0.032840</td>\n",
       "    </tr>\n",
       "    <tr>\n",
       "      <th>playoff</th>\n",
       "      <td>0.163384</td>\n",
       "      <td>1.000000</td>\n",
       "      <td>0.263349</td>\n",
       "      <td>0.232668</td>\n",
       "      <td>0.024405</td>\n",
       "      <td>-0.024405</td>\n",
       "      <td>0.043957</td>\n",
       "      <td>0.015035</td>\n",
       "      <td>0.020985</td>\n",
       "      <td>-0.012274</td>\n",
       "      <td>...</td>\n",
       "      <td>-0.053064</td>\n",
       "      <td>-0.054910</td>\n",
       "      <td>-0.039600</td>\n",
       "      <td>0.044052</td>\n",
       "      <td>-0.000052</td>\n",
       "      <td>-0.021463</td>\n",
       "      <td>0.008864</td>\n",
       "      <td>0.062595</td>\n",
       "      <td>0.067479</td>\n",
       "      <td>0.020771</td>\n",
       "    </tr>\n",
       "    <tr>\n",
       "      <th>elo1_pre</th>\n",
       "      <td>0.042063</td>\n",
       "      <td>0.263349</td>\n",
       "      <td>1.000000</td>\n",
       "      <td>0.078979</td>\n",
       "      <td>0.679078</td>\n",
       "      <td>-0.679078</td>\n",
       "      <td>0.253864</td>\n",
       "      <td>-0.143856</td>\n",
       "      <td>0.015556</td>\n",
       "      <td>0.022432</td>\n",
       "      <td>...</td>\n",
       "      <td>-0.021965</td>\n",
       "      <td>0.000210</td>\n",
       "      <td>-0.002406</td>\n",
       "      <td>0.012896</td>\n",
       "      <td>0.000564</td>\n",
       "      <td>0.023232</td>\n",
       "      <td>-0.004076</td>\n",
       "      <td>0.006638</td>\n",
       "      <td>0.021598</td>\n",
       "      <td>0.275893</td>\n",
       "    </tr>\n",
       "    <tr>\n",
       "      <th>elo2_pre</th>\n",
       "      <td>0.035211</td>\n",
       "      <td>0.232668</td>\n",
       "      <td>0.078979</td>\n",
       "      <td>1.000000</td>\n",
       "      <td>-0.668180</td>\n",
       "      <td>0.668180</td>\n",
       "      <td>-0.104216</td>\n",
       "      <td>0.223466</td>\n",
       "      <td>0.029954</td>\n",
       "      <td>-0.067223</td>\n",
       "      <td>...</td>\n",
       "      <td>-0.255799</td>\n",
       "      <td>-0.099035</td>\n",
       "      <td>-0.058918</td>\n",
       "      <td>0.294676</td>\n",
       "      <td>-0.125691</td>\n",
       "      <td>-0.252669</td>\n",
       "      <td>0.422980</td>\n",
       "      <td>0.528614</td>\n",
       "      <td>0.368514</td>\n",
       "      <td>-0.224393</td>\n",
       "    </tr>\n",
       "    <tr>\n",
       "      <th>elo_prob1</th>\n",
       "      <td>-0.048643</td>\n",
       "      <td>0.024405</td>\n",
       "      <td>0.679078</td>\n",
       "      <td>-0.668180</td>\n",
       "      <td>1.000000</td>\n",
       "      <td>-1.000000</td>\n",
       "      <td>0.262944</td>\n",
       "      <td>-0.266919</td>\n",
       "      <td>-0.014642</td>\n",
       "      <td>0.032511</td>\n",
       "      <td>...</td>\n",
       "      <td>0.170818</td>\n",
       "      <td>0.074740</td>\n",
       "      <td>0.042551</td>\n",
       "      <td>-0.204143</td>\n",
       "      <td>0.090710</td>\n",
       "      <td>0.198938</td>\n",
       "      <td>-0.306649</td>\n",
       "      <td>-0.378121</td>\n",
       "      <td>-0.247896</td>\n",
       "      <td>0.365467</td>\n",
       "    </tr>\n",
       "  </tbody>\n",
       "</table>\n",
       "<p>5 rows × 64 columns</p>\n",
       "</div>"
      ],
      "text/plain": [
       "            neutral   playoff  elo1_pre  elo2_pre  elo_prob1  elo_prob2  \\\n",
       "neutral    1.000000  0.163384  0.042063  0.035211  -0.048643   0.048643   \n",
       "playoff    0.163384  1.000000  0.263349  0.232668   0.024405  -0.024405   \n",
       "elo1_pre   0.042063  0.263349  1.000000  0.078979   0.679078  -0.679078   \n",
       "elo2_pre   0.035211  0.232668  0.078979  1.000000  -0.668180   0.668180   \n",
       "elo_prob1 -0.048643  0.024405  0.679078 -0.668180   1.000000  -1.000000   \n",
       "\n",
       "             score1    score2  elo_delta  Location     ...      Fumbles_SA2  \\\n",
       "neutral    0.036028 -0.011074   0.046575  0.574923     ...        -0.009652   \n",
       "playoff    0.043957  0.015035   0.020985 -0.012274     ...        -0.053064   \n",
       "elo1_pre   0.253864 -0.143856   0.015556  0.022432     ...        -0.021965   \n",
       "elo2_pre  -0.104216  0.223466   0.029954 -0.067223     ...        -0.255799   \n",
       "elo_prob1  0.262944 -0.266919  -0.014642  0.032511     ...         0.170818   \n",
       "\n",
       "           Penalies_SA2  PenY_SA2  ThirdDConv_SA2  ThirdDAtt_SA2  \\\n",
       "neutral        0.004452  0.007085        0.002381      -0.008463   \n",
       "playoff       -0.054910 -0.039600        0.044052      -0.000052   \n",
       "elo1_pre       0.000210 -0.002406        0.012896       0.000564   \n",
       "elo2_pre      -0.099035 -0.058918        0.294676      -0.125691   \n",
       "elo_prob1      0.074740  0.042551       -0.204143       0.090710   \n",
       "\n",
       "           FourthDAtt_SA2  PassCompPct_SA2  PassRating_SA2  TimePossMins_SA2  \\\n",
       "neutral          0.022405         0.012401       -0.001855         -0.006728   \n",
       "playoff         -0.021463         0.008864        0.062595          0.067479   \n",
       "elo1_pre         0.023232        -0.004076        0.006638          0.021598   \n",
       "elo2_pre        -0.252669         0.422980        0.528614          0.368514   \n",
       "elo_prob1        0.198938        -0.306649       -0.378121         -0.247896   \n",
       "\n",
       "           point_diff  \n",
       "neutral      0.032840  \n",
       "playoff      0.020771  \n",
       "elo1_pre     0.275893  \n",
       "elo2_pre    -0.224393  \n",
       "elo_prob1    0.365467  \n",
       "\n",
       "[5 rows x 64 columns]"
      ]
     },
     "execution_count": 100,
     "metadata": {},
     "output_type": "execute_result"
    }
   ],
   "source": [
    "dfc.head()"
   ]
  },
  {
   "cell_type": "code",
   "execution_count": null,
   "metadata": {},
   "outputs": [],
   "source": [
    "plt.plot(df)"
   ]
  },
  {
   "cell_type": "code",
   "execution_count": 101,
   "metadata": {},
   "outputs": [
    {
     "data": {
      "text/plain": [
       "<matplotlib.axes._subplots.AxesSubplot at 0x1c21a0bda0>"
      ]
     },
     "execution_count": 101,
     "metadata": {},
     "output_type": "execute_result"
    },
    {
     "data": {
      "image/png": "[encoded data removed]",
      "text/plain": [
       "<Figure size 864x864 with 2 Axes>"
      ]
     },
     "metadata": {
      "needs_background": "light"
     },
     "output_type": "display_data"
    }
   ],
   "source": [
    "plt.figure(figsize=(12,12))\n",
    "sns.heatmap(dfc, cmap='coolwarm')"
   ]
  },
  {
   "cell_type": "code",
   "execution_count": 102,
   "metadata": {},
   "outputs": [
    {
     "data": {
      "text/plain": [
       "<matplotlib.axes._subplots.AxesSubplot at 0x1c21a0b390>"
      ]
     },
     "execution_count": 102,
     "metadata": {},
     "output_type": "execute_result"
    },
    {
     "data": {
      "image/png": "[encoded data removed]",
      "text/plain": [
       "<Figure size 432x288 with 1 Axes>"
      ]
     },
     "metadata": {
      "needs_background": "light"
     },
     "output_type": "display_data"
    }
   ],
   "source": [
    "dfc[target].hist()"
   ]
  },
  {
   "cell_type": "markdown",
   "metadata": {},
   "source": [
    "Most are ~0. But some aren't"
   ]
  },
  {
   "cell_type": "code",
   "execution_count": 103,
   "metadata": {},
   "outputs": [],
   "source": [
    "corr_cols = list(dfc.loc[(abs(dfc[target]) > 0.1) & (dfc[target] < 1)][target].index)"
   ]
  },
  {
   "cell_type": "code",
   "execution_count": 104,
   "metadata": {},
   "outputs": [
    {
     "data": {
      "text/plain": [
       "['elo1_pre',\n",
       " 'elo2_pre',\n",
       " 'elo_prob1',\n",
       " 'elo_prob2',\n",
       " 'score1',\n",
       " 'score2',\n",
       " 'elo_delta',\n",
       " 'Losses1',\n",
       " 'FirstD_SA1',\n",
       " 'PassY_SA1',\n",
       " 'PtsOpp_SA1',\n",
       " 'PtsTm_SA1',\n",
       " 'TotY_SA1',\n",
       " 'PassCmp_SA1',\n",
       " 'PassTDs_SA1',\n",
       " 'SacksO_SA1',\n",
       " 'PassCompPct_SA1',\n",
       " 'PassRating_SA1',\n",
       " 'TimePossMins_SA1',\n",
       " 'Losses2',\n",
       " 'FirstD_SA2',\n",
       " 'PtsTm_SA2',\n",
       " 'TotY_SA2',\n",
       " 'PassTDs_SA2',\n",
       " 'PassCompPct_SA2',\n",
       " 'PassRating_SA2',\n",
       " 'TimePossMins_SA2']"
      ]
     },
     "execution_count": 104,
     "metadata": {},
     "output_type": "execute_result"
    }
   ],
   "source": [
    "corr_cols"
   ]
  },
  {
   "cell_type": "code",
   "execution_count": 105,
   "metadata": {},
   "outputs": [],
   "source": [
    "drop_cols_02 = ['score1','score2','elo_delta']"
   ]
  },
  {
   "cell_type": "code",
   "execution_count": 106,
   "metadata": {},
   "outputs": [],
   "source": [
    "corr_cols = [x for x in corr_cols if x not in drop_cols_02]"
   ]
  },
  {
   "cell_type": "code",
   "execution_count": 107,
   "metadata": {},
   "outputs": [
    {
     "data": {
      "text/html": [
       "<table class=\"simpletable\">\n",
       "<caption>OLS Regression Results</caption>\n",
       "<tr>\n",
       "  <th>Dep. Variable:</th>       <td>point_diff</td>    <th>  R-squared:         </th> <td>   0.154</td> \n",
       "</tr>\n",
       "<tr>\n",
       "  <th>Model:</th>                   <td>OLS</td>       <th>  Adj. R-squared:    </th> <td>   0.144</td> \n",
       "</tr>\n",
       "<tr>\n",
       "  <th>Method:</th>             <td>Least Squares</td>  <th>  F-statistic:       </th> <td>   17.00</td> \n",
       "</tr>\n",
       "<tr>\n",
       "  <th>Date:</th>             <td>Sun, 06 Jan 2019</td> <th>  Prob (F-statistic):</th> <td>1.76e-62</td> \n",
       "</tr>\n",
       "<tr>\n",
       "  <th>Time:</th>                 <td>13:08:55</td>     <th>  Log-Likelihood:    </th> <td> -8782.7</td> \n",
       "</tr>\n",
       "<tr>\n",
       "  <th>No. Observations:</th>      <td>  2180</td>      <th>  AIC:               </th> <td>1.761e+04</td>\n",
       "</tr>\n",
       "<tr>\n",
       "  <th>Df Residuals:</th>          <td>  2156</td>      <th>  BIC:               </th> <td>1.775e+04</td>\n",
       "</tr>\n",
       "<tr>\n",
       "  <th>Df Model:</th>              <td>    23</td>      <th>                     </th>     <td> </td>    \n",
       "</tr>\n",
       "<tr>\n",
       "  <th>Covariance Type:</th>      <td>nonrobust</td>    <th>                     </th>     <td> </td>    \n",
       "</tr>\n",
       "</table>\n",
       "<table class=\"simpletable\">\n",
       "<tr>\n",
       "          <td></td>            <th>coef</th>     <th>std err</th>      <th>t</th>      <th>P>|t|</th>  <th>[0.025</th>    <th>0.975]</th>  \n",
       "</tr>\n",
       "<tr>\n",
       "  <th>Intercept</th>        <td>    8.9417</td> <td>    7.223</td> <td>    1.238</td> <td> 0.216</td> <td>   -5.223</td> <td>   23.106</td>\n",
       "</tr>\n",
       "<tr>\n",
       "  <th>elo1_pre</th>         <td>    0.0339</td> <td>    0.019</td> <td>    1.827</td> <td> 0.068</td> <td>   -0.002</td> <td>    0.070</td>\n",
       "</tr>\n",
       "<tr>\n",
       "  <th>elo2_pre</th>         <td>   -0.0387</td> <td>    0.019</td> <td>   -2.076</td> <td> 0.038</td> <td>   -0.075</td> <td>   -0.002</td>\n",
       "</tr>\n",
       "<tr>\n",
       "  <th>elo_prob1</th>        <td>    3.4401</td> <td>    7.656</td> <td>    0.449</td> <td> 0.653</td> <td>  -11.573</td> <td>   18.454</td>\n",
       "</tr>\n",
       "<tr>\n",
       "  <th>elo_prob2</th>        <td>    5.5015</td> <td>    8.350</td> <td>    0.659</td> <td> 0.510</td> <td>  -10.874</td> <td>   21.877</td>\n",
       "</tr>\n",
       "<tr>\n",
       "  <th>Losses1</th>          <td>    0.1061</td> <td>    0.211</td> <td>    0.503</td> <td> 0.615</td> <td>   -0.308</td> <td>    0.520</td>\n",
       "</tr>\n",
       "<tr>\n",
       "  <th>FirstD_SA1</th>       <td>    0.0032</td> <td>    0.249</td> <td>    0.013</td> <td> 0.990</td> <td>   -0.486</td> <td>    0.492</td>\n",
       "</tr>\n",
       "<tr>\n",
       "  <th>PassY_SA1</th>        <td>   -0.0018</td> <td>    0.021</td> <td>   -0.086</td> <td> 0.932</td> <td>   -0.043</td> <td>    0.040</td>\n",
       "</tr>\n",
       "<tr>\n",
       "  <th>PtsOpp_SA1</th>       <td>   -0.2809</td> <td>    0.084</td> <td>   -3.332</td> <td> 0.001</td> <td>   -0.446</td> <td>   -0.116</td>\n",
       "</tr>\n",
       "<tr>\n",
       "  <th>PtsTm_SA1</th>        <td>    0.0327</td> <td>    0.112</td> <td>    0.292</td> <td> 0.771</td> <td>   -0.187</td> <td>    0.252</td>\n",
       "</tr>\n",
       "<tr>\n",
       "  <th>TotY_SA1</th>         <td>    0.0293</td> <td>    0.021</td> <td>    1.426</td> <td> 0.154</td> <td>   -0.011</td> <td>    0.070</td>\n",
       "</tr>\n",
       "<tr>\n",
       "  <th>PassCmp_SA1</th>      <td>    0.1060</td> <td>    0.217</td> <td>    0.488</td> <td> 0.626</td> <td>   -0.320</td> <td>    0.532</td>\n",
       "</tr>\n",
       "<tr>\n",
       "  <th>PassTDs_SA1</th>      <td>    0.8351</td> <td>    0.982</td> <td>    0.851</td> <td> 0.395</td> <td>   -1.090</td> <td>    2.760</td>\n",
       "</tr>\n",
       "<tr>\n",
       "  <th>SacksO_SA1</th>       <td>    0.1663</td> <td>    0.372</td> <td>    0.447</td> <td> 0.655</td> <td>   -0.564</td> <td>    0.896</td>\n",
       "</tr>\n",
       "<tr>\n",
       "  <th>PassCompPct_SA1</th>  <td>    0.0264</td> <td>    0.121</td> <td>    0.218</td> <td> 0.828</td> <td>   -0.211</td> <td>    0.264</td>\n",
       "</tr>\n",
       "<tr>\n",
       "  <th>PassRating_SA1</th>   <td>   -0.0191</td> <td>    0.054</td> <td>   -0.356</td> <td> 0.722</td> <td>   -0.124</td> <td>    0.086</td>\n",
       "</tr>\n",
       "<tr>\n",
       "  <th>TimePossMins_SA1</th> <td>   -0.2358</td> <td>    0.178</td> <td>   -1.321</td> <td> 0.187</td> <td>   -0.586</td> <td>    0.114</td>\n",
       "</tr>\n",
       "<tr>\n",
       "  <th>Losses2</th>          <td>   -0.0531</td> <td>    0.207</td> <td>   -0.256</td> <td> 0.798</td> <td>   -0.460</td> <td>    0.353</td>\n",
       "</tr>\n",
       "<tr>\n",
       "  <th>FirstD_SA2</th>       <td>   -0.1729</td> <td>    0.213</td> <td>   -0.813</td> <td> 0.416</td> <td>   -0.590</td> <td>    0.244</td>\n",
       "</tr>\n",
       "<tr>\n",
       "  <th>PtsTm_SA2</th>        <td>    0.0319</td> <td>    0.104</td> <td>    0.306</td> <td> 0.760</td> <td>   -0.173</td> <td>    0.236</td>\n",
       "</tr>\n",
       "<tr>\n",
       "  <th>TotY_SA2</th>         <td>    0.0094</td> <td>    0.013</td> <td>    0.710</td> <td> 0.478</td> <td>   -0.017</td> <td>    0.035</td>\n",
       "</tr>\n",
       "<tr>\n",
       "  <th>PassTDs_SA2</th>      <td>   -0.6302</td> <td>    0.852</td> <td>   -0.740</td> <td> 0.460</td> <td>   -2.301</td> <td>    1.041</td>\n",
       "</tr>\n",
       "<tr>\n",
       "  <th>PassCompPct_SA2</th>  <td>   -0.0068</td> <td>    0.091</td> <td>   -0.076</td> <td> 0.940</td> <td>   -0.185</td> <td>    0.171</td>\n",
       "</tr>\n",
       "<tr>\n",
       "  <th>PassRating_SA2</th>   <td>   -0.0086</td> <td>    0.045</td> <td>   -0.190</td> <td> 0.849</td> <td>   -0.097</td> <td>    0.080</td>\n",
       "</tr>\n",
       "<tr>\n",
       "  <th>TimePossMins_SA2</th> <td>   -0.0891</td> <td>    0.160</td> <td>   -0.558</td> <td> 0.577</td> <td>   -0.402</td> <td>    0.224</td>\n",
       "</tr>\n",
       "</table>\n",
       "<table class=\"simpletable\">\n",
       "<tr>\n",
       "  <th>Omnibus:</th>       <td> 9.375</td> <th>  Durbin-Watson:     </th> <td>   2.010</td>\n",
       "</tr>\n",
       "<tr>\n",
       "  <th>Prob(Omnibus):</th> <td> 0.009</td> <th>  Jarque-Bera (JB):  </th> <td>  11.660</td>\n",
       "</tr>\n",
       "<tr>\n",
       "  <th>Skew:</th>          <td> 0.052</td> <th>  Prob(JB):          </th> <td> 0.00294</td>\n",
       "</tr>\n",
       "<tr>\n",
       "  <th>Kurtosis:</th>      <td> 3.343</td> <th>  Cond. No.          </th> <td>2.18e+19</td>\n",
       "</tr>\n",
       "</table><br/><br/>Warnings:<br/>[1] Standard Errors assume that the covariance matrix of the errors is correctly specified.<br/>[2] The smallest eigenvalue is 2.25e-29. This might indicate that there are<br/>strong multicollinearity problems or that the design matrix is singular."
      ],
      "text/plain": [
       "<class 'statsmodels.iolib.summary.Summary'>\n",
       "\"\"\"\n",
       "                            OLS Regression Results                            \n",
       "==============================================================================\n",
       "Dep. Variable:             point_diff   R-squared:                       0.154\n",
       "Model:                            OLS   Adj. R-squared:                  0.144\n",
       "Method:                 Least Squares   F-statistic:                     17.00\n",
       "Date:                Sun, 06 Jan 2019   Prob (F-statistic):           1.76e-62\n",
       "Time:                        13:08:55   Log-Likelihood:                -8782.7\n",
       "No. Observations:                2180   AIC:                         1.761e+04\n",
       "Df Residuals:                    2156   BIC:                         1.775e+04\n",
       "Df Model:                          23                                         \n",
       "Covariance Type:            nonrobust                                         \n",
       "====================================================================================\n",
       "                       coef    std err          t      P>|t|      [0.025      0.975]\n",
       "------------------------------------------------------------------------------------\n",
       "Intercept            8.9417      7.223      1.238      0.216      -5.223      23.106\n",
       "elo1_pre             0.0339      0.019      1.827      0.068      -0.002       0.070\n",
       "elo2_pre            -0.0387      0.019     -2.076      0.038      -0.075      -0.002\n",
       "elo_prob1            3.4401      7.656      0.449      0.653     -11.573      18.454\n",
       "elo_prob2            5.5015      8.350      0.659      0.510     -10.874      21.877\n",
       "Losses1              0.1061      0.211      0.503      0.615      -0.308       0.520\n",
       "FirstD_SA1           0.0032      0.249      0.013      0.990      -0.486       0.492\n",
       "PassY_SA1           -0.0018      0.021     -0.086      0.932      -0.043       0.040\n",
       "PtsOpp_SA1          -0.2809      0.084     -3.332      0.001      -0.446      -0.116\n",
       "PtsTm_SA1            0.0327      0.112      0.292      0.771      -0.187       0.252\n",
       "TotY_SA1             0.0293      0.021      1.426      0.154      -0.011       0.070\n",
       "PassCmp_SA1          0.1060      0.217      0.488      0.626      -0.320       0.532\n",
       "PassTDs_SA1          0.8351      0.982      0.851      0.395      -1.090       2.760\n",
       "SacksO_SA1           0.1663      0.372      0.447      0.655      -0.564       0.896\n",
       "PassCompPct_SA1      0.0264      0.121      0.218      0.828      -0.211       0.264\n",
       "PassRating_SA1      -0.0191      0.054     -0.356      0.722      -0.124       0.086\n",
       "TimePossMins_SA1    -0.2358      0.178     -1.321      0.187      -0.586       0.114\n",
       "Losses2             -0.0531      0.207     -0.256      0.798      -0.460       0.353\n",
       "FirstD_SA2          -0.1729      0.213     -0.813      0.416      -0.590       0.244\n",
       "PtsTm_SA2            0.0319      0.104      0.306      0.760      -0.173       0.236\n",
       "TotY_SA2             0.0094      0.013      0.710      0.478      -0.017       0.035\n",
       "PassTDs_SA2         -0.6302      0.852     -0.740      0.460      -2.301       1.041\n",
       "PassCompPct_SA2     -0.0068      0.091     -0.076      0.940      -0.185       0.171\n",
       "PassRating_SA2      -0.0086      0.045     -0.190      0.849      -0.097       0.080\n",
       "TimePossMins_SA2    -0.0891      0.160     -0.558      0.577      -0.402       0.224\n",
       "==============================================================================\n",
       "Omnibus:                        9.375   Durbin-Watson:                   2.010\n",
       "Prob(Omnibus):                  0.009   Jarque-Bera (JB):               11.660\n",
       "Skew:                           0.052   Prob(JB):                      0.00294\n",
       "Kurtosis:                       3.343   Cond. No.                     2.18e+19\n",
       "==============================================================================\n",
       "\n",
       "Warnings:\n",
       "[1] Standard Errors assume that the covariance matrix of the errors is correctly specified.\n",
       "[2] The smallest eigenvalue is 2.25e-29. This might indicate that there are\n",
       "strong multicollinearity problems or that the design matrix is singular.\n",
       "\"\"\""
      ]
     },
     "execution_count": 107,
     "metadata": {},
     "output_type": "execute_result"
    }
   ],
   "source": [
    "fit3 = f.simple_OLS(train_df, corr_cols, target)\n",
    "fit3.summary()"
   ]
  },
  {
   "cell_type": "code",
   "execution_count": 111,
   "metadata": {},
   "outputs": [
    {
     "data": {
      "text/plain": [
       "{'fit_time': array([0.05915689, 0.04078007, 0.03825521, 0.0394218 , 0.03854108]),\n",
       " 'score_time': array([0.01808405, 0.00813174, 0.00827289, 0.00799298, 0.00793815]),\n",
       " 'test_R2': array([-0.21947398, -0.22459094, -0.14736946,  0.04421348, -0.0941111 ]),\n",
       " 'train_R2': array([0.31524401, 0.2767686 , 0.32623331, 0.29411646, 0.30372556]),\n",
       " 'test_MSE': array([-257.52341278, -261.60454075, -267.90555655, -213.79806826,\n",
       "        -242.72086182]),\n",
       " 'train_MSE': array([-152.8998122 , -161.12255873, -146.75861892, -155.46671333,\n",
       "        -153.60650896])}"
      ]
     },
     "execution_count": 111,
     "metadata": {},
     "output_type": "execute_result"
    }
   ],
   "source": [
    "cross_validate(model, drop_df[corr_cols], drop_df[target], cv=5, scoring=scoring)"
   ]
  },
  {
   "cell_type": "markdown",
   "metadata": {},
   "source": [
    "### 4. Lasso Regularization to choose features <a name=s4 />"
   ]
  },
  {
   "cell_type": "code",
   "execution_count": 119,
   "metadata": {
    "collapsed": true
   },
   "outputs": [
    {
     "data": {
      "text/plain": [
       "neutral             0\n",
       "playoff             0\n",
       "elo1_pre            0\n",
       "elo2_pre            0\n",
       "elo_prob1           0\n",
       "elo_prob2           0\n",
       "Location            0\n",
       "Week                0\n",
       "Losses1             0\n",
       "FirstD_SA1          0\n",
       "PassY_SA1           0\n",
       "PtsOpp_SA1          0\n",
       "PtsTm_SA1           0\n",
       "RushY_SA1           0\n",
       "TO_SA1              0\n",
       "DefTO_SA1           0\n",
       "TotY_SA1            0\n",
       "RushAtt_SA1         0\n",
       "RushTDs_SA1         0\n",
       "PassCmp_SA1         0\n",
       "PassAtt_SA1         0\n",
       "PassTDs_SA1         0\n",
       "INT_SA1             0\n",
       "SacksO_SA1          0\n",
       "Fumbles_SA1         0\n",
       "Penalies_SA1        0\n",
       "PenY_SA1            0\n",
       "ThirdDConv_SA1      0\n",
       "ThirdDAtt_SA1       0\n",
       "FourthDAtt_SA1      0\n",
       "PassCompPct_SA1     0\n",
       "PassRating_SA1      0\n",
       "TimePossMins_SA1    0\n",
       "Losses2             0\n",
       "FirstD_SA2          0\n",
       "PassY_SA2           0\n",
       "PtsOpp_SA2          0\n",
       "PtsTm_SA2           0\n",
       "RushY_SA2           0\n",
       "TO_SA2              0\n",
       "DefTO_SA2           0\n",
       "TotY_SA2            0\n",
       "RushAtt_SA2         0\n",
       "RushTDs_SA2         0\n",
       "PassCmp_SA2         0\n",
       "PassAtt_SA2         0\n",
       "PassTDs_SA2         0\n",
       "INT_SA2             0\n",
       "SacksO_SA2          0\n",
       "Fumbles_SA2         0\n",
       "Penalies_SA2        0\n",
       "PenY_SA2            0\n",
       "ThirdDConv_SA2      0\n",
       "ThirdDAtt_SA2       0\n",
       "FourthDAtt_SA2      0\n",
       "PassCompPct_SA2     0\n",
       "PassRating_SA2      0\n",
       "TimePossMins_SA2    0\n",
       "dtype: int64"
      ]
     },
     "execution_count": 119,
     "metadata": {},
     "output_type": "execute_result"
    }
   ],
   "source": [
    "np.sum(pd.isna(drop_df[num_cols]))"
   ]
  },
  {
   "cell_type": "code",
   "execution_count": 70,
   "metadata": {},
   "outputs": [],
   "source": [
    "# model = make_pipeline(PolynomialFeatures(2), StandardScaler(), LassoCV(cv=5))\n",
    "model = make_pipeline(StandardScaler(), LassoCV(cv=5))\n",
    "results01 = cross_validate(model, drop_df[num_cols], drop_df[target], cv=5, scoring=scoring, return_estimator=True)"
   ]
  },
  {
   "cell_type": "code",
   "execution_count": 90,
   "metadata": {},
   "outputs": [],
   "source": [
    "coefs01 = [results01['estimator'][i].get_params()['lassocv'].coef_ for i in range(5)]\n",
    "\n",
    "coefs01_mean = np.mean(coefs01, axis=0)\n",
    "\n",
    "idxs01 = np.argwhere(abs(coefs01_mean) > 1e-02)\n",
    "idxs01 = [x[0] for x in idxs01]\n",
    "lcv_cols_01 = [num_cols[x] for x in idxs]\n",
    "\n",
    "alphas01 = [results01['estimator'][i].get_params()['lassocv'].alpha_ for i in range(5)]\n",
    "alpha01_mean = np.mean(alphas01)"
   ]
  },
  {
   "cell_type": "code",
   "execution_count": 91,
   "metadata": {},
   "outputs": [
    {
     "data": {
      "text/plain": [
       "[0.4218826952824352,\n",
       " 0.371158624858281,\n",
       " 0.4603829196174208,\n",
       " 0.35305308827507453,\n",
       " 0.3297324176404206]"
      ]
     },
     "execution_count": 91,
     "metadata": {},
     "output_type": "execute_result"
    }
   ],
   "source": [
    "alphas01"
   ]
  },
  {
   "cell_type": "code",
   "execution_count": 92,
   "metadata": {},
   "outputs": [
    {
     "data": {
      "text/plain": [
       "0.3872419491347264"
      ]
     },
     "execution_count": 92,
     "metadata": {},
     "output_type": "execute_result"
    }
   ],
   "source": [
    "alpha01_mean"
   ]
  },
  {
   "cell_type": "code",
   "execution_count": 93,
   "metadata": {},
   "outputs": [
    {
     "data": {
      "text/plain": [
       "20"
      ]
     },
     "execution_count": 93,
     "metadata": {},
     "output_type": "execute_result"
    }
   ],
   "source": [
    "len(lcv_cols_01)"
   ]
  },
  {
   "cell_type": "code",
   "execution_count": 94,
   "metadata": {},
   "outputs": [
    {
     "data": {
      "text/plain": [
       "['neutral',\n",
       " 'elo2_pre',\n",
       " 'elo_prob1',\n",
       " 'Location',\n",
       " 'FirstD_SA1',\n",
       " 'PassY_SA1',\n",
       " 'PtsOpp_SA1',\n",
       " 'PtsTm_SA1',\n",
       " 'TotY_SA1',\n",
       " 'PassTDs_SA1',\n",
       " 'Fumbles_SA1',\n",
       " 'PassRating_SA1',\n",
       " 'FirstD_SA2',\n",
       " 'PtsTm_SA2',\n",
       " 'TO_SA2',\n",
       " 'PassAtt_SA2',\n",
       " 'Fumbles_SA2',\n",
       " 'PenY_SA2',\n",
       " 'ThirdDAtt_SA2',\n",
       " 'FourthDAtt_SA2']"
      ]
     },
     "execution_count": 94,
     "metadata": {},
     "output_type": "execute_result"
    }
   ],
   "source": [
    "lcv_cols_01"
   ]
  },
  {
   "cell_type": "code",
   "execution_count": null,
   "metadata": {},
   "outputs": [],
   "source": []
  },
  {
   "cell_type": "code",
   "execution_count": 63,
   "metadata": {},
   "outputs": [],
   "source": [
    "model = make_pipeline(PolynomialFeatures(2), StandardScaler(), LassoCV(cv=5))\n",
    "# model = make_pipeline(StandardScaler(), LassoCV(cv=5))\n",
    "results = cross_validate(model, drop_df[num_cols], drop_df[target], cv=5, scoring=scoring, return_estimator=True)"
   ]
  },
  {
   "cell_type": "code",
   "execution_count": 88,
   "metadata": {},
   "outputs": [],
   "source": [
    "coefs = [results['estimator'][i].get_params()['lassocv'].coef_ for i in range(5)]\n",
    "coefs_mean = np.mean(coefs01, axis=0)\n",
    "\n",
    "idxs02 = np.argwhere(abs(coefs01_mean) > 1e-02)\n",
    "idxs02 = [x[0] for x in idxs02]\n",
    "\n",
    "feat_names_02 = results['estimator'][1].get_params()['polynomialfeatures'].get_feature_names()\n",
    "lcv_cols_02 = [feat_names_02[x] for x in idxs]\n",
    "\n",
    "alphas02 = [results['estimator'][i].get_params()['lassocv'].alpha_ for i in range(5)]\n",
    "alpha02_mean = np.mean(alphas02)"
   ]
  },
  {
   "cell_type": "code",
   "execution_count": 83,
   "metadata": {},
   "outputs": [
    {
     "data": {
      "text/plain": [
       "['1',\n",
       " 'x2',\n",
       " 'x3',\n",
       " 'x5',\n",
       " 'x8',\n",
       " 'x9',\n",
       " 'x10',\n",
       " 'x11',\n",
       " 'x15',\n",
       " 'x20',\n",
       " 'x23',\n",
       " 'x30',\n",
       " 'x33',\n",
       " 'x36',\n",
       " 'x38',\n",
       " 'x44',\n",
       " 'x48',\n",
       " 'x50',\n",
       " 'x52',\n",
       " 'x53']"
      ]
     },
     "execution_count": 83,
     "metadata": {},
     "output_type": "execute_result"
    }
   ],
   "source": [
    "lcv_cols_02"
   ]
  },
  {
   "cell_type": "markdown",
   "metadata": {},
   "source": [
    "No interactions or higher-order terms have \"non-zero\" coefficients"
   ]
  },
  {
   "cell_type": "code",
   "execution_count": 95,
   "metadata": {},
   "outputs": [
    {
     "data": {
      "text/plain": [
       "[0, 3, 4, 6, 9, 10, 11, 12, 16, 21, 24, 31, 34, 37, 39, 45, 49, 51, 53, 54]"
      ]
     },
     "execution_count": 95,
     "metadata": {},
     "output_type": "execute_result"
    }
   ],
   "source": [
    "idxs01"
   ]
  },
  {
   "cell_type": "code",
   "execution_count": 96,
   "metadata": {},
   "outputs": [
    {
     "data": {
      "text/plain": [
       "[0, 3, 4, 6, 9, 10, 11, 12, 16, 21, 24, 31, 34, 37, 39, 45, 49, 51, 53, 54]"
      ]
     },
     "execution_count": 96,
     "metadata": {},
     "output_type": "execute_result"
    }
   ],
   "source": [
    "idxs02"
   ]
  },
  {
   "cell_type": "code",
   "execution_count": 97,
   "metadata": {},
   "outputs": [
    {
     "data": {
      "text/plain": [
       "True"
      ]
     },
     "execution_count": 97,
     "metadata": {},
     "output_type": "execute_result"
    }
   ],
   "source": [
    "idxs01 == idxs02"
   ]
  },
  {
   "cell_type": "markdown",
   "metadata": {},
   "source": [
    "All that to prove that we don't need a polynomial degree > 1"
   ]
  },
  {
   "cell_type": "code",
   "execution_count": 109,
   "metadata": {},
   "outputs": [
    {
     "name": "stdout",
     "output_type": "stream",
     "text": [
      "Test R2: 0.1423\n",
      "Train R2: 0.1554\n"
     ]
    }
   ],
   "source": [
    "print(f\"Test R2: {np.mean(results01['test_R2']):.4f}\")\n",
    "print(f\"Train R2: {np.mean(results01['train_R2']):.4f}\")"
   ]
  },
  {
   "cell_type": "code",
   "execution_count": 110,
   "metadata": {},
   "outputs": [
    {
     "name": "stdout",
     "output_type": "stream",
     "text": [
      "Test MSE: 188.7\n",
      "Train MSE: 186.0\n"
     ]
    }
   ],
   "source": [
    "print(f\"Test MSE: {-np.mean(results01['test_MSE']):.1f}\")\n",
    "print(f\"Train MSE: {-np.mean(results01['train_MSE']):.1f}\")"
   ]
  },
  {
   "cell_type": "markdown",
   "metadata": {},
   "source": [
    "At least we aren't over-fitting. Fit is poor though"
   ]
  },
  {
   "cell_type": "code",
   "execution_count": 111,
   "metadata": {},
   "outputs": [
    {
     "data": {
      "text/plain": [
       "13.73651936520774"
      ]
     },
     "execution_count": 111,
     "metadata": {},
     "output_type": "execute_result"
    }
   ],
   "source": [
    "np.sqrt(-np.mean(results01['test_MSE']))"
   ]
  },
  {
   "cell_type": "markdown",
   "metadata": {},
   "source": [
    "Avearge error is 14 points!"
   ]
  },
  {
   "cell_type": "code",
   "execution_count": 112,
   "metadata": {
    "collapsed": true
   },
   "outputs": [
    {
     "data": {
      "text/html": [
       "<table class=\"simpletable\">\n",
       "<caption>OLS Regression Results</caption>\n",
       "<tr>\n",
       "  <th>Dep. Variable:</th>       <td>point_diff</td>    <th>  R-squared:         </th> <td>   0.161</td> \n",
       "</tr>\n",
       "<tr>\n",
       "  <th>Model:</th>                   <td>OLS</td>       <th>  Adj. R-squared:    </th> <td>   0.154</td> \n",
       "</tr>\n",
       "<tr>\n",
       "  <th>Method:</th>             <td>Least Squares</td>  <th>  F-statistic:       </th> <td>   21.30</td> \n",
       "</tr>\n",
       "<tr>\n",
       "  <th>Date:</th>             <td>Sun, 06 Jan 2019</td> <th>  Prob (F-statistic):</th> <td>1.43e-70</td> \n",
       "</tr>\n",
       "<tr>\n",
       "  <th>Time:</th>                 <td>18:30:53</td>     <th>  Log-Likelihood:    </th> <td> -8995.0</td> \n",
       "</tr>\n",
       "<tr>\n",
       "  <th>No. Observations:</th>      <td>  2233</td>      <th>  AIC:               </th> <td>1.803e+04</td>\n",
       "</tr>\n",
       "<tr>\n",
       "  <th>Df Residuals:</th>          <td>  2212</td>      <th>  BIC:               </th> <td>1.815e+04</td>\n",
       "</tr>\n",
       "<tr>\n",
       "  <th>Df Model:</th>              <td>    20</td>      <th>                     </th>     <td> </td>    \n",
       "</tr>\n",
       "<tr>\n",
       "  <th>Covariance Type:</th>      <td>nonrobust</td>    <th>                     </th>     <td> </td>    \n",
       "</tr>\n",
       "</table>\n",
       "<table class=\"simpletable\">\n",
       "<tr>\n",
       "         <td></td>           <th>coef</th>     <th>std err</th>      <th>t</th>      <th>P>|t|</th>  <th>[0.025</th>    <th>0.975]</th>  \n",
       "</tr>\n",
       "<tr>\n",
       "  <th>Intercept</th>      <td>   -6.9048</td> <td>   10.130</td> <td>   -0.682</td> <td> 0.496</td> <td>  -26.770</td> <td>   12.960</td>\n",
       "</tr>\n",
       "<tr>\n",
       "  <th>neutral</th>        <td>    4.8594</td> <td>    3.102</td> <td>    1.567</td> <td> 0.117</td> <td>   -1.223</td> <td>   10.942</td>\n",
       "</tr>\n",
       "<tr>\n",
       "  <th>elo2_pre</th>       <td>   -0.0068</td> <td>    0.005</td> <td>   -1.242</td> <td> 0.214</td> <td>   -0.018</td> <td>    0.004</td>\n",
       "</tr>\n",
       "<tr>\n",
       "  <th>elo_prob1</th>      <td>   23.4406</td> <td>    3.405</td> <td>    6.883</td> <td> 0.000</td> <td>   16.763</td> <td>   30.119</td>\n",
       "</tr>\n",
       "<tr>\n",
       "  <th>Location</th>       <td>    2.7878</td> <td>    5.336</td> <td>    0.522</td> <td> 0.601</td> <td>   -7.675</td> <td>   13.251</td>\n",
       "</tr>\n",
       "<tr>\n",
       "  <th>FirstD_SA1</th>     <td>    0.0263</td> <td>    0.207</td> <td>    0.127</td> <td> 0.899</td> <td>   -0.380</td> <td>    0.432</td>\n",
       "</tr>\n",
       "<tr>\n",
       "  <th>PassY_SA1</th>      <td>    0.0114</td> <td>    0.013</td> <td>    0.911</td> <td> 0.363</td> <td>   -0.013</td> <td>    0.036</td>\n",
       "</tr>\n",
       "<tr>\n",
       "  <th>PtsOpp_SA1</th>     <td>   -0.2279</td> <td>    0.073</td> <td>   -3.107</td> <td> 0.002</td> <td>   -0.372</td> <td>   -0.084</td>\n",
       "</tr>\n",
       "<tr>\n",
       "  <th>PtsTm_SA1</th>      <td>   -0.0009</td> <td>    0.098</td> <td>   -0.010</td> <td> 0.992</td> <td>   -0.193</td> <td>    0.191</td>\n",
       "</tr>\n",
       "<tr>\n",
       "  <th>TotY_SA1</th>       <td>    0.0168</td> <td>    0.017</td> <td>    0.978</td> <td> 0.328</td> <td>   -0.017</td> <td>    0.050</td>\n",
       "</tr>\n",
       "<tr>\n",
       "  <th>PassTDs_SA1</th>    <td>    0.7354</td> <td>    0.890</td> <td>    0.826</td> <td> 0.409</td> <td>   -1.010</td> <td>    2.481</td>\n",
       "</tr>\n",
       "<tr>\n",
       "  <th>Fumbles_SA1</th>    <td>   -0.5236</td> <td>    0.518</td> <td>   -1.010</td> <td> 0.313</td> <td>   -1.540</td> <td>    0.493</td>\n",
       "</tr>\n",
       "<tr>\n",
       "  <th>PassRating_SA1</th> <td>    0.0033</td> <td>    0.027</td> <td>    0.125</td> <td> 0.901</td> <td>   -0.049</td> <td>    0.055</td>\n",
       "</tr>\n",
       "<tr>\n",
       "  <th>FirstD_SA2</th>     <td>   -0.2207</td> <td>    0.161</td> <td>   -1.369</td> <td> 0.171</td> <td>   -0.537</td> <td>    0.095</td>\n",
       "</tr>\n",
       "<tr>\n",
       "  <th>PtsTm_SA2</th>      <td>    0.0006</td> <td>    0.082</td> <td>    0.007</td> <td> 0.994</td> <td>   -0.159</td> <td>    0.161</td>\n",
       "</tr>\n",
       "<tr>\n",
       "  <th>TO_SA2</th>         <td>    0.1118</td> <td>    0.571</td> <td>    0.196</td> <td> 0.845</td> <td>   -1.007</td> <td>    1.231</td>\n",
       "</tr>\n",
       "<tr>\n",
       "  <th>PassAtt_SA2</th>    <td>    0.0926</td> <td>    0.074</td> <td>    1.258</td> <td> 0.209</td> <td>   -0.052</td> <td>    0.237</td>\n",
       "</tr>\n",
       "<tr>\n",
       "  <th>Fumbles_SA2</th>    <td>    0.6177</td> <td>    0.597</td> <td>    1.035</td> <td> 0.301</td> <td>   -0.552</td> <td>    1.788</td>\n",
       "</tr>\n",
       "<tr>\n",
       "  <th>PenY_SA2</th>       <td>   -0.0309</td> <td>    0.021</td> <td>   -1.461</td> <td> 0.144</td> <td>   -0.072</td> <td>    0.011</td>\n",
       "</tr>\n",
       "<tr>\n",
       "  <th>ThirdDAtt_SA2</th>  <td>    0.4002</td> <td>    0.209</td> <td>    1.911</td> <td> 0.056</td> <td>   -0.011</td> <td>    0.811</td>\n",
       "</tr>\n",
       "<tr>\n",
       "  <th>FourthDAtt_SA2</th> <td>   -1.9132</td> <td>    0.659</td> <td>   -2.903</td> <td> 0.004</td> <td>   -3.206</td> <td>   -0.621</td>\n",
       "</tr>\n",
       "</table>\n",
       "<table class=\"simpletable\">\n",
       "<tr>\n",
       "  <th>Omnibus:</th>       <td> 7.010</td> <th>  Durbin-Watson:     </th> <td>   2.001</td>\n",
       "</tr>\n",
       "<tr>\n",
       "  <th>Prob(Omnibus):</th> <td> 0.030</td> <th>  Jarque-Bera (JB):  </th> <td>   8.373</td>\n",
       "</tr>\n",
       "<tr>\n",
       "  <th>Skew:</th>          <td> 0.038</td> <th>  Prob(JB):          </th> <td>  0.0152</td>\n",
       "</tr>\n",
       "<tr>\n",
       "  <th>Kurtosis:</th>      <td> 3.290</td> <th>  Cond. No.          </th> <td>5.69e+04</td>\n",
       "</tr>\n",
       "</table><br/><br/>Warnings:<br/>[1] Standard Errors assume that the covariance matrix of the errors is correctly specified.<br/>[2] The condition number is large, 5.69e+04. This might indicate that there are<br/>strong multicollinearity or other numerical problems."
      ],
      "text/plain": [
       "<class 'statsmodels.iolib.summary.Summary'>\n",
       "\"\"\"\n",
       "                            OLS Regression Results                            \n",
       "==============================================================================\n",
       "Dep. Variable:             point_diff   R-squared:                       0.161\n",
       "Model:                            OLS   Adj. R-squared:                  0.154\n",
       "Method:                 Least Squares   F-statistic:                     21.30\n",
       "Date:                Sun, 06 Jan 2019   Prob (F-statistic):           1.43e-70\n",
       "Time:                        18:30:53   Log-Likelihood:                -8995.0\n",
       "No. Observations:                2233   AIC:                         1.803e+04\n",
       "Df Residuals:                    2212   BIC:                         1.815e+04\n",
       "Df Model:                          20                                         \n",
       "Covariance Type:            nonrobust                                         \n",
       "==================================================================================\n",
       "                     coef    std err          t      P>|t|      [0.025      0.975]\n",
       "----------------------------------------------------------------------------------\n",
       "Intercept         -6.9048     10.130     -0.682      0.496     -26.770      12.960\n",
       "neutral            4.8594      3.102      1.567      0.117      -1.223      10.942\n",
       "elo2_pre          -0.0068      0.005     -1.242      0.214      -0.018       0.004\n",
       "elo_prob1         23.4406      3.405      6.883      0.000      16.763      30.119\n",
       "Location           2.7878      5.336      0.522      0.601      -7.675      13.251\n",
       "FirstD_SA1         0.0263      0.207      0.127      0.899      -0.380       0.432\n",
       "PassY_SA1          0.0114      0.013      0.911      0.363      -0.013       0.036\n",
       "PtsOpp_SA1        -0.2279      0.073     -3.107      0.002      -0.372      -0.084\n",
       "PtsTm_SA1         -0.0009      0.098     -0.010      0.992      -0.193       0.191\n",
       "TotY_SA1           0.0168      0.017      0.978      0.328      -0.017       0.050\n",
       "PassTDs_SA1        0.7354      0.890      0.826      0.409      -1.010       2.481\n",
       "Fumbles_SA1       -0.5236      0.518     -1.010      0.313      -1.540       0.493\n",
       "PassRating_SA1     0.0033      0.027      0.125      0.901      -0.049       0.055\n",
       "FirstD_SA2        -0.2207      0.161     -1.369      0.171      -0.537       0.095\n",
       "PtsTm_SA2          0.0006      0.082      0.007      0.994      -0.159       0.161\n",
       "TO_SA2             0.1118      0.571      0.196      0.845      -1.007       1.231\n",
       "PassAtt_SA2        0.0926      0.074      1.258      0.209      -0.052       0.237\n",
       "Fumbles_SA2        0.6177      0.597      1.035      0.301      -0.552       1.788\n",
       "PenY_SA2          -0.0309      0.021     -1.461      0.144      -0.072       0.011\n",
       "ThirdDAtt_SA2      0.4002      0.209      1.911      0.056      -0.011       0.811\n",
       "FourthDAtt_SA2    -1.9132      0.659     -2.903      0.004      -3.206      -0.621\n",
       "==============================================================================\n",
       "Omnibus:                        7.010   Durbin-Watson:                   2.001\n",
       "Prob(Omnibus):                  0.030   Jarque-Bera (JB):                8.373\n",
       "Skew:                           0.038   Prob(JB):                       0.0152\n",
       "Kurtosis:                       3.290   Cond. No.                     5.69e+04\n",
       "==============================================================================\n",
       "\n",
       "Warnings:\n",
       "[1] Standard Errors assume that the covariance matrix of the errors is correctly specified.\n",
       "[2] The condition number is large, 5.69e+04. This might indicate that there are\n",
       "strong multicollinearity or other numerical problems.\n",
       "\"\"\""
      ]
     },
     "execution_count": 112,
     "metadata": {},
     "output_type": "execute_result"
    }
   ],
   "source": [
    "fit4 = f.simple_OLS(train_df, lcv_cols_01, target)\n",
    "fit4.summary()"
   ]
  },
  {
   "cell_type": "code",
   "execution_count": 113,
   "metadata": {
    "collapsed": true
   },
   "outputs": [
    {
     "ename": "ValueError",
     "evalue": "Input contains NaN, infinity or a value too large for dtype('float64').",
     "output_type": "error",
     "traceback": [
      "\u001b[0;31m---------------------------------------------------------------------------\u001b[0m",
      "\u001b[0;31mValueError\u001b[0m                                Traceback (most recent call last)",
      "\u001b[0;32m<ipython-input-113-4a61d7142ed2>\u001b[0m in \u001b[0;36m<module>\u001b[0;34m\u001b[0m\n\u001b[0;32m----> 1\u001b[0;31m \u001b[0mf\u001b[0m\u001b[0;34m.\u001b[0m\u001b[0mpick_degrees\u001b[0m\u001b[0;34m(\u001b[0m\u001b[0mtrain_df\u001b[0m\u001b[0;34m,\u001b[0m \u001b[0mlcv_cols_01\u001b[0m\u001b[0;34m,\u001b[0m \u001b[0mtarget\u001b[0m\u001b[0;34m,\u001b[0m \u001b[0mmax_deg\u001b[0m\u001b[0;34m=\u001b[0m\u001b[0;36m4\u001b[0m\u001b[0;34m)\u001b[0m\u001b[0;34m\u001b[0m\u001b[0m\n\u001b[0m",
      "\u001b[0;32m~/data_science/Projects/nfl-predictions/fitting.py\u001b[0m in \u001b[0;36mpick_degrees\u001b[0;34m(df, x_cols, target, max_deg)\u001b[0m\n\u001b[1;32m     61\u001b[0m     \u001b[0;32mfor\u001b[0m \u001b[0mdegree\u001b[0m \u001b[0;32min\u001b[0m \u001b[0mrange\u001b[0m\u001b[0;34m(\u001b[0m\u001b[0mdeg\u001b[0m\u001b[0;34m)\u001b[0m\u001b[0;34m:\u001b[0m\u001b[0;34m\u001b[0m\u001b[0m\n\u001b[1;32m     62\u001b[0m         \u001b[0mest\u001b[0m \u001b[0;34m=\u001b[0m \u001b[0mmake_pipeline\u001b[0m\u001b[0;34m(\u001b[0m\u001b[0mPolynomialFeatures\u001b[0m\u001b[0;34m(\u001b[0m\u001b[0mdegree\u001b[0m\u001b[0;34m)\u001b[0m\u001b[0;34m,\u001b[0m \u001b[0mStandardScaler\u001b[0m\u001b[0;34m(\u001b[0m\u001b[0;34m)\u001b[0m\u001b[0;34m,\u001b[0m \u001b[0mLinearRegression\u001b[0m\u001b[0;34m(\u001b[0m\u001b[0;34m)\u001b[0m\u001b[0;34m)\u001b[0m\u001b[0;34m\u001b[0m\u001b[0m\n\u001b[0;32m---> 63\u001b[0;31m         \u001b[0mest\u001b[0m\u001b[0;34m.\u001b[0m\u001b[0mfit\u001b[0m\u001b[0;34m(\u001b[0m\u001b[0mX_train\u001b[0m\u001b[0;34m,\u001b[0m \u001b[0my_train\u001b[0m\u001b[0;34m)\u001b[0m\u001b[0;34m\u001b[0m\u001b[0m\n\u001b[0m\u001b[1;32m     64\u001b[0m         \u001b[0mtrain_error\u001b[0m\u001b[0;34m[\u001b[0m\u001b[0mdegree\u001b[0m\u001b[0;34m]\u001b[0m \u001b[0;34m=\u001b[0m \u001b[0mmean_squared_error\u001b[0m\u001b[0;34m(\u001b[0m\u001b[0my_train\u001b[0m\u001b[0;34m,\u001b[0m \u001b[0mest\u001b[0m\u001b[0;34m.\u001b[0m\u001b[0mpredict\u001b[0m\u001b[0;34m(\u001b[0m\u001b[0mX_train\u001b[0m\u001b[0;34m)\u001b[0m\u001b[0;34m)\u001b[0m\u001b[0;34m\u001b[0m\u001b[0m\n\u001b[1;32m     65\u001b[0m         \u001b[0mtest_error\u001b[0m\u001b[0;34m[\u001b[0m\u001b[0mdegree\u001b[0m\u001b[0;34m]\u001b[0m \u001b[0;34m=\u001b[0m \u001b[0mmean_squared_error\u001b[0m\u001b[0;34m(\u001b[0m\u001b[0my_test\u001b[0m\u001b[0;34m,\u001b[0m \u001b[0mest\u001b[0m\u001b[0;34m.\u001b[0m\u001b[0mpredict\u001b[0m\u001b[0;34m(\u001b[0m\u001b[0mX_test\u001b[0m\u001b[0;34m)\u001b[0m\u001b[0;34m)\u001b[0m\u001b[0;34m\u001b[0m\u001b[0m\n",
      "\u001b[0;32m~/anaconda3/lib/python3.6/site-packages/sklearn/pipeline.py\u001b[0m in \u001b[0;36mfit\u001b[0;34m(self, X, y, **fit_params)\u001b[0m\n\u001b[1;32m    263\u001b[0m             \u001b[0mThis\u001b[0m \u001b[0mestimator\u001b[0m\u001b[0;34m\u001b[0m\u001b[0m\n\u001b[1;32m    264\u001b[0m         \"\"\"\n\u001b[0;32m--> 265\u001b[0;31m         \u001b[0mXt\u001b[0m\u001b[0;34m,\u001b[0m \u001b[0mfit_params\u001b[0m \u001b[0;34m=\u001b[0m \u001b[0mself\u001b[0m\u001b[0;34m.\u001b[0m\u001b[0m_fit\u001b[0m\u001b[0;34m(\u001b[0m\u001b[0mX\u001b[0m\u001b[0;34m,\u001b[0m \u001b[0my\u001b[0m\u001b[0;34m,\u001b[0m \u001b[0;34m**\u001b[0m\u001b[0mfit_params\u001b[0m\u001b[0;34m)\u001b[0m\u001b[0;34m\u001b[0m\u001b[0m\n\u001b[0m\u001b[1;32m    266\u001b[0m         \u001b[0;32mif\u001b[0m \u001b[0mself\u001b[0m\u001b[0;34m.\u001b[0m\u001b[0m_final_estimator\u001b[0m \u001b[0;32mis\u001b[0m \u001b[0;32mnot\u001b[0m \u001b[0;32mNone\u001b[0m\u001b[0;34m:\u001b[0m\u001b[0;34m\u001b[0m\u001b[0m\n\u001b[1;32m    267\u001b[0m             \u001b[0mself\u001b[0m\u001b[0;34m.\u001b[0m\u001b[0m_final_estimator\u001b[0m\u001b[0;34m.\u001b[0m\u001b[0mfit\u001b[0m\u001b[0;34m(\u001b[0m\u001b[0mXt\u001b[0m\u001b[0;34m,\u001b[0m \u001b[0my\u001b[0m\u001b[0;34m,\u001b[0m \u001b[0;34m**\u001b[0m\u001b[0mfit_params\u001b[0m\u001b[0;34m)\u001b[0m\u001b[0;34m\u001b[0m\u001b[0m\n",
      "\u001b[0;32m~/anaconda3/lib/python3.6/site-packages/sklearn/pipeline.py\u001b[0m in \u001b[0;36m_fit\u001b[0;34m(self, X, y, **fit_params)\u001b[0m\n\u001b[1;32m    228\u001b[0m                 Xt, fitted_transformer = fit_transform_one_cached(\n\u001b[1;32m    229\u001b[0m                     \u001b[0mcloned_transformer\u001b[0m\u001b[0;34m,\u001b[0m \u001b[0mXt\u001b[0m\u001b[0;34m,\u001b[0m \u001b[0my\u001b[0m\u001b[0;34m,\u001b[0m \u001b[0;32mNone\u001b[0m\u001b[0;34m,\u001b[0m\u001b[0;34m\u001b[0m\u001b[0m\n\u001b[0;32m--> 230\u001b[0;31m                     **fit_params_steps[name])\n\u001b[0m\u001b[1;32m    231\u001b[0m                 \u001b[0;31m# Replace the transformer of the step with the fitted\u001b[0m\u001b[0;34m\u001b[0m\u001b[0;34m\u001b[0m\u001b[0m\n\u001b[1;32m    232\u001b[0m                 \u001b[0;31m# transformer. This is necessary when loading the transformer\u001b[0m\u001b[0;34m\u001b[0m\u001b[0;34m\u001b[0m\u001b[0m\n",
      "\u001b[0;32m~/anaconda3/lib/python3.6/site-packages/sklearn/externals/joblib/memory.py\u001b[0m in \u001b[0;36m__call__\u001b[0;34m(self, *args, **kwargs)\u001b[0m\n\u001b[1;32m    327\u001b[0m \u001b[0;34m\u001b[0m\u001b[0m\n\u001b[1;32m    328\u001b[0m     \u001b[0;32mdef\u001b[0m \u001b[0m__call__\u001b[0m\u001b[0;34m(\u001b[0m\u001b[0mself\u001b[0m\u001b[0;34m,\u001b[0m \u001b[0;34m*\u001b[0m\u001b[0margs\u001b[0m\u001b[0;34m,\u001b[0m \u001b[0;34m**\u001b[0m\u001b[0mkwargs\u001b[0m\u001b[0;34m)\u001b[0m\u001b[0;34m:\u001b[0m\u001b[0;34m\u001b[0m\u001b[0m\n\u001b[0;32m--> 329\u001b[0;31m         \u001b[0;32mreturn\u001b[0m \u001b[0mself\u001b[0m\u001b[0;34m.\u001b[0m\u001b[0mfunc\u001b[0m\u001b[0;34m(\u001b[0m\u001b[0;34m*\u001b[0m\u001b[0margs\u001b[0m\u001b[0;34m,\u001b[0m \u001b[0;34m**\u001b[0m\u001b[0mkwargs\u001b[0m\u001b[0;34m)\u001b[0m\u001b[0;34m\u001b[0m\u001b[0m\n\u001b[0m\u001b[1;32m    330\u001b[0m \u001b[0;34m\u001b[0m\u001b[0m\n\u001b[1;32m    331\u001b[0m     \u001b[0;32mdef\u001b[0m \u001b[0mcall_and_shelve\u001b[0m\u001b[0;34m(\u001b[0m\u001b[0mself\u001b[0m\u001b[0;34m,\u001b[0m \u001b[0;34m*\u001b[0m\u001b[0margs\u001b[0m\u001b[0;34m,\u001b[0m \u001b[0;34m**\u001b[0m\u001b[0mkwargs\u001b[0m\u001b[0;34m)\u001b[0m\u001b[0;34m:\u001b[0m\u001b[0;34m\u001b[0m\u001b[0m\n",
      "\u001b[0;32m~/anaconda3/lib/python3.6/site-packages/sklearn/pipeline.py\u001b[0m in \u001b[0;36m_fit_transform_one\u001b[0;34m(transformer, X, y, weight, **fit_params)\u001b[0m\n\u001b[1;32m    612\u001b[0m \u001b[0;32mdef\u001b[0m \u001b[0m_fit_transform_one\u001b[0m\u001b[0;34m(\u001b[0m\u001b[0mtransformer\u001b[0m\u001b[0;34m,\u001b[0m \u001b[0mX\u001b[0m\u001b[0;34m,\u001b[0m \u001b[0my\u001b[0m\u001b[0;34m,\u001b[0m \u001b[0mweight\u001b[0m\u001b[0;34m,\u001b[0m \u001b[0;34m**\u001b[0m\u001b[0mfit_params\u001b[0m\u001b[0;34m)\u001b[0m\u001b[0;34m:\u001b[0m\u001b[0;34m\u001b[0m\u001b[0m\n\u001b[1;32m    613\u001b[0m     \u001b[0;32mif\u001b[0m \u001b[0mhasattr\u001b[0m\u001b[0;34m(\u001b[0m\u001b[0mtransformer\u001b[0m\u001b[0;34m,\u001b[0m \u001b[0;34m'fit_transform'\u001b[0m\u001b[0;34m)\u001b[0m\u001b[0;34m:\u001b[0m\u001b[0;34m\u001b[0m\u001b[0m\n\u001b[0;32m--> 614\u001b[0;31m         \u001b[0mres\u001b[0m \u001b[0;34m=\u001b[0m \u001b[0mtransformer\u001b[0m\u001b[0;34m.\u001b[0m\u001b[0mfit_transform\u001b[0m\u001b[0;34m(\u001b[0m\u001b[0mX\u001b[0m\u001b[0;34m,\u001b[0m \u001b[0my\u001b[0m\u001b[0;34m,\u001b[0m \u001b[0;34m**\u001b[0m\u001b[0mfit_params\u001b[0m\u001b[0;34m)\u001b[0m\u001b[0;34m\u001b[0m\u001b[0m\n\u001b[0m\u001b[1;32m    615\u001b[0m     \u001b[0;32melse\u001b[0m\u001b[0;34m:\u001b[0m\u001b[0;34m\u001b[0m\u001b[0m\n\u001b[1;32m    616\u001b[0m         \u001b[0mres\u001b[0m \u001b[0;34m=\u001b[0m \u001b[0mtransformer\u001b[0m\u001b[0;34m.\u001b[0m\u001b[0mfit\u001b[0m\u001b[0;34m(\u001b[0m\u001b[0mX\u001b[0m\u001b[0;34m,\u001b[0m \u001b[0my\u001b[0m\u001b[0;34m,\u001b[0m \u001b[0;34m**\u001b[0m\u001b[0mfit_params\u001b[0m\u001b[0;34m)\u001b[0m\u001b[0;34m.\u001b[0m\u001b[0mtransform\u001b[0m\u001b[0;34m(\u001b[0m\u001b[0mX\u001b[0m\u001b[0;34m)\u001b[0m\u001b[0;34m\u001b[0m\u001b[0m\n",
      "\u001b[0;32m~/anaconda3/lib/python3.6/site-packages/sklearn/base.py\u001b[0m in \u001b[0;36mfit_transform\u001b[0;34m(self, X, y, **fit_params)\u001b[0m\n\u001b[1;32m    463\u001b[0m         \u001b[0;32melse\u001b[0m\u001b[0;34m:\u001b[0m\u001b[0;34m\u001b[0m\u001b[0m\n\u001b[1;32m    464\u001b[0m             \u001b[0;31m# fit method of arity 2 (supervised transformation)\u001b[0m\u001b[0;34m\u001b[0m\u001b[0;34m\u001b[0m\u001b[0m\n\u001b[0;32m--> 465\u001b[0;31m             \u001b[0;32mreturn\u001b[0m \u001b[0mself\u001b[0m\u001b[0;34m.\u001b[0m\u001b[0mfit\u001b[0m\u001b[0;34m(\u001b[0m\u001b[0mX\u001b[0m\u001b[0;34m,\u001b[0m \u001b[0my\u001b[0m\u001b[0;34m,\u001b[0m \u001b[0;34m**\u001b[0m\u001b[0mfit_params\u001b[0m\u001b[0;34m)\u001b[0m\u001b[0;34m.\u001b[0m\u001b[0mtransform\u001b[0m\u001b[0;34m(\u001b[0m\u001b[0mX\u001b[0m\u001b[0;34m)\u001b[0m\u001b[0;34m\u001b[0m\u001b[0m\n\u001b[0m\u001b[1;32m    466\u001b[0m \u001b[0;34m\u001b[0m\u001b[0m\n\u001b[1;32m    467\u001b[0m \u001b[0;34m\u001b[0m\u001b[0m\n",
      "\u001b[0;32m~/anaconda3/lib/python3.6/site-packages/sklearn/preprocessing/data.py\u001b[0m in \u001b[0;36mfit\u001b[0;34m(self, X, y)\u001b[0m\n\u001b[1;32m   1430\u001b[0m         \u001b[0mself\u001b[0m \u001b[0;34m:\u001b[0m \u001b[0minstance\u001b[0m\u001b[0;34m\u001b[0m\u001b[0m\n\u001b[1;32m   1431\u001b[0m         \"\"\"\n\u001b[0;32m-> 1432\u001b[0;31m         \u001b[0mn_samples\u001b[0m\u001b[0;34m,\u001b[0m \u001b[0mn_features\u001b[0m \u001b[0;34m=\u001b[0m \u001b[0mcheck_array\u001b[0m\u001b[0;34m(\u001b[0m\u001b[0mX\u001b[0m\u001b[0;34m,\u001b[0m \u001b[0maccept_sparse\u001b[0m\u001b[0;34m=\u001b[0m\u001b[0;32mTrue\u001b[0m\u001b[0;34m)\u001b[0m\u001b[0;34m.\u001b[0m\u001b[0mshape\u001b[0m\u001b[0;34m\u001b[0m\u001b[0m\n\u001b[0m\u001b[1;32m   1433\u001b[0m         combinations = self._combinations(n_features, self.degree,\n\u001b[1;32m   1434\u001b[0m                                           \u001b[0mself\u001b[0m\u001b[0;34m.\u001b[0m\u001b[0minteraction_only\u001b[0m\u001b[0;34m,\u001b[0m\u001b[0;34m\u001b[0m\u001b[0m\n",
      "\u001b[0;32m~/anaconda3/lib/python3.6/site-packages/sklearn/utils/validation.py\u001b[0m in \u001b[0;36mcheck_array\u001b[0;34m(array, accept_sparse, accept_large_sparse, dtype, order, copy, force_all_finite, ensure_2d, allow_nd, ensure_min_samples, ensure_min_features, warn_on_dtype, estimator)\u001b[0m\n\u001b[1;32m    566\u001b[0m         \u001b[0;32mif\u001b[0m \u001b[0mforce_all_finite\u001b[0m\u001b[0;34m:\u001b[0m\u001b[0;34m\u001b[0m\u001b[0m\n\u001b[1;32m    567\u001b[0m             _assert_all_finite(array,\n\u001b[0;32m--> 568\u001b[0;31m                                allow_nan=force_all_finite == 'allow-nan')\n\u001b[0m\u001b[1;32m    569\u001b[0m \u001b[0;34m\u001b[0m\u001b[0m\n\u001b[1;32m    570\u001b[0m     \u001b[0mshape_repr\u001b[0m \u001b[0;34m=\u001b[0m \u001b[0m_shape_repr\u001b[0m\u001b[0;34m(\u001b[0m\u001b[0marray\u001b[0m\u001b[0;34m.\u001b[0m\u001b[0mshape\u001b[0m\u001b[0;34m)\u001b[0m\u001b[0;34m\u001b[0m\u001b[0m\n",
      "\u001b[0;32m~/anaconda3/lib/python3.6/site-packages/sklearn/utils/validation.py\u001b[0m in \u001b[0;36m_assert_all_finite\u001b[0;34m(X, allow_nan)\u001b[0m\n\u001b[1;32m     54\u001b[0m                 not allow_nan and not np.isfinite(X).all()):\n\u001b[1;32m     55\u001b[0m             \u001b[0mtype_err\u001b[0m \u001b[0;34m=\u001b[0m \u001b[0;34m'infinity'\u001b[0m \u001b[0;32mif\u001b[0m \u001b[0mallow_nan\u001b[0m \u001b[0;32melse\u001b[0m \u001b[0;34m'NaN, infinity'\u001b[0m\u001b[0;34m\u001b[0m\u001b[0m\n\u001b[0;32m---> 56\u001b[0;31m             \u001b[0;32mraise\u001b[0m \u001b[0mValueError\u001b[0m\u001b[0;34m(\u001b[0m\u001b[0mmsg_err\u001b[0m\u001b[0;34m.\u001b[0m\u001b[0mformat\u001b[0m\u001b[0;34m(\u001b[0m\u001b[0mtype_err\u001b[0m\u001b[0;34m,\u001b[0m \u001b[0mX\u001b[0m\u001b[0;34m.\u001b[0m\u001b[0mdtype\u001b[0m\u001b[0;34m)\u001b[0m\u001b[0;34m)\u001b[0m\u001b[0;34m\u001b[0m\u001b[0m\n\u001b[0m\u001b[1;32m     57\u001b[0m \u001b[0;34m\u001b[0m\u001b[0m\n\u001b[1;32m     58\u001b[0m \u001b[0;34m\u001b[0m\u001b[0m\n",
      "\u001b[0;31mValueError\u001b[0m: Input contains NaN, infinity or a value too large for dtype('float64')."
     ]
    }
   ],
   "source": [
    "f.pick_degrees(train_df, lcv_cols_01, target, max_deg=4)"
   ]
  },
  {
   "cell_type": "markdown",
   "metadata": {},
   "source": [
    "### 5. Elastic Net"
   ]
  },
  {
   "cell_type": "code",
   "execution_count": 114,
   "metadata": {},
   "outputs": [],
   "source": [
    "# model = make_pipeline(PolynomialFeatures(2), StandardScaler(), LassoCV(cv=5))\n",
    "model = make_pipeline(StandardScaler(), ElasticNetCV(cv=5))\n",
    "results03 = cross_validate(model, drop_df[num_cols], drop_df[target], cv=5, scoring=scoring, return_estimator=True)"
   ]
  },
  {
   "cell_type": "code",
   "execution_count": 118,
   "metadata": {},
   "outputs": [],
   "source": [
    "coefs03 = [results03['estimator'][i].get_params()['elasticnetcv'].coef_ for i in range(5)]\n",
    "\n",
    "coefs03_mean = np.mean(coefs03, axis=0)\n",
    "\n",
    "idxs03 = np.argwhere(abs(coefs03_mean) > 1e-02)\n",
    "idxs03 = [x[0] for x in idxs03]\n",
    "elas_cols = [num_cols[x] for x in idxs03]\n",
    "\n",
    "alphas03 = [results03['estimator'][i].get_params()['elasticnetcv'].alpha_ for i in range(5)]\n",
    "alpha03_mean = np.mean(alphas01)\n",
    "\n",
    "ratios03 = [results03['estimator'][i].get_params()['elasticnetcv'].l1_ratio_ for i in range(5)]\n",
    "ratios03_mean = np.mean(alphas03)"
   ]
  },
  {
   "cell_type": "code",
   "execution_count": 119,
   "metadata": {},
   "outputs": [
    {
     "data": {
      "text/plain": [
       "['neutral',\n",
       " 'elo1_pre',\n",
       " 'elo2_pre',\n",
       " 'elo_prob1',\n",
       " 'elo_prob2',\n",
       " 'Location',\n",
       " 'FirstD_SA1',\n",
       " 'PassY_SA1',\n",
       " 'PtsOpp_SA1',\n",
       " 'PtsTm_SA1',\n",
       " 'TotY_SA1',\n",
       " 'PassCmp_SA1',\n",
       " 'PassAtt_SA1',\n",
       " 'PassTDs_SA1',\n",
       " 'Fumbles_SA1',\n",
       " 'Penalies_SA1',\n",
       " 'ThirdDAtt_SA1',\n",
       " 'PassRating_SA1',\n",
       " 'Losses2',\n",
       " 'FirstD_SA2',\n",
       " 'PtsOpp_SA2',\n",
       " 'PtsTm_SA2',\n",
       " 'RushY_SA2',\n",
       " 'TO_SA2',\n",
       " 'PassAtt_SA2',\n",
       " 'PassTDs_SA2',\n",
       " 'Fumbles_SA2',\n",
       " 'PenY_SA2',\n",
       " 'ThirdDConv_SA2',\n",
       " 'ThirdDAtt_SA2',\n",
       " 'FourthDAtt_SA2']"
      ]
     },
     "execution_count": 119,
     "metadata": {},
     "output_type": "execute_result"
    }
   ],
   "source": [
    "elas_cols"
   ]
  },
  {
   "cell_type": "code",
   "execution_count": 124,
   "metadata": {},
   "outputs": [
    {
     "name": "stdout",
     "output_type": "stream",
     "text": [
      "Test R2: 0.1427\n",
      "Train R2: 0.1578\n"
     ]
    }
   ],
   "source": [
    "print(f\"Test R2: {np.mean(results03['test_R2']):.4f}\")\n",
    "print(f\"Train R2: {np.mean(results03['train_R2']):.4f}\")"
   ]
  },
  {
   "cell_type": "code",
   "execution_count": 125,
   "metadata": {},
   "outputs": [
    {
     "name": "stdout",
     "output_type": "stream",
     "text": [
      "Test MSE: 188.6\n",
      "Train MSE: 185.5\n"
     ]
    }
   ],
   "source": [
    "print(f\"Test MSE: {-np.mean(results03['test_MSE']):.1f}\")\n",
    "print(f\"Train MSE: {-np.mean(results03['train_MSE']):.1f}\")"
   ]
  },
  {
   "cell_type": "markdown",
   "metadata": {},
   "source": [
    "### 6. Ridge CV"
   ]
  },
  {
   "cell_type": "code",
   "execution_count": 126,
   "metadata": {},
   "outputs": [],
   "source": [
    "# model = make_pipeline(PolynomialFeatures(2), StandardScaler(), LassoCV(cv=5))\n",
    "model = make_pipeline(StandardScaler(), RidgeCV(cv=5))\n",
    "results04 = cross_validate(model, drop_df[num_cols], drop_df[target], cv=5, scoring=scoring, return_estimator=True)"
   ]
  },
  {
   "cell_type": "code",
   "execution_count": 127,
   "metadata": {},
   "outputs": [
    {
     "name": "stdout",
     "output_type": "stream",
     "text": [
      "Test R2: 0.1282\n",
      "Train R2: 0.1758\n"
     ]
    }
   ],
   "source": [
    "print(f\"Test R2: {np.mean(results04['test_R2']):.4f}\")\n",
    "print(f\"Train R2: {np.mean(results04['train_R2']):.4f}\")"
   ]
  },
  {
   "cell_type": "code",
   "execution_count": 128,
   "metadata": {},
   "outputs": [
    {
     "name": "stdout",
     "output_type": "stream",
     "text": [
      "Test MSE: 191.8\n",
      "Train MSE: 181.5\n"
     ]
    }
   ],
   "source": [
    "print(f\"Test MSE: {-np.mean(results04['test_MSE']):.1f}\")\n",
    "print(f\"Train MSE: {-np.mean(results04['train_MSE']):.1f}\")"
   ]
  },
  {
   "cell_type": "markdown",
   "metadata": {},
   "source": [
    "Ridge performs slightly worse than Lasso or Elastic Net"
   ]
  },
  {
   "cell_type": "markdown",
   "metadata": {},
   "source": [
    "## Compare & choose models"
   ]
  },
  {
   "cell_type": "code",
   "execution_count": 70,
   "metadata": {},
   "outputs": [],
   "source": [
    "p.pkl_this('Data/model_cols.pkl', x_cols_03)"
   ]
  },
  {
   "cell_type": "markdown",
   "metadata": {},
   "source": [
    "Report these scores (R2, MSE). \n",
    "\n",
    "Fit final model on entire data set"
   ]
  },
  {
   "cell_type": "code",
   "execution_count": 73,
   "metadata": {},
   "outputs": [],
   "source": [
    "alpha = 0.1729\n",
    "el_one = 0.714"
   ]
  },
  {
   "cell_type": "code",
   "execution_count": 78,
   "metadata": {},
   "outputs": [],
   "source": [
    "model = make_pipeline(PolynomialFeatures(2), StandardScaler(), ElasticNet(alpha=alpha, l1_ratio=el_one))"
   ]
  },
  {
   "cell_type": "code",
   "execution_count": null,
   "metadata": {},
   "outputs": [],
   "source": []
  }
 ],
 "metadata": {
  "kernelspec": {
   "display_name": "Python 3",
   "language": "python",
   "name": "python3"
  },
  "language_info": {
   "codemirror_mode": {
    "name": "ipython",
    "version": 3
   },
   "file_extension": ".py",
   "mimetype": "text/x-python",
   "name": "python",
   "nbconvert_exporter": "python",
   "pygments_lexer": "ipython3",
   "version": "3.6.6"
  }
 },
 "nbformat": 4,
 "nbformat_minor": 2
}
