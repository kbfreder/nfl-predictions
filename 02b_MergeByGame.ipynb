{
 "cells": [
  {
   "cell_type": "markdown",
   "metadata": {},
   "source": [
    "### Re-do to merge O & D stats into 1 line"
   ]
  },
  {
   "cell_type": "markdown",
   "metadata": {},
   "source": [
    "Use Elo Df as base"
   ]
  },
  {
   "cell_type": "code",
   "execution_count": 1,
   "metadata": {},
   "outputs": [],
   "source": [
    "import pandas as pd\n",
    "import pipeline as p\n",
    "import datetime as dt\n",
    "\n",
    "%load_ext autoreload\n",
    "%autoreload 2"
   ]
  },
  {
   "cell_type": "markdown",
   "metadata": {},
   "source": [
    "### Pre-merge cleaning"
   ]
  },
  {
   "cell_type": "code",
   "execution_count": 18,
   "metadata": {},
   "outputs": [],
   "source": [
    "stats_df = p.open_pkl('Data/merged_df.pkl')\n",
    "# stats_df = p.open_pkl('merged_df_2018.pkl')"
   ]
  },
  {
   "cell_type": "code",
   "execution_count": 19,
   "metadata": {},
   "outputs": [],
   "source": [
    "# convert Location to integer.\n",
    "stats_df['Location'] = stats_df['Location'].apply(lambda x: 1 if x == '@' else 0)"
   ]
  },
  {
   "cell_type": "code",
   "execution_count": 20,
   "metadata": {},
   "outputs": [],
   "source": [
    "stats_df.sort_values('Date', inplace=True)\n",
    "stats_df.reset_index(inplace=True)\n",
    "stats_df.rename(columns={'Year':'Season'}, inplace=True)"
   ]
  },
  {
   "cell_type": "markdown",
   "metadata": {},
   "source": [
    "### Convert Stats team abbrevs to Elo abbrevs"
   ]
  },
  {
   "cell_type": "code",
   "execution_count": 21,
   "metadata": {},
   "outputs": [],
   "source": [
    "elo_stats_team_dict = p.open_pkl('Data/elo_stats_team_dict.pkl')\n",
    "corr_dict = p.open_pkl('Data/moved_teams_corr_dict.pkl')\n",
    "\n",
    "full_name_dict = p.open_pkl('Data/full_name_team_dict.pkl')\n",
    "full_name_dict['San Diego Chargers'] = 'LAC'\n",
    "full_name_dict['St. Louis Rams'] = 'LAR'\n",
    "\n",
    "stats_elo_team_dict = {v:k for k,v in elo_stats_team_dict.items()}\n",
    "stats_elo_team_dict['SDG'] = 'LAC'\n",
    "stats_elo_team_dict['STL'] = 'LAR'\n",
    "# stats_elo_team_dict['NOR'] = 'NO'"
   ]
  },
  {
   "cell_type": "code",
   "execution_count": 22,
   "metadata": {},
   "outputs": [],
   "source": [
    "# stats_df['Team'] = stats_df['Team'].apply(lambda x: corr_dict[x] if x in corr_dict.keys() else x)\n",
    "stats_df['Opp'] = stats_df['Opp'].apply(lambda x: full_name_dict[x])\n",
    "stats_df['Team'] = stats_df['Team'].apply(lambda x: stats_elo_team_dict[x] if x in stats_elo_team_dict else x)\n",
    "stats_df['Opp'] = stats_df['Opp'].apply(lambda x: stats_elo_team_dict[x] if x in stats_elo_team_dict else x)"
   ]
  },
  {
   "cell_type": "code",
   "execution_count": 6,
   "metadata": {},
   "outputs": [],
   "source": [
    "# p.pkl_this('Data/elo_df.pkl', elo_df)\n",
    "# elo_df = p.open_pkl('Data/elo_df.pkl')\n",
    "\n",
    "# p.pkl_this('Data/stats_df')"
   ]
  },
  {
   "cell_type": "code",
   "execution_count": 23,
   "metadata": {},
   "outputs": [
    {
     "data": {
      "text/plain": [
       "Index(['index', '1stD', 'Date', 'Day', 'Location', 'OT', 'Opp', 'PassY',\n",
       "       'PtsOpp', 'PtsTm', 'Record', 'Result', 'RushY', 'TO', 'DefTO', 'Team',\n",
       "       'Time', 'TotY', 'Week', 'Season', 'Time of Possession', 'RushAtt',\n",
       "       'RushTDs', 'PassCmp', 'PassAtt', 'PassTDs', 'INT', 'SacksO', 'Fumbles',\n",
       "       'Penalies', 'PenY', '3rdDConv', '3rdDAtt', '4thDAtt'],\n",
       "      dtype='object')"
      ]
     },
     "execution_count": 23,
     "metadata": {},
     "output_type": "execute_result"
    }
   ],
   "source": [
    "stats_df.columns"
   ]
  },
  {
   "cell_type": "markdown",
   "metadata": {},
   "source": [
    "## Clean up datatypes"
   ]
  },
  {
   "cell_type": "code",
   "execution_count": 24,
   "metadata": {},
   "outputs": [],
   "source": [
    "df = stats_df.copy()"
   ]
  },
  {
   "cell_type": "code",
   "execution_count": 26,
   "metadata": {},
   "outputs": [],
   "source": [
    "# OT\n",
    "df['OT'] = df['OT'].apply(lambda x: 1 if x == 'OT' else 0)"
   ]
  },
  {
   "cell_type": "code",
   "execution_count": 27,
   "metadata": {},
   "outputs": [
    {
     "name": "stderr",
     "output_type": "stream",
     "text": [
      "/Users/kendra/anaconda3/lib/python3.5/site-packages/dateutil/parser/_parser.py:1204: UnknownTimezoneWarning: tzname ET identified but not understood.  Pass `tzinfos` argument in order to correctly return a timezone-aware datetime.  In a future version, this will raise an exception.\n",
      "  category=UnknownTimezoneWarning)\n"
     ]
    }
   ],
   "source": [
    "# Time\n",
    "# df.loc[0,'Time']\n",
    "df['Time'] = pd.to_datetime(df['Time']).dt.time"
   ]
  },
  {
   "cell_type": "code",
   "execution_count": 52,
   "metadata": {},
   "outputs": [],
   "source": [
    "def convert_timeposs(row):\n",
    "#     return row['TimePoss'].dt.minute + (row['TimePoss'].dt.second/60)\n",
    "    return row.minute + (row.second/60)"
   ]
  },
  {
   "cell_type": "code",
   "execution_count": 28,
   "metadata": {},
   "outputs": [],
   "source": [
    "# Time of Possession\n",
    "df['TimePoss'] = pd.to_datetime(df['Time of Possession'], format='%M:%S').dt.time\n",
    "df.drop(columns={'Time of Possession'}, inplace=True)"
   ]
  },
  {
   "cell_type": "code",
   "execution_count": 56,
   "metadata": {},
   "outputs": [],
   "source": [
    "df['TimePossMins'] = df['TimePoss'].apply(lambda x: convert_timeposs(x))"
   ]
  },
  {
   "cell_type": "code",
   "execution_count": 57,
   "metadata": {},
   "outputs": [],
   "source": [
    "df.drop(columns=['TimePoss', 'NewTimePoss'], inplace=True)"
   ]
  },
  {
   "cell_type": "code",
   "execution_count": 29,
   "metadata": {},
   "outputs": [],
   "source": [
    "# Result\n",
    "df['Result'] = df['Result'].apply(lambda x: 1 if x == 'W' else (0 if x == 'L' else 0.5))"
   ]
  },
  {
   "cell_type": "code",
   "execution_count": 91,
   "metadata": {},
   "outputs": [],
   "source": [
    "# p.pkl_this('model_df.pkl', df)"
   ]
  },
  {
   "cell_type": "markdown",
   "metadata": {},
   "source": [
    "### Extract / Create features"
   ]
  },
  {
   "cell_type": "code",
   "execution_count": 30,
   "metadata": {},
   "outputs": [],
   "source": [
    "df['Wins'] = df['Record'].apply(lambda row: p.row_split(row, 0))\n",
    "df['Losses'] = df['Record'].apply(lambda row: p.row_split(row, 1))\n",
    "df['Games'] = df['Wins'] + df['Losses']\n",
    "df['Win%'] = df['Wins']/df['Games'] * 100"
   ]
  },
  {
   "cell_type": "code",
   "execution_count": 58,
   "metadata": {},
   "outputs": [
    {
     "data": {
      "text/plain": [
       "Index(['1stD', 'Date', 'Day', 'Location', 'OT', 'Opp', 'PassY', 'PtsOpp',\n",
       "       'PtsTm', 'Record', 'Result', 'RushY', 'TO', 'DefTO', 'Team', 'Time',\n",
       "       'TotY', 'Week', 'Season', 'RushAtt', 'RushTDs', 'PassCmp', 'PassAtt',\n",
       "       'PassTDs', 'INT', 'SacksO', 'Fumbles', 'Penalies', 'PenY', '3rdDConv',\n",
       "       '3rdDAtt', '4thDAtt', 'Wins', 'Losses', 'Games', 'Win%', 'PassComp%',\n",
       "       'PassRating', 'TimePossMins'],\n",
       "      dtype='object')"
      ]
     },
     "execution_count": 58,
     "metadata": {},
     "output_type": "execute_result"
    }
   ],
   "source": [
    "df.columns"
   ]
  },
  {
   "cell_type": "code",
   "execution_count": 31,
   "metadata": {},
   "outputs": [],
   "source": [
    "df['PassComp%'] = df['PassCmp'] / df['PassAtt'] * 100"
   ]
  },
  {
   "cell_type": "code",
   "execution_count": 32,
   "metadata": {},
   "outputs": [],
   "source": [
    "def passer_rating(row):\n",
    "    a = (row['PassCmp']/row['PassAtt'] - 0.3) * 5\n",
    "    b = (row['PassY']/row['PassAtt'] - 3) * 0.25\n",
    "    c = row['PassTDs']/row['PassAtt'] * 20\n",
    "    d = 2.375 - (row['INT']/row['PassAtt'] * 25)\n",
    "    return (a+b+c+d)/6 * 100"
   ]
  },
  {
   "cell_type": "code",
   "execution_count": 33,
   "metadata": {},
   "outputs": [],
   "source": [
    "df['PassRating'] = df.apply(lambda row: passer_rating(row), axis=1)"
   ]
  },
  {
   "cell_type": "code",
   "execution_count": 34,
   "metadata": {},
   "outputs": [],
   "source": [
    "df.drop(columns='index', inplace = True)"
   ]
  },
  {
   "cell_type": "markdown",
   "metadata": {},
   "source": [
    "Shift wins, losses, games"
   ]
  },
  {
   "cell_type": "code",
   "execution_count": 86,
   "metadata": {},
   "outputs": [],
   "source": [
    "def correct_winloss(row, col):\n",
    "    if row['Week'] == 1:\n",
    "        return 0\n",
    "    else:\n",
    "        return row[col]"
   ]
  },
  {
   "cell_type": "code",
   "execution_count": 96,
   "metadata": {},
   "outputs": [],
   "source": [
    "df['Wins'] = df.groupby(['Team'])['Wins'].shift()\n",
    "df['Losses'] = df.groupby(['Team'])['Losses'].shift()\n",
    "df['Games'] = df.groupby(['Team'])['Games'].shift()\n",
    "\n",
    "df['Wins'].fillna(0, inplace=True)\n",
    "df['Losses'].fillna(0, inplace=True)\n",
    "df['Games'].fillna(0, inplace=True)\n",
    "\n",
    "df['Wins'] = df.apply(lambda row: correct_winloss(row, 'Wins'), axis=1)\n",
    "df['Losses'] = df.apply(lambda row: correct_winloss(row, 'Losses'), axis=1)\n",
    "df['Games'] = df.apply(lambda row: correct_winloss(row, 'Games'), axis=1)"
   ]
  },
  {
   "cell_type": "code",
   "execution_count": 110,
   "metadata": {},
   "outputs": [],
   "source": [
    "df.rename(columns={'neutral':'Neutral'}, inplace=True)\n",
    "df.drop(columns=['level_0'], inplace=True)"
   ]
  },
  {
   "cell_type": "code",
   "execution_count": 114,
   "metadata": {},
   "outputs": [],
   "source": [
    "# p.pkl_this('model_df.pkl', df)"
   ]
  },
  {
   "cell_type": "markdown",
   "metadata": {},
   "source": [
    "### Compute trailing season average stats"
   ]
  },
  {
   "cell_type": "code",
   "execution_count": 61,
   "metadata": {},
   "outputs": [
    {
     "data": {
      "text/plain": [
       "Index(['1stD', 'Date', 'Day', 'Location', 'OT', 'Opp', 'PassY', 'PtsOpp',\n",
       "       'PtsTm', 'Record', 'Result', 'RushY', 'TO', 'DefTO', 'Team', 'Time',\n",
       "       'TotY', 'Week', 'Season', 'RushAtt', 'RushTDs', 'PassCmp', 'PassAtt',\n",
       "       'PassTDs', 'INT', 'SacksO', 'Fumbles', 'Penalies', 'PenY', '3rdDConv',\n",
       "       '3rdDAtt', '4thDAtt', 'Wins', 'Losses', 'Games', 'Win%', 'PassComp%',\n",
       "       'PassRating', 'TimePossMins'],\n",
       "      dtype='object')"
      ]
     },
     "execution_count": 61,
     "metadata": {},
     "output_type": "execute_result"
    }
   ],
   "source": [
    "df.columns"
   ]
  },
  {
   "cell_type": "code",
   "execution_count": 8,
   "metadata": {},
   "outputs": [],
   "source": [
    "sa_cols_drop_true = ['1stD', 'PassY', 'PtsOpp',\n",
    "       'PtsTm', 'RushY', 'TO', 'DefTO', \n",
    "       'TotY', 'RushAtt', 'RushTDs', 'PassCmp', 'PassAtt',\n",
    "       'PassTDs', 'INT', 'SacksO', 'Fumbles', 'Penalies', 'PenY', '3rdDConv',\n",
    "       '3rdDAtt', '4thDAtt',  \n",
    "       'PassComp%',\n",
    "       'PassRating']\n",
    "# sa_cols_drop_false = ['EloBefore', 'OppElo']"
   ]
  },
  {
   "cell_type": "code",
   "execution_count": 62,
   "metadata": {},
   "outputs": [],
   "source": [
    "stats_df = df.copy()"
   ]
  },
  {
   "cell_type": "code",
   "execution_count": 63,
   "metadata": {},
   "outputs": [],
   "source": [
    "for col in sa_cols_drop_true:\n",
    "    stats_df = p.calc_season_avg(col, stats_df, drop=True)\n",
    "\n",
    "# for col in sa_cols_drop_false:\n",
    "#     stats_df = p.calc_season_avg(col, stats_df, drop=False)  "
   ]
  },
  {
   "cell_type": "code",
   "execution_count": 66,
   "metadata": {},
   "outputs": [
    {
     "data": {
      "text/html": [
       "<div>\n",
       "<style scoped>\n",
       "    .dataframe tbody tr th:only-of-type {\n",
       "        vertical-align: middle;\n",
       "    }\n",
       "\n",
       "    .dataframe tbody tr th {\n",
       "        vertical-align: top;\n",
       "    }\n",
       "\n",
       "    .dataframe thead th {\n",
       "        text-align: right;\n",
       "    }\n",
       "</style>\n",
       "<table border=\"1\" class=\"dataframe\">\n",
       "  <thead>\n",
       "    <tr style=\"text-align: right;\">\n",
       "      <th></th>\n",
       "      <th>Date</th>\n",
       "      <th>Day</th>\n",
       "      <th>Location</th>\n",
       "      <th>OT</th>\n",
       "      <th>Opp</th>\n",
       "      <th>Record</th>\n",
       "      <th>Result</th>\n",
       "      <th>Team</th>\n",
       "      <th>Time</th>\n",
       "      <th>Week</th>\n",
       "      <th>...</th>\n",
       "      <th>INT_SA</th>\n",
       "      <th>SacksO_SA</th>\n",
       "      <th>Fumbles_SA</th>\n",
       "      <th>Penalies_SA</th>\n",
       "      <th>PenY_SA</th>\n",
       "      <th>3rdDConv_SA</th>\n",
       "      <th>3rdDAtt_SA</th>\n",
       "      <th>4thDAtt_SA</th>\n",
       "      <th>PassComp%_SA</th>\n",
       "      <th>PassRating_SA</th>\n",
       "    </tr>\n",
       "  </thead>\n",
       "  <tbody>\n",
       "    <tr>\n",
       "      <th>0</th>\n",
       "      <td>2007-09-06</td>\n",
       "      <td>Thu</td>\n",
       "      <td>0</td>\n",
       "      <td>0</td>\n",
       "      <td>NO</td>\n",
       "      <td>1-0</td>\n",
       "      <td>1.0</td>\n",
       "      <td>IND</td>\n",
       "      <td>20:39:00</td>\n",
       "      <td>1</td>\n",
       "      <td>...</td>\n",
       "      <td>NaN</td>\n",
       "      <td>NaN</td>\n",
       "      <td>NaN</td>\n",
       "      <td>NaN</td>\n",
       "      <td>NaN</td>\n",
       "      <td>NaN</td>\n",
       "      <td>NaN</td>\n",
       "      <td>NaN</td>\n",
       "      <td>NaN</td>\n",
       "      <td>NaN</td>\n",
       "    </tr>\n",
       "    <tr>\n",
       "      <th>1</th>\n",
       "      <td>2007-09-06</td>\n",
       "      <td>Thu</td>\n",
       "      <td>1</td>\n",
       "      <td>0</td>\n",
       "      <td>IND</td>\n",
       "      <td>0-1</td>\n",
       "      <td>0.0</td>\n",
       "      <td>NO</td>\n",
       "      <td>20:39:00</td>\n",
       "      <td>1</td>\n",
       "      <td>...</td>\n",
       "      <td>NaN</td>\n",
       "      <td>NaN</td>\n",
       "      <td>NaN</td>\n",
       "      <td>NaN</td>\n",
       "      <td>NaN</td>\n",
       "      <td>NaN</td>\n",
       "      <td>NaN</td>\n",
       "      <td>NaN</td>\n",
       "      <td>NaN</td>\n",
       "      <td>NaN</td>\n",
       "    </tr>\n",
       "    <tr>\n",
       "      <th>2</th>\n",
       "      <td>2007-09-09</td>\n",
       "      <td>Sun</td>\n",
       "      <td>0</td>\n",
       "      <td>0</td>\n",
       "      <td>CHI</td>\n",
       "      <td>1-0</td>\n",
       "      <td>1.0</td>\n",
       "      <td>LAC</td>\n",
       "      <td>16:15:00</td>\n",
       "      <td>1</td>\n",
       "      <td>...</td>\n",
       "      <td>NaN</td>\n",
       "      <td>NaN</td>\n",
       "      <td>NaN</td>\n",
       "      <td>NaN</td>\n",
       "      <td>NaN</td>\n",
       "      <td>NaN</td>\n",
       "      <td>NaN</td>\n",
       "      <td>NaN</td>\n",
       "      <td>NaN</td>\n",
       "      <td>NaN</td>\n",
       "    </tr>\n",
       "    <tr>\n",
       "      <th>3</th>\n",
       "      <td>2007-09-09</td>\n",
       "      <td>Sun</td>\n",
       "      <td>1</td>\n",
       "      <td>0</td>\n",
       "      <td>LAR</td>\n",
       "      <td>1-0</td>\n",
       "      <td>1.0</td>\n",
       "      <td>CAR</td>\n",
       "      <td>12:59:00</td>\n",
       "      <td>1</td>\n",
       "      <td>...</td>\n",
       "      <td>NaN</td>\n",
       "      <td>NaN</td>\n",
       "      <td>NaN</td>\n",
       "      <td>NaN</td>\n",
       "      <td>NaN</td>\n",
       "      <td>NaN</td>\n",
       "      <td>NaN</td>\n",
       "      <td>NaN</td>\n",
       "      <td>NaN</td>\n",
       "      <td>NaN</td>\n",
       "    </tr>\n",
       "    <tr>\n",
       "      <th>4</th>\n",
       "      <td>2007-09-09</td>\n",
       "      <td>Sun</td>\n",
       "      <td>1</td>\n",
       "      <td>1</td>\n",
       "      <td>WSH</td>\n",
       "      <td>0-1</td>\n",
       "      <td>0.0</td>\n",
       "      <td>MIA</td>\n",
       "      <td>13:02:00</td>\n",
       "      <td>1</td>\n",
       "      <td>...</td>\n",
       "      <td>NaN</td>\n",
       "      <td>NaN</td>\n",
       "      <td>NaN</td>\n",
       "      <td>NaN</td>\n",
       "      <td>NaN</td>\n",
       "      <td>NaN</td>\n",
       "      <td>NaN</td>\n",
       "      <td>NaN</td>\n",
       "      <td>NaN</td>\n",
       "      <td>NaN</td>\n",
       "    </tr>\n",
       "  </tbody>\n",
       "</table>\n",
       "<p>5 rows × 39 columns</p>\n",
       "</div>"
      ],
      "text/plain": [
       "        Date  Day  Location  OT  Opp Record  Result Team      Time  Week  \\\n",
       "0 2007-09-06  Thu         0   0   NO    1-0     1.0  IND  20:39:00     1   \n",
       "1 2007-09-06  Thu         1   0  IND    0-1     0.0   NO  20:39:00     1   \n",
       "2 2007-09-09  Sun         0   0  CHI    1-0     1.0  LAC  16:15:00     1   \n",
       "3 2007-09-09  Sun         1   0  LAR    1-0     1.0  CAR  12:59:00     1   \n",
       "4 2007-09-09  Sun         1   1  WSH    0-1     0.0  MIA  13:02:00     1   \n",
       "\n",
       "       ...        INT_SA  SacksO_SA  Fumbles_SA  Penalies_SA  PenY_SA  \\\n",
       "0      ...           NaN        NaN         NaN          NaN      NaN   \n",
       "1      ...           NaN        NaN         NaN          NaN      NaN   \n",
       "2      ...           NaN        NaN         NaN          NaN      NaN   \n",
       "3      ...           NaN        NaN         NaN          NaN      NaN   \n",
       "4      ...           NaN        NaN         NaN          NaN      NaN   \n",
       "\n",
       "   3rdDConv_SA  3rdDAtt_SA  4thDAtt_SA  PassComp%_SA  PassRating_SA  \n",
       "0          NaN         NaN         NaN           NaN            NaN  \n",
       "1          NaN         NaN         NaN           NaN            NaN  \n",
       "2          NaN         NaN         NaN           NaN            NaN  \n",
       "3          NaN         NaN         NaN           NaN            NaN  \n",
       "4          NaN         NaN         NaN           NaN            NaN  \n",
       "\n",
       "[5 rows x 39 columns]"
      ]
     },
     "execution_count": 66,
     "metadata": {},
     "output_type": "execute_result"
    }
   ],
   "source": [
    "stats_df.head()"
   ]
  },
  {
   "cell_type": "markdown",
   "metadata": {},
   "source": [
    "Week 1 SA are blank. Pull in previous season's stats? Or do we need to revert them to an average?"
   ]
  },
  {
   "cell_type": "code",
   "execution_count": 83,
   "metadata": {},
   "outputs": [],
   "source": [
    "test_df = stats_df.copy()"
   ]
  },
  {
   "cell_type": "code",
   "execution_count": 86,
   "metadata": {
    "collapsed": true
   },
   "outputs": [
    {
     "name": "stderr",
     "output_type": "stream",
     "text": [
      "/Users/kendra/anaconda3/lib/python3.5/site-packages/ipykernel_launcher.py:2: SettingWithCopyWarning: \n",
      "A value is trying to be set on a copy of a slice from a DataFrame.\n",
      "Try using .loc[row_indexer,col_indexer] = value instead\n",
      "\n",
      "See the caveats in the documentation: http://pandas.pydata.org/pandas-docs/stable/indexing.html#indexing-view-versus-copy\n",
      "  \n",
      "/Users/kendra/anaconda3/lib/python3.5/site-packages/pandas/core/indexing.py:543: SettingWithCopyWarning: \n",
      "A value is trying to be set on a copy of a slice from a DataFrame.\n",
      "Try using .loc[row_indexer,col_indexer] = value instead\n",
      "\n",
      "See the caveats in the documentation: http://pandas.pydata.org/pandas-docs/stable/indexing.html#indexing-view-versus-copy\n",
      "  self.obj[item] = s\n"
     ]
    }
   ],
   "source": [
    "# stats_df.sort_values('Date')\n",
    "test_df[test_df['Week'] == 1][['PassY_SA']] = test_df.groupby(\"Team\")['PassY_SA'].shift()"
   ]
  },
  {
   "cell_type": "code",
   "execution_count": null,
   "metadata": {},
   "outputs": [],
   "source": [
    "for col in sa_cols_drop_true:\n",
    "    df[col] = df.groupby(['Team','Season','Week'])[col].shift(-1)"
   ]
  },
  {
   "cell_type": "markdown",
   "metadata": {},
   "source": [
    "### Merge"
   ]
  },
  {
   "cell_type": "markdown",
   "metadata": {},
   "source": [
    "Use five-thirty-eight's Elo data"
   ]
  },
  {
   "cell_type": "code",
   "execution_count": 7,
   "metadata": {},
   "outputs": [],
   "source": [
    "elo_df = pd.read_csv('Data/nfl_games.csv')\n",
    "\n",
    "elo_df['date'] = pd.to_datetime(elo_df['date'], format='%Y-%m-%d')\n",
    "\n",
    "# Can drop anything before 2007\n",
    "elo_df = elo_df[elo_df['date'] >= dt.datetime(2007,8,1)].reset_index(drop=True)"
   ]
  },
  {
   "cell_type": "code",
   "execution_count": 88,
   "metadata": {},
   "outputs": [],
   "source": [
    "elo_df = p.open_pkl('Data/elo_df.pkl')"
   ]
  },
  {
   "cell_type": "code",
   "execution_count": 40,
   "metadata": {},
   "outputs": [
    {
     "data": {
      "text/html": [
       "<div>\n",
       "<style scoped>\n",
       "    .dataframe tbody tr th:only-of-type {\n",
       "        vertical-align: middle;\n",
       "    }\n",
       "\n",
       "    .dataframe tbody tr th {\n",
       "        vertical-align: top;\n",
       "    }\n",
       "\n",
       "    .dataframe thead th {\n",
       "        text-align: right;\n",
       "    }\n",
       "</style>\n",
       "<table border=\"1\" class=\"dataframe\">\n",
       "  <thead>\n",
       "    <tr style=\"text-align: right;\">\n",
       "      <th></th>\n",
       "      <th>date</th>\n",
       "      <th>season</th>\n",
       "      <th>neutral</th>\n",
       "      <th>playoff</th>\n",
       "      <th>team1</th>\n",
       "      <th>team2</th>\n",
       "      <th>elo1</th>\n",
       "      <th>elo2</th>\n",
       "      <th>elo_prob1</th>\n",
       "      <th>score1</th>\n",
       "      <th>score2</th>\n",
       "      <th>result1</th>\n",
       "    </tr>\n",
       "  </thead>\n",
       "  <tbody>\n",
       "    <tr>\n",
       "      <th>0</th>\n",
       "      <td>2007-09-06</td>\n",
       "      <td>2007</td>\n",
       "      <td>0</td>\n",
       "      <td>0</td>\n",
       "      <td>IND</td>\n",
       "      <td>NO</td>\n",
       "      <td>1653.923</td>\n",
       "      <td>1515.973</td>\n",
       "      <td>0.762833</td>\n",
       "      <td>41</td>\n",
       "      <td>10</td>\n",
       "      <td>1.0</td>\n",
       "    </tr>\n",
       "    <tr>\n",
       "      <th>1</th>\n",
       "      <td>2007-09-09</td>\n",
       "      <td>2007</td>\n",
       "      <td>0</td>\n",
       "      <td>0</td>\n",
       "      <td>WSH</td>\n",
       "      <td>MIA</td>\n",
       "      <td>1448.841</td>\n",
       "      <td>1489.941</td>\n",
       "      <td>0.534341</td>\n",
       "      <td>16</td>\n",
       "      <td>13</td>\n",
       "      <td>1.0</td>\n",
       "    </tr>\n",
       "    <tr>\n",
       "      <th>2</th>\n",
       "      <td>2007-09-09</td>\n",
       "      <td>2007</td>\n",
       "      <td>0</td>\n",
       "      <td>0</td>\n",
       "      <td>BUF</td>\n",
       "      <td>DEN</td>\n",
       "      <td>1516.684</td>\n",
       "      <td>1558.574</td>\n",
       "      <td>0.533209</td>\n",
       "      <td>14</td>\n",
       "      <td>15</td>\n",
       "      <td>0.0</td>\n",
       "    </tr>\n",
       "    <tr>\n",
       "      <th>3</th>\n",
       "      <td>2007-09-09</td>\n",
       "      <td>2007</td>\n",
       "      <td>0</td>\n",
       "      <td>0</td>\n",
       "      <td>SEA</td>\n",
       "      <td>TB</td>\n",
       "      <td>1511.936</td>\n",
       "      <td>1417.385</td>\n",
       "      <td>0.714726</td>\n",
       "      <td>20</td>\n",
       "      <td>6</td>\n",
       "      <td>1.0</td>\n",
       "    </tr>\n",
       "    <tr>\n",
       "      <th>4</th>\n",
       "      <td>2007-09-09</td>\n",
       "      <td>2007</td>\n",
       "      <td>0</td>\n",
       "      <td>0</td>\n",
       "      <td>CLE</td>\n",
       "      <td>PIT</td>\n",
       "      <td>1396.563</td>\n",
       "      <td>1568.569</td>\n",
       "      <td>0.350697</td>\n",
       "      <td>7</td>\n",
       "      <td>34</td>\n",
       "      <td>0.0</td>\n",
       "    </tr>\n",
       "  </tbody>\n",
       "</table>\n",
       "</div>"
      ],
      "text/plain": [
       "        date  season  neutral  playoff team1 team2      elo1      elo2  \\\n",
       "0 2007-09-06    2007        0        0   IND    NO  1653.923  1515.973   \n",
       "1 2007-09-09    2007        0        0   WSH   MIA  1448.841  1489.941   \n",
       "2 2007-09-09    2007        0        0   BUF   DEN  1516.684  1558.574   \n",
       "3 2007-09-09    2007        0        0   SEA    TB  1511.936  1417.385   \n",
       "4 2007-09-09    2007        0        0   CLE   PIT  1396.563  1568.569   \n",
       "\n",
       "   elo_prob1  score1  score2  result1  \n",
       "0   0.762833      41      10      1.0  \n",
       "1   0.534341      16      13      1.0  \n",
       "2   0.533209      14      15      0.0  \n",
       "3   0.714726      20       6      1.0  \n",
       "4   0.350697       7      34      0.0  "
      ]
     },
     "execution_count": 40,
     "metadata": {},
     "output_type": "execute_result"
    }
   ],
   "source": [
    "elo_df.head()"
   ]
  },
  {
   "cell_type": "code",
   "execution_count": 245,
   "metadata": {},
   "outputs": [
    {
     "data": {
      "text/html": [
       "<div>\n",
       "<style scoped>\n",
       "    .dataframe tbody tr th:only-of-type {\n",
       "        vertical-align: middle;\n",
       "    }\n",
       "\n",
       "    .dataframe tbody tr th {\n",
       "        vertical-align: top;\n",
       "    }\n",
       "\n",
       "    .dataframe thead th {\n",
       "        text-align: right;\n",
       "    }\n",
       "</style>\n",
       "<table border=\"1\" class=\"dataframe\">\n",
       "  <thead>\n",
       "    <tr style=\"text-align: right;\">\n",
       "      <th></th>\n",
       "      <th>date</th>\n",
       "      <th>team1</th>\n",
       "      <th>team2</th>\n",
       "      <th>elo1</th>\n",
       "      <th>elo2</th>\n",
       "    </tr>\n",
       "  </thead>\n",
       "  <tbody>\n",
       "    <tr>\n",
       "      <th>0</th>\n",
       "      <td>2007-09-06</td>\n",
       "      <td>IND</td>\n",
       "      <td>NO</td>\n",
       "      <td>1653.923</td>\n",
       "      <td>1515.973</td>\n",
       "    </tr>\n",
       "    <tr>\n",
       "      <th>28</th>\n",
       "      <td>2007-09-16</td>\n",
       "      <td>TB</td>\n",
       "      <td>NO</td>\n",
       "      <td>1402.979</td>\n",
       "      <td>1500.922</td>\n",
       "    </tr>\n",
       "    <tr>\n",
       "      <th>47</th>\n",
       "      <td>2007-09-24</td>\n",
       "      <td>NO</td>\n",
       "      <td>TEN</td>\n",
       "      <td>1468.805</td>\n",
       "      <td>1506.098</td>\n",
       "    </tr>\n",
       "    <tr>\n",
       "      <th>74</th>\n",
       "      <td>2007-10-07</td>\n",
       "      <td>NO</td>\n",
       "      <td>CAR</td>\n",
       "      <td>1437.203</td>\n",
       "      <td>1484.207</td>\n",
       "    </tr>\n",
       "    <tr>\n",
       "      <th>85</th>\n",
       "      <td>2007-10-14</td>\n",
       "      <td>SEA</td>\n",
       "      <td>NO</td>\n",
       "      <td>1531.254</td>\n",
       "      <td>1422.503</td>\n",
       "    </tr>\n",
       "  </tbody>\n",
       "</table>\n",
       "</div>"
      ],
      "text/plain": [
       "         date team1 team2      elo1      elo2\n",
       "0  2007-09-06   IND    NO  1653.923  1515.973\n",
       "28 2007-09-16    TB    NO  1402.979  1500.922\n",
       "47 2007-09-24    NO   TEN  1468.805  1506.098\n",
       "74 2007-10-07    NO   CAR  1437.203  1484.207\n",
       "85 2007-10-14   SEA    NO  1531.254  1422.503"
      ]
     },
     "execution_count": 245,
     "metadata": {},
     "output_type": "execute_result"
    }
   ],
   "source": [
    "elo_df[(elo_df['team1'] == 'NO') | (elo_df['team2'] == 'NO')][['date','team1','team2','elo1','elo2']].head()"
   ]
  },
  {
   "cell_type": "markdown",
   "metadata": {},
   "source": [
    "Shift Elos to compute delta"
   ]
  },
  {
   "cell_type": "code",
   "execution_count": 270,
   "metadata": {},
   "outputs": [
    {
     "data": {
      "text/plain": [
       "Index(['date', 'season', 'neutral', 'playoff', 'team1', 'team2', 'elo1',\n",
       "       'elo2', 'elo_prob1', 'score1', 'score2', 'result1'],\n",
       "      dtype='object')"
      ]
     },
     "execution_count": 270,
     "metadata": {},
     "output_type": "execute_result"
    }
   ],
   "source": [
    "elo_df.columns"
   ]
  },
  {
   "cell_type": "code",
   "execution_count": 282,
   "metadata": {},
   "outputs": [],
   "source": [
    "elo_append_cols_h = ['date','season','neutral','playoff','team1','elo1','score1']\n",
    "elo_append_cols_a = ['date','season','neutral','playoff','team2','elo2','score2']"
   ]
  },
  {
   "cell_type": "code",
   "execution_count": 283,
   "metadata": {},
   "outputs": [],
   "source": [
    "elo_df_h = elo_df[elo_append_cols_h]\n",
    "elo_df_a = elo_df[elo_append_cols_a]"
   ]
  },
  {
   "cell_type": "code",
   "execution_count": 285,
   "metadata": {},
   "outputs": [
    {
     "name": "stderr",
     "output_type": "stream",
     "text": [
      "/Users/kendra/anaconda3/lib/python3.5/site-packages/pandas/core/frame.py:3781: SettingWithCopyWarning: \n",
      "A value is trying to be set on a copy of a slice from a DataFrame\n",
      "\n",
      "See the caveats in the documentation: http://pandas.pydata.org/pandas-docs/stable/indexing.html#indexing-view-versus-copy\n",
      "  return super(DataFrame, self).rename(**kwargs)\n"
     ]
    }
   ],
   "source": [
    "elo_df_h.rename(columns={'elo1':'elo', 'team1':'team','score1':'score'}, inplace=True)\n",
    "elo_df_a.rename(columns={'elo2':'elo', 'team2':'team','score2':'score'}, inplace=True)"
   ]
  },
  {
   "cell_type": "code",
   "execution_count": null,
   "metadata": {},
   "outputs": [],
   "source": []
  },
  {
   "cell_type": "code",
   "execution_count": 286,
   "metadata": {},
   "outputs": [
    {
     "data": {
      "text/html": [
       "<div>\n",
       "<style scoped>\n",
       "    .dataframe tbody tr th:only-of-type {\n",
       "        vertical-align: middle;\n",
       "    }\n",
       "\n",
       "    .dataframe tbody tr th {\n",
       "        vertical-align: top;\n",
       "    }\n",
       "\n",
       "    .dataframe thead th {\n",
       "        text-align: right;\n",
       "    }\n",
       "</style>\n",
       "<table border=\"1\" class=\"dataframe\">\n",
       "  <thead>\n",
       "    <tr style=\"text-align: right;\">\n",
       "      <th></th>\n",
       "      <th>date</th>\n",
       "      <th>season</th>\n",
       "      <th>neutral</th>\n",
       "      <th>playoff</th>\n",
       "      <th>team</th>\n",
       "      <th>elo</th>\n",
       "      <th>score</th>\n",
       "    </tr>\n",
       "  </thead>\n",
       "  <tbody>\n",
       "    <tr>\n",
       "      <th>0</th>\n",
       "      <td>2007-09-06</td>\n",
       "      <td>2007</td>\n",
       "      <td>0</td>\n",
       "      <td>0</td>\n",
       "      <td>IND</td>\n",
       "      <td>1653.923</td>\n",
       "      <td>41</td>\n",
       "    </tr>\n",
       "    <tr>\n",
       "      <th>1</th>\n",
       "      <td>2007-09-09</td>\n",
       "      <td>2007</td>\n",
       "      <td>0</td>\n",
       "      <td>0</td>\n",
       "      <td>WSH</td>\n",
       "      <td>1448.841</td>\n",
       "      <td>16</td>\n",
       "    </tr>\n",
       "    <tr>\n",
       "      <th>2</th>\n",
       "      <td>2007-09-09</td>\n",
       "      <td>2007</td>\n",
       "      <td>0</td>\n",
       "      <td>0</td>\n",
       "      <td>BUF</td>\n",
       "      <td>1516.684</td>\n",
       "      <td>14</td>\n",
       "    </tr>\n",
       "    <tr>\n",
       "      <th>3</th>\n",
       "      <td>2007-09-09</td>\n",
       "      <td>2007</td>\n",
       "      <td>0</td>\n",
       "      <td>0</td>\n",
       "      <td>SEA</td>\n",
       "      <td>1511.936</td>\n",
       "      <td>20</td>\n",
       "    </tr>\n",
       "    <tr>\n",
       "      <th>4</th>\n",
       "      <td>2007-09-09</td>\n",
       "      <td>2007</td>\n",
       "      <td>0</td>\n",
       "      <td>0</td>\n",
       "      <td>CLE</td>\n",
       "      <td>1396.563</td>\n",
       "      <td>7</td>\n",
       "    </tr>\n",
       "  </tbody>\n",
       "</table>\n",
       "</div>"
      ],
      "text/plain": [
       "        date  season  neutral  playoff team       elo  score\n",
       "0 2007-09-06    2007        0        0  IND  1653.923     41\n",
       "1 2007-09-09    2007        0        0  WSH  1448.841     16\n",
       "2 2007-09-09    2007        0        0  BUF  1516.684     14\n",
       "3 2007-09-09    2007        0        0  SEA  1511.936     20\n",
       "4 2007-09-09    2007        0        0  CLE  1396.563      7"
      ]
     },
     "execution_count": 286,
     "metadata": {},
     "output_type": "execute_result"
    }
   ],
   "source": [
    "elo_df_h.head()"
   ]
  },
  {
   "cell_type": "code",
   "execution_count": 287,
   "metadata": {},
   "outputs": [
    {
     "data": {
      "text/html": [
       "<div>\n",
       "<style scoped>\n",
       "    .dataframe tbody tr th:only-of-type {\n",
       "        vertical-align: middle;\n",
       "    }\n",
       "\n",
       "    .dataframe tbody tr th {\n",
       "        vertical-align: top;\n",
       "    }\n",
       "\n",
       "    .dataframe thead th {\n",
       "        text-align: right;\n",
       "    }\n",
       "</style>\n",
       "<table border=\"1\" class=\"dataframe\">\n",
       "  <thead>\n",
       "    <tr style=\"text-align: right;\">\n",
       "      <th></th>\n",
       "      <th>date</th>\n",
       "      <th>season</th>\n",
       "      <th>neutral</th>\n",
       "      <th>playoff</th>\n",
       "      <th>team</th>\n",
       "      <th>elo</th>\n",
       "      <th>score</th>\n",
       "    </tr>\n",
       "  </thead>\n",
       "  <tbody>\n",
       "    <tr>\n",
       "      <th>0</th>\n",
       "      <td>2007-09-06</td>\n",
       "      <td>2007</td>\n",
       "      <td>0</td>\n",
       "      <td>0</td>\n",
       "      <td>NO</td>\n",
       "      <td>1515.973</td>\n",
       "      <td>10</td>\n",
       "    </tr>\n",
       "    <tr>\n",
       "      <th>1</th>\n",
       "      <td>2007-09-09</td>\n",
       "      <td>2007</td>\n",
       "      <td>0</td>\n",
       "      <td>0</td>\n",
       "      <td>MIA</td>\n",
       "      <td>1489.941</td>\n",
       "      <td>13</td>\n",
       "    </tr>\n",
       "    <tr>\n",
       "      <th>2</th>\n",
       "      <td>2007-09-09</td>\n",
       "      <td>2007</td>\n",
       "      <td>0</td>\n",
       "      <td>0</td>\n",
       "      <td>DEN</td>\n",
       "      <td>1558.574</td>\n",
       "      <td>15</td>\n",
       "    </tr>\n",
       "    <tr>\n",
       "      <th>3</th>\n",
       "      <td>2007-09-09</td>\n",
       "      <td>2007</td>\n",
       "      <td>0</td>\n",
       "      <td>0</td>\n",
       "      <td>TB</td>\n",
       "      <td>1417.385</td>\n",
       "      <td>6</td>\n",
       "    </tr>\n",
       "    <tr>\n",
       "      <th>4</th>\n",
       "      <td>2007-09-09</td>\n",
       "      <td>2007</td>\n",
       "      <td>0</td>\n",
       "      <td>0</td>\n",
       "      <td>PIT</td>\n",
       "      <td>1568.569</td>\n",
       "      <td>34</td>\n",
       "    </tr>\n",
       "  </tbody>\n",
       "</table>\n",
       "</div>"
      ],
      "text/plain": [
       "        date  season  neutral  playoff team       elo  score\n",
       "0 2007-09-06    2007        0        0   NO  1515.973     10\n",
       "1 2007-09-09    2007        0        0  MIA  1489.941     13\n",
       "2 2007-09-09    2007        0        0  DEN  1558.574     15\n",
       "3 2007-09-09    2007        0        0   TB  1417.385      6\n",
       "4 2007-09-09    2007        0        0  PIT  1568.569     34"
      ]
     },
     "execution_count": 287,
     "metadata": {},
     "output_type": "execute_result"
    }
   ],
   "source": [
    "elo_df_a.head()"
   ]
  },
  {
   "cell_type": "code",
   "execution_count": 291,
   "metadata": {},
   "outputs": [],
   "source": [
    "elo_df_flat = elo_df_h.append(elo_df_a, ignore_index=True)"
   ]
  },
  {
   "cell_type": "code",
   "execution_count": 294,
   "metadata": {},
   "outputs": [],
   "source": [
    "elo_df_flat.sort_values('date', inplace=True)\n",
    "elo_df_flat.reset_index(inplace=True, drop=True)"
   ]
  },
  {
   "cell_type": "code",
   "execution_count": 296,
   "metadata": {},
   "outputs": [],
   "source": [
    "elo_df_flat.drop(columns='index',inplace=True)"
   ]
  },
  {
   "cell_type": "code",
   "execution_count": 298,
   "metadata": {},
   "outputs": [],
   "source": [
    "elo_df_flat['elo_after'] = elo_df_flat.groupby('team')['elo'].shift(-1)\n",
    "elo_df_flat['elo_delta'] = elo_df_flat['elo_after'] - elo_df_flat['elo']"
   ]
  },
  {
   "cell_type": "code",
   "execution_count": 303,
   "metadata": {},
   "outputs": [
    {
     "data": {
      "text/html": [
       "<div>\n",
       "<style scoped>\n",
       "    .dataframe tbody tr th:only-of-type {\n",
       "        vertical-align: middle;\n",
       "    }\n",
       "\n",
       "    .dataframe tbody tr th {\n",
       "        vertical-align: top;\n",
       "    }\n",
       "\n",
       "    .dataframe thead th {\n",
       "        text-align: right;\n",
       "    }\n",
       "</style>\n",
       "<table border=\"1\" class=\"dataframe\">\n",
       "  <thead>\n",
       "    <tr style=\"text-align: right;\">\n",
       "      <th></th>\n",
       "      <th>date</th>\n",
       "      <th>season</th>\n",
       "      <th>neutral</th>\n",
       "      <th>playoff</th>\n",
       "      <th>team</th>\n",
       "      <th>elo</th>\n",
       "      <th>score</th>\n",
       "      <th>elo_after</th>\n",
       "      <th>elo_delta</th>\n",
       "    </tr>\n",
       "  </thead>\n",
       "  <tbody>\n",
       "    <tr>\n",
       "      <th>0</th>\n",
       "      <td>2007-09-06</td>\n",
       "      <td>2007</td>\n",
       "      <td>0</td>\n",
       "      <td>0</td>\n",
       "      <td>IND</td>\n",
       "      <td>1653.923</td>\n",
       "      <td>41</td>\n",
       "      <td>1668.974</td>\n",
       "      <td>15.051</td>\n",
       "    </tr>\n",
       "    <tr>\n",
       "      <th>1</th>\n",
       "      <td>2007-09-06</td>\n",
       "      <td>2007</td>\n",
       "      <td>0</td>\n",
       "      <td>0</td>\n",
       "      <td>NO</td>\n",
       "      <td>1515.973</td>\n",
       "      <td>10</td>\n",
       "      <td>1500.922</td>\n",
       "      <td>-15.051</td>\n",
       "    </tr>\n",
       "    <tr>\n",
       "      <th>2</th>\n",
       "      <td>2007-09-09</td>\n",
       "      <td>2007</td>\n",
       "      <td>0</td>\n",
       "      <td>0</td>\n",
       "      <td>CAR</td>\n",
       "      <td>1511.942</td>\n",
       "      <td>27</td>\n",
       "      <td>1541.917</td>\n",
       "      <td>29.975</td>\n",
       "    </tr>\n",
       "    <tr>\n",
       "      <th>3</th>\n",
       "      <td>2007-09-09</td>\n",
       "      <td>2007</td>\n",
       "      <td>0</td>\n",
       "      <td>0</td>\n",
       "      <td>CHI</td>\n",
       "      <td>1574.744</td>\n",
       "      <td>3</td>\n",
       "      <td>1560.090</td>\n",
       "      <td>-14.654</td>\n",
       "    </tr>\n",
       "    <tr>\n",
       "      <th>4</th>\n",
       "      <td>2007-09-09</td>\n",
       "      <td>2007</td>\n",
       "      <td>0</td>\n",
       "      <td>0</td>\n",
       "      <td>DET</td>\n",
       "      <td>1388.019</td>\n",
       "      <td>36</td>\n",
       "      <td>1418.350</td>\n",
       "      <td>30.331</td>\n",
       "    </tr>\n",
       "  </tbody>\n",
       "</table>\n",
       "</div>"
      ],
      "text/plain": [
       "        date  season  neutral  playoff team       elo  score  elo_after  \\\n",
       "0 2007-09-06    2007        0        0  IND  1653.923     41   1668.974   \n",
       "1 2007-09-06    2007        0        0   NO  1515.973     10   1500.922   \n",
       "2 2007-09-09    2007        0        0  CAR  1511.942     27   1541.917   \n",
       "3 2007-09-09    2007        0        0  CHI  1574.744      3   1560.090   \n",
       "4 2007-09-09    2007        0        0  DET  1388.019     36   1418.350   \n",
       "\n",
       "   elo_delta  \n",
       "0     15.051  \n",
       "1    -15.051  \n",
       "2     29.975  \n",
       "3    -14.654  \n",
       "4     30.331  "
      ]
     },
     "execution_count": 303,
     "metadata": {},
     "output_type": "execute_result"
    }
   ],
   "source": [
    "elo_df_flat.head()"
   ]
  },
  {
   "cell_type": "code",
   "execution_count": 305,
   "metadata": {},
   "outputs": [],
   "source": [
    "elo_df_flat_for_merge = elo_df_flat[['date','team','elo_delta']]"
   ]
  },
  {
   "cell_type": "code",
   "execution_count": 302,
   "metadata": {},
   "outputs": [
    {
     "data": {
      "text/html": [
       "<div>\n",
       "<style scoped>\n",
       "    .dataframe tbody tr th:only-of-type {\n",
       "        vertical-align: middle;\n",
       "    }\n",
       "\n",
       "    .dataframe tbody tr th {\n",
       "        vertical-align: top;\n",
       "    }\n",
       "\n",
       "    .dataframe thead th {\n",
       "        text-align: right;\n",
       "    }\n",
       "</style>\n",
       "<table border=\"1\" class=\"dataframe\">\n",
       "  <thead>\n",
       "    <tr style=\"text-align: right;\">\n",
       "      <th></th>\n",
       "      <th>date</th>\n",
       "      <th>season</th>\n",
       "      <th>neutral</th>\n",
       "      <th>playoff</th>\n",
       "      <th>team1</th>\n",
       "      <th>team2</th>\n",
       "      <th>elo1</th>\n",
       "      <th>elo2</th>\n",
       "      <th>elo_prob1</th>\n",
       "      <th>score1</th>\n",
       "      <th>score2</th>\n",
       "      <th>result1</th>\n",
       "    </tr>\n",
       "  </thead>\n",
       "  <tbody>\n",
       "    <tr>\n",
       "      <th>0</th>\n",
       "      <td>2007-09-06</td>\n",
       "      <td>2007</td>\n",
       "      <td>0</td>\n",
       "      <td>0</td>\n",
       "      <td>IND</td>\n",
       "      <td>NO</td>\n",
       "      <td>1653.923</td>\n",
       "      <td>1515.973</td>\n",
       "      <td>0.762833</td>\n",
       "      <td>41</td>\n",
       "      <td>10</td>\n",
       "      <td>1.0</td>\n",
       "    </tr>\n",
       "    <tr>\n",
       "      <th>1</th>\n",
       "      <td>2007-09-09</td>\n",
       "      <td>2007</td>\n",
       "      <td>0</td>\n",
       "      <td>0</td>\n",
       "      <td>WSH</td>\n",
       "      <td>MIA</td>\n",
       "      <td>1448.841</td>\n",
       "      <td>1489.941</td>\n",
       "      <td>0.534341</td>\n",
       "      <td>16</td>\n",
       "      <td>13</td>\n",
       "      <td>1.0</td>\n",
       "    </tr>\n",
       "    <tr>\n",
       "      <th>2</th>\n",
       "      <td>2007-09-09</td>\n",
       "      <td>2007</td>\n",
       "      <td>0</td>\n",
       "      <td>0</td>\n",
       "      <td>BUF</td>\n",
       "      <td>DEN</td>\n",
       "      <td>1516.684</td>\n",
       "      <td>1558.574</td>\n",
       "      <td>0.533209</td>\n",
       "      <td>14</td>\n",
       "      <td>15</td>\n",
       "      <td>0.0</td>\n",
       "    </tr>\n",
       "    <tr>\n",
       "      <th>3</th>\n",
       "      <td>2007-09-09</td>\n",
       "      <td>2007</td>\n",
       "      <td>0</td>\n",
       "      <td>0</td>\n",
       "      <td>SEA</td>\n",
       "      <td>TB</td>\n",
       "      <td>1511.936</td>\n",
       "      <td>1417.385</td>\n",
       "      <td>0.714726</td>\n",
       "      <td>20</td>\n",
       "      <td>6</td>\n",
       "      <td>1.0</td>\n",
       "    </tr>\n",
       "    <tr>\n",
       "      <th>4</th>\n",
       "      <td>2007-09-09</td>\n",
       "      <td>2007</td>\n",
       "      <td>0</td>\n",
       "      <td>0</td>\n",
       "      <td>CLE</td>\n",
       "      <td>PIT</td>\n",
       "      <td>1396.563</td>\n",
       "      <td>1568.569</td>\n",
       "      <td>0.350697</td>\n",
       "      <td>7</td>\n",
       "      <td>34</td>\n",
       "      <td>0.0</td>\n",
       "    </tr>\n",
       "  </tbody>\n",
       "</table>\n",
       "</div>"
      ],
      "text/plain": [
       "        date  season  neutral  playoff team1 team2      elo1      elo2  \\\n",
       "0 2007-09-06    2007        0        0   IND    NO  1653.923  1515.973   \n",
       "1 2007-09-09    2007        0        0   WSH   MIA  1448.841  1489.941   \n",
       "2 2007-09-09    2007        0        0   BUF   DEN  1516.684  1558.574   \n",
       "3 2007-09-09    2007        0        0   SEA    TB  1511.936  1417.385   \n",
       "4 2007-09-09    2007        0        0   CLE   PIT  1396.563  1568.569   \n",
       "\n",
       "   elo_prob1  score1  score2  result1  \n",
       "0   0.762833      41      10      1.0  \n",
       "1   0.534341      16      13      1.0  \n",
       "2   0.533209      14      15      0.0  \n",
       "3   0.714726      20       6      1.0  \n",
       "4   0.350697       7      34      0.0  "
      ]
     },
     "execution_count": 302,
     "metadata": {},
     "output_type": "execute_result"
    }
   ],
   "source": [
    "elo_df.head()"
   ]
  },
  {
   "cell_type": "code",
   "execution_count": 308,
   "metadata": {},
   "outputs": [],
   "source": [
    "elo_df = pd.merge(elo_df, elo_df_flat_for_merge, left_on=['date','team1'], right_on=['date','team'])"
   ]
  },
  {
   "cell_type": "code",
   "execution_count": null,
   "metadata": {},
   "outputs": [],
   "source": [
    "elo_df.drop(columns='team', inplace=True)`\n",
    "elo_df.rename(columns={'elo_delta':'elo_delta1'}, inplace=True)"
   ]
  },
  {
   "cell_type": "code",
   "execution_count": 313,
   "metadata": {},
   "outputs": [
    {
     "data": {
      "text/html": [
       "<div>\n",
       "<style scoped>\n",
       "    .dataframe tbody tr th:only-of-type {\n",
       "        vertical-align: middle;\n",
       "    }\n",
       "\n",
       "    .dataframe tbody tr th {\n",
       "        vertical-align: top;\n",
       "    }\n",
       "\n",
       "    .dataframe thead th {\n",
       "        text-align: right;\n",
       "    }\n",
       "</style>\n",
       "<table border=\"1\" class=\"dataframe\">\n",
       "  <thead>\n",
       "    <tr style=\"text-align: right;\">\n",
       "      <th></th>\n",
       "      <th>date</th>\n",
       "      <th>season</th>\n",
       "      <th>neutral</th>\n",
       "      <th>playoff</th>\n",
       "      <th>team1</th>\n",
       "      <th>team2</th>\n",
       "      <th>elo1</th>\n",
       "      <th>elo2</th>\n",
       "      <th>elo_prob1</th>\n",
       "      <th>score1</th>\n",
       "      <th>score2</th>\n",
       "      <th>result1</th>\n",
       "      <th>elo_delta1</th>\n",
       "    </tr>\n",
       "  </thead>\n",
       "  <tbody>\n",
       "    <tr>\n",
       "      <th>0</th>\n",
       "      <td>2007-09-06</td>\n",
       "      <td>2007</td>\n",
       "      <td>0</td>\n",
       "      <td>0</td>\n",
       "      <td>IND</td>\n",
       "      <td>NO</td>\n",
       "      <td>1653.923</td>\n",
       "      <td>1515.973</td>\n",
       "      <td>0.762833</td>\n",
       "      <td>41</td>\n",
       "      <td>10</td>\n",
       "      <td>1.0</td>\n",
       "      <td>15.051</td>\n",
       "    </tr>\n",
       "    <tr>\n",
       "      <th>1</th>\n",
       "      <td>2007-09-09</td>\n",
       "      <td>2007</td>\n",
       "      <td>0</td>\n",
       "      <td>0</td>\n",
       "      <td>WSH</td>\n",
       "      <td>MIA</td>\n",
       "      <td>1448.841</td>\n",
       "      <td>1489.941</td>\n",
       "      <td>0.534341</td>\n",
       "      <td>16</td>\n",
       "      <td>13</td>\n",
       "      <td>1.0</td>\n",
       "      <td>12.772</td>\n",
       "    </tr>\n",
       "    <tr>\n",
       "      <th>2</th>\n",
       "      <td>2007-09-09</td>\n",
       "      <td>2007</td>\n",
       "      <td>0</td>\n",
       "      <td>0</td>\n",
       "      <td>BUF</td>\n",
       "      <td>DEN</td>\n",
       "      <td>1516.684</td>\n",
       "      <td>1558.574</td>\n",
       "      <td>0.533209</td>\n",
       "      <td>14</td>\n",
       "      <td>15</td>\n",
       "      <td>0.0</td>\n",
       "      <td>-7.471</td>\n",
       "    </tr>\n",
       "    <tr>\n",
       "      <th>3</th>\n",
       "      <td>2007-09-09</td>\n",
       "      <td>2007</td>\n",
       "      <td>0</td>\n",
       "      <td>0</td>\n",
       "      <td>SEA</td>\n",
       "      <td>TB</td>\n",
       "      <td>1511.936</td>\n",
       "      <td>1417.385</td>\n",
       "      <td>0.714726</td>\n",
       "      <td>20</td>\n",
       "      <td>6</td>\n",
       "      <td>1.0</td>\n",
       "      <td>14.406</td>\n",
       "    </tr>\n",
       "    <tr>\n",
       "      <th>4</th>\n",
       "      <td>2007-09-09</td>\n",
       "      <td>2007</td>\n",
       "      <td>0</td>\n",
       "      <td>0</td>\n",
       "      <td>CLE</td>\n",
       "      <td>PIT</td>\n",
       "      <td>1396.563</td>\n",
       "      <td>1568.569</td>\n",
       "      <td>0.350697</td>\n",
       "      <td>7</td>\n",
       "      <td>34</td>\n",
       "      <td>0.0</td>\n",
       "      <td>-22.287</td>\n",
       "    </tr>\n",
       "  </tbody>\n",
       "</table>\n",
       "</div>"
      ],
      "text/plain": [
       "        date  season  neutral  playoff team1 team2      elo1      elo2  \\\n",
       "0 2007-09-06    2007        0        0   IND    NO  1653.923  1515.973   \n",
       "1 2007-09-09    2007        0        0   WSH   MIA  1448.841  1489.941   \n",
       "2 2007-09-09    2007        0        0   BUF   DEN  1516.684  1558.574   \n",
       "3 2007-09-09    2007        0        0   SEA    TB  1511.936  1417.385   \n",
       "4 2007-09-09    2007        0        0   CLE   PIT  1396.563  1568.569   \n",
       "\n",
       "   elo_prob1  score1  score2  result1  elo_delta1  \n",
       "0   0.762833      41      10      1.0      15.051  \n",
       "1   0.534341      16      13      1.0      12.772  \n",
       "2   0.533209      14      15      0.0      -7.471  \n",
       "3   0.714726      20       6      1.0      14.406  \n",
       "4   0.350697       7      34      0.0     -22.287  "
      ]
     },
     "execution_count": 313,
     "metadata": {},
     "output_type": "execute_result"
    }
   ],
   "source": [
    "elo_df.head()"
   ]
  },
  {
   "cell_type": "code",
   "execution_count": 353,
   "metadata": {},
   "outputs": [],
   "source": [
    "df2 = pd.merge(elo_df, stats_df, right_on=['Team','Date'], left_on=['team1','date'])\n",
    "df2 = pd.merge(df2, stats_df, right_on=['Team','Date'], left_on=['team2','date'], suffixes=('1','2'))"
   ]
  },
  {
   "cell_type": "code",
   "execution_count": 344,
   "metadata": {
    "collapsed": true
   },
   "outputs": [
    {
     "data": {
      "text/plain": [
       "['date',\n",
       " 'season',\n",
       " 'neutral',\n",
       " 'playoff',\n",
       " 'team1',\n",
       " 'team2',\n",
       " 'elo1',\n",
       " 'elo2',\n",
       " 'elo_prob1',\n",
       " 'score1',\n",
       " 'score2',\n",
       " 'result1',\n",
       " 'elo_delta1',\n",
       " 'Date1',\n",
       " 'Day1',\n",
       " 'Location1',\n",
       " 'OT1',\n",
       " 'Opp1',\n",
       " 'Record1',\n",
       " 'Result1',\n",
       " 'Team1',\n",
       " 'Time1',\n",
       " 'Week1',\n",
       " 'Season1',\n",
       " 'Wins1',\n",
       " 'Losses1',\n",
       " 'Games1',\n",
       " 'Win%1',\n",
       " 'TimePossMins1',\n",
       " '1stD_SA1',\n",
       " 'PassY_SA1',\n",
       " 'PtsOpp_SA1',\n",
       " 'PtsTm_SA1',\n",
       " 'RushY_SA1',\n",
       " 'TO_SA1',\n",
       " 'DefTO_SA1',\n",
       " 'TotY_SA1',\n",
       " 'RushAtt_SA1',\n",
       " 'RushTDs_SA1',\n",
       " 'PassCmp_SA1',\n",
       " 'PassAtt_SA1',\n",
       " 'PassTDs_SA1',\n",
       " 'INT_SA1',\n",
       " 'SacksO_SA1',\n",
       " 'Fumbles_SA1',\n",
       " 'Penalies_SA1',\n",
       " 'PenY_SA1',\n",
       " '3rdDConv_SA1',\n",
       " '3rdDAtt_SA1',\n",
       " '4thDAtt_SA1',\n",
       " 'PassComp%_SA1',\n",
       " 'PassRating_SA1',\n",
       " 'Date2',\n",
       " 'Day2',\n",
       " 'Location2',\n",
       " 'OT2',\n",
       " 'Opp2',\n",
       " 'Record2',\n",
       " 'Result2',\n",
       " 'Team2',\n",
       " 'Time2',\n",
       " 'Week2',\n",
       " 'Season2',\n",
       " 'Wins2',\n",
       " 'Losses2',\n",
       " 'Games2',\n",
       " 'Win%2',\n",
       " 'TimePossMins2',\n",
       " '1stD_SA2',\n",
       " 'PassY_SA2',\n",
       " 'PtsOpp_SA2',\n",
       " 'PtsTm_SA2',\n",
       " 'RushY_SA2',\n",
       " 'TO_SA2',\n",
       " 'DefTO_SA2',\n",
       " 'TotY_SA2',\n",
       " 'RushAtt_SA2',\n",
       " 'RushTDs_SA2',\n",
       " 'PassCmp_SA2',\n",
       " 'PassAtt_SA2',\n",
       " 'PassTDs_SA2',\n",
       " 'INT_SA2',\n",
       " 'SacksO_SA2',\n",
       " 'Fumbles_SA2',\n",
       " 'Penalies_SA2',\n",
       " 'PenY_SA2',\n",
       " '3rdDConv_SA2',\n",
       " '3rdDAtt_SA2',\n",
       " '4thDAtt_SA2',\n",
       " 'PassComp%_SA2',\n",
       " 'PassRating_SA2']"
      ]
     },
     "execution_count": 344,
     "metadata": {},
     "output_type": "execute_result"
    }
   ],
   "source": [
    "list(df2.columns)"
   ]
  },
  {
   "cell_type": "code",
   "execution_count": 354,
   "metadata": {},
   "outputs": [],
   "source": [
    "cols_to_drop = [\n",
    " 'Date1',\n",
    " 'Day1',\n",
    " 'Location1',\n",
    " 'Opp1',\n",
    " 'Record1',\n",
    " 'Result1',\n",
    " 'Team1',\n",
    " 'Season1',\n",
    " 'Wins1',\n",
    " 'Losses1',\n",
    " 'Games1',\n",
    " 'Date2',\n",
    " 'Day2',\n",
    " 'Location2',\n",
    " 'OT2',\n",
    " 'Opp2',\n",
    " 'Record2',\n",
    " 'Result2',\n",
    " 'Team2',\n",
    " 'Time2',\n",
    " 'Week2',\n",
    " 'Season2',\n",
    " 'Wins2',\n",
    " 'Losses2',\n",
    " 'Games2']"
   ]
  },
  {
   "cell_type": "code",
   "execution_count": 355,
   "metadata": {},
   "outputs": [],
   "source": [
    "df2.rename(columns={'OT1':'OT','Week1':'week','Time1':'time'}, inplace=True)"
   ]
  },
  {
   "cell_type": "code",
   "execution_count": 357,
   "metadata": {},
   "outputs": [],
   "source": [
    "df2.drop(columns=cols_to_drop, inplace=True)"
   ]
  },
  {
   "cell_type": "code",
   "execution_count": 360,
   "metadata": {},
   "outputs": [
    {
     "data": {
      "text/plain": [
       "(2929, 66)"
      ]
     },
     "execution_count": 360,
     "metadata": {},
     "output_type": "execute_result"
    }
   ],
   "source": [
    "df2.shape"
   ]
  },
  {
   "cell_type": "code",
   "execution_count": 359,
   "metadata": {
    "collapsed": true
   },
   "outputs": [
    {
     "data": {
      "text/plain": [
       "['date',\n",
       " 'season',\n",
       " 'neutral',\n",
       " 'playoff',\n",
       " 'team1',\n",
       " 'team2',\n",
       " 'elo1',\n",
       " 'elo2',\n",
       " 'elo_prob1',\n",
       " 'score1',\n",
       " 'score2',\n",
       " 'result1',\n",
       " 'elo_delta1',\n",
       " 'OT',\n",
       " 'time',\n",
       " 'week',\n",
       " 'Win%1',\n",
       " 'TimePossMins1',\n",
       " '1stD_SA1',\n",
       " 'PassY_SA1',\n",
       " 'PtsOpp_SA1',\n",
       " 'PtsTm_SA1',\n",
       " 'RushY_SA1',\n",
       " 'TO_SA1',\n",
       " 'DefTO_SA1',\n",
       " 'TotY_SA1',\n",
       " 'RushAtt_SA1',\n",
       " 'RushTDs_SA1',\n",
       " 'PassCmp_SA1',\n",
       " 'PassAtt_SA1',\n",
       " 'PassTDs_SA1',\n",
       " 'INT_SA1',\n",
       " 'SacksO_SA1',\n",
       " 'Fumbles_SA1',\n",
       " 'Penalies_SA1',\n",
       " 'PenY_SA1',\n",
       " '3rdDConv_SA1',\n",
       " '3rdDAtt_SA1',\n",
       " '4thDAtt_SA1',\n",
       " 'PassComp%_SA1',\n",
       " 'PassRating_SA1',\n",
       " 'Win%2',\n",
       " 'TimePossMins2',\n",
       " '1stD_SA2',\n",
       " 'PassY_SA2',\n",
       " 'PtsOpp_SA2',\n",
       " 'PtsTm_SA2',\n",
       " 'RushY_SA2',\n",
       " 'TO_SA2',\n",
       " 'DefTO_SA2',\n",
       " 'TotY_SA2',\n",
       " 'RushAtt_SA2',\n",
       " 'RushTDs_SA2',\n",
       " 'PassCmp_SA2',\n",
       " 'PassAtt_SA2',\n",
       " 'PassTDs_SA2',\n",
       " 'INT_SA2',\n",
       " 'SacksO_SA2',\n",
       " 'Fumbles_SA2',\n",
       " 'Penalies_SA2',\n",
       " 'PenY_SA2',\n",
       " '3rdDConv_SA2',\n",
       " '3rdDAtt_SA2',\n",
       " '4thDAtt_SA2',\n",
       " 'PassComp%_SA2',\n",
       " 'PassRating_SA2']"
      ]
     },
     "execution_count": 359,
     "metadata": {},
     "output_type": "execute_result"
    }
   ],
   "source": [
    "list(df2.columns)"
   ]
  },
  {
   "cell_type": "code",
   "execution_count": 363,
   "metadata": {},
   "outputs": [],
   "source": [
    "p.pkl_this('Data/merged_by_game_df.pkl', df2)"
   ]
  },
  {
   "cell_type": "markdown",
   "metadata": {},
   "source": [
    "## Now, fit"
   ]
  },
  {
   "cell_type": "code",
   "execution_count": 362,
   "metadata": {},
   "outputs": [
    {
     "data": {
      "text/html": [
       "<div>\n",
       "<style scoped>\n",
       "    .dataframe tbody tr th:only-of-type {\n",
       "        vertical-align: middle;\n",
       "    }\n",
       "\n",
       "    .dataframe tbody tr th {\n",
       "        vertical-align: top;\n",
       "    }\n",
       "\n",
       "    .dataframe thead th {\n",
       "        text-align: right;\n",
       "    }\n",
       "</style>\n",
       "<table border=\"1\" class=\"dataframe\">\n",
       "  <thead>\n",
       "    <tr style=\"text-align: right;\">\n",
       "      <th></th>\n",
       "      <th>date</th>\n",
       "      <th>season</th>\n",
       "      <th>neutral</th>\n",
       "      <th>playoff</th>\n",
       "      <th>team1</th>\n",
       "      <th>team2</th>\n",
       "      <th>elo1</th>\n",
       "      <th>elo2</th>\n",
       "      <th>elo_prob1</th>\n",
       "      <th>score1</th>\n",
       "      <th>...</th>\n",
       "      <th>INT_SA2</th>\n",
       "      <th>SacksO_SA2</th>\n",
       "      <th>Fumbles_SA2</th>\n",
       "      <th>Penalies_SA2</th>\n",
       "      <th>PenY_SA2</th>\n",
       "      <th>3rdDConv_SA2</th>\n",
       "      <th>3rdDAtt_SA2</th>\n",
       "      <th>4thDAtt_SA2</th>\n",
       "      <th>PassComp%_SA2</th>\n",
       "      <th>PassRating_SA2</th>\n",
       "    </tr>\n",
       "  </thead>\n",
       "  <tbody>\n",
       "    <tr>\n",
       "      <th>0</th>\n",
       "      <td>2007-09-06</td>\n",
       "      <td>2007</td>\n",
       "      <td>0</td>\n",
       "      <td>0</td>\n",
       "      <td>IND</td>\n",
       "      <td>NO</td>\n",
       "      <td>1653.923</td>\n",
       "      <td>1515.973</td>\n",
       "      <td>0.762833</td>\n",
       "      <td>41</td>\n",
       "      <td>...</td>\n",
       "      <td>NaN</td>\n",
       "      <td>NaN</td>\n",
       "      <td>NaN</td>\n",
       "      <td>NaN</td>\n",
       "      <td>NaN</td>\n",
       "      <td>NaN</td>\n",
       "      <td>NaN</td>\n",
       "      <td>NaN</td>\n",
       "      <td>NaN</td>\n",
       "      <td>NaN</td>\n",
       "    </tr>\n",
       "    <tr>\n",
       "      <th>1</th>\n",
       "      <td>2007-09-09</td>\n",
       "      <td>2007</td>\n",
       "      <td>0</td>\n",
       "      <td>0</td>\n",
       "      <td>WSH</td>\n",
       "      <td>MIA</td>\n",
       "      <td>1448.841</td>\n",
       "      <td>1489.941</td>\n",
       "      <td>0.534341</td>\n",
       "      <td>16</td>\n",
       "      <td>...</td>\n",
       "      <td>NaN</td>\n",
       "      <td>NaN</td>\n",
       "      <td>NaN</td>\n",
       "      <td>NaN</td>\n",
       "      <td>NaN</td>\n",
       "      <td>NaN</td>\n",
       "      <td>NaN</td>\n",
       "      <td>NaN</td>\n",
       "      <td>NaN</td>\n",
       "      <td>NaN</td>\n",
       "    </tr>\n",
       "    <tr>\n",
       "      <th>2</th>\n",
       "      <td>2007-09-09</td>\n",
       "      <td>2007</td>\n",
       "      <td>0</td>\n",
       "      <td>0</td>\n",
       "      <td>BUF</td>\n",
       "      <td>DEN</td>\n",
       "      <td>1516.684</td>\n",
       "      <td>1558.574</td>\n",
       "      <td>0.533209</td>\n",
       "      <td>14</td>\n",
       "      <td>...</td>\n",
       "      <td>NaN</td>\n",
       "      <td>NaN</td>\n",
       "      <td>NaN</td>\n",
       "      <td>NaN</td>\n",
       "      <td>NaN</td>\n",
       "      <td>NaN</td>\n",
       "      <td>NaN</td>\n",
       "      <td>NaN</td>\n",
       "      <td>NaN</td>\n",
       "      <td>NaN</td>\n",
       "    </tr>\n",
       "    <tr>\n",
       "      <th>3</th>\n",
       "      <td>2007-09-09</td>\n",
       "      <td>2007</td>\n",
       "      <td>0</td>\n",
       "      <td>0</td>\n",
       "      <td>SEA</td>\n",
       "      <td>TB</td>\n",
       "      <td>1511.936</td>\n",
       "      <td>1417.385</td>\n",
       "      <td>0.714726</td>\n",
       "      <td>20</td>\n",
       "      <td>...</td>\n",
       "      <td>NaN</td>\n",
       "      <td>NaN</td>\n",
       "      <td>NaN</td>\n",
       "      <td>NaN</td>\n",
       "      <td>NaN</td>\n",
       "      <td>NaN</td>\n",
       "      <td>NaN</td>\n",
       "      <td>NaN</td>\n",
       "      <td>NaN</td>\n",
       "      <td>NaN</td>\n",
       "    </tr>\n",
       "    <tr>\n",
       "      <th>4</th>\n",
       "      <td>2007-09-09</td>\n",
       "      <td>2007</td>\n",
       "      <td>0</td>\n",
       "      <td>0</td>\n",
       "      <td>CLE</td>\n",
       "      <td>PIT</td>\n",
       "      <td>1396.563</td>\n",
       "      <td>1568.569</td>\n",
       "      <td>0.350697</td>\n",
       "      <td>7</td>\n",
       "      <td>...</td>\n",
       "      <td>NaN</td>\n",
       "      <td>NaN</td>\n",
       "      <td>NaN</td>\n",
       "      <td>NaN</td>\n",
       "      <td>NaN</td>\n",
       "      <td>NaN</td>\n",
       "      <td>NaN</td>\n",
       "      <td>NaN</td>\n",
       "      <td>NaN</td>\n",
       "      <td>NaN</td>\n",
       "    </tr>\n",
       "  </tbody>\n",
       "</table>\n",
       "<p>5 rows × 66 columns</p>\n",
       "</div>"
      ],
      "text/plain": [
       "        date  season  neutral  playoff team1 team2      elo1      elo2  \\\n",
       "0 2007-09-06    2007        0        0   IND    NO  1653.923  1515.973   \n",
       "1 2007-09-09    2007        0        0   WSH   MIA  1448.841  1489.941   \n",
       "2 2007-09-09    2007        0        0   BUF   DEN  1516.684  1558.574   \n",
       "3 2007-09-09    2007        0        0   SEA    TB  1511.936  1417.385   \n",
       "4 2007-09-09    2007        0        0   CLE   PIT  1396.563  1568.569   \n",
       "\n",
       "   elo_prob1  score1       ...        INT_SA2  SacksO_SA2  Fumbles_SA2  \\\n",
       "0   0.762833      41       ...            NaN         NaN          NaN   \n",
       "1   0.534341      16       ...            NaN         NaN          NaN   \n",
       "2   0.533209      14       ...            NaN         NaN          NaN   \n",
       "3   0.714726      20       ...            NaN         NaN          NaN   \n",
       "4   0.350697       7       ...            NaN         NaN          NaN   \n",
       "\n",
       "   Penalies_SA2 PenY_SA2  3rdDConv_SA2  3rdDAtt_SA2  4thDAtt_SA2  \\\n",
       "0           NaN      NaN           NaN          NaN          NaN   \n",
       "1           NaN      NaN           NaN          NaN          NaN   \n",
       "2           NaN      NaN           NaN          NaN          NaN   \n",
       "3           NaN      NaN           NaN          NaN          NaN   \n",
       "4           NaN      NaN           NaN          NaN          NaN   \n",
       "\n",
       "   PassComp%_SA2  PassRating_SA2  \n",
       "0            NaN             NaN  \n",
       "1            NaN             NaN  \n",
       "2            NaN             NaN  \n",
       "3            NaN             NaN  \n",
       "4            NaN             NaN  \n",
       "\n",
       "[5 rows x 66 columns]"
      ]
     },
     "execution_count": 362,
     "metadata": {},
     "output_type": "execute_result"
    }
   ],
   "source": [
    "df2.head()"
   ]
  },
  {
   "cell_type": "code",
   "execution_count": null,
   "metadata": {},
   "outputs": [],
   "source": []
  }
 ],
 "metadata": {
  "kernelspec": {
   "display_name": "Python 3",
   "language": "python",
   "name": "python3"
  },
  "language_info": {
   "codemirror_mode": {
    "name": "ipython",
    "version": 3
   },
   "file_extension": ".py",
   "mimetype": "text/x-python",
   "name": "python",
   "nbconvert_exporter": "python",
   "pygments_lexer": "ipython3",
   "version": "3.6.6"
  }
 },
 "nbformat": 4,
 "nbformat_minor": 2
}
