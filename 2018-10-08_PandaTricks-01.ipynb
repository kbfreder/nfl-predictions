{
 "cells": [
  {
   "cell_type": "markdown",
   "metadata": {},
   "source": [
    "## Self-Join to extract information in two columns"
   ]
  },
  {
   "cell_type": "markdown",
   "metadata": {},
   "source": [
    "### *The problem:* \n",
    "In timeseries data, information for an entity (here, a team) is sometimes in one column, sometimes in another. We want to compute the difference in the entity's value from one timepoint to the next. But this is not straightforward."
   ]
  },
  {
   "cell_type": "code",
   "execution_count": 1,
   "metadata": {},
   "outputs": [],
   "source": [
    "import pandas as pd"
   ]
  },
  {
   "cell_type": "markdown",
   "metadata": {},
   "source": [
    "Our dataset is FiveThirtyEight's NFL Elo Rankings. Note, I have cropped this dataset to seasons 2007 & after."
   ]
  },
  {
   "cell_type": "code",
   "execution_count": 2,
   "metadata": {},
   "outputs": [],
   "source": [
    "elo_df = pd.read_csv('Data/nfl_games.csv')"
   ]
  },
  {
   "cell_type": "markdown",
   "metadata": {},
   "source": [
    "Here is what our dataframe looks like:"
   ]
  },
  {
   "cell_type": "code",
   "execution_count": 4,
   "metadata": {},
   "outputs": [
    {
     "data": {
      "text/html": [
       "<div>\n",
       "<style scoped>\n",
       "    .dataframe tbody tr th:only-of-type {\n",
       "        vertical-align: middle;\n",
       "    }\n",
       "\n",
       "    .dataframe tbody tr th {\n",
       "        vertical-align: top;\n",
       "    }\n",
       "\n",
       "    .dataframe thead th {\n",
       "        text-align: right;\n",
       "    }\n",
       "</style>\n",
       "<table border=\"1\" class=\"dataframe\">\n",
       "  <thead>\n",
       "    <tr style=\"text-align: right;\">\n",
       "      <th></th>\n",
       "      <th>date</th>\n",
       "      <th>season</th>\n",
       "      <th>neutral</th>\n",
       "      <th>playoff</th>\n",
       "      <th>team1</th>\n",
       "      <th>team2</th>\n",
       "      <th>elo1</th>\n",
       "      <th>elo2</th>\n",
       "      <th>elo_prob1</th>\n",
       "      <th>score1</th>\n",
       "      <th>score2</th>\n",
       "      <th>result1</th>\n",
       "    </tr>\n",
       "  </thead>\n",
       "  <tbody>\n",
       "    <tr>\n",
       "      <th>0</th>\n",
       "      <td>2007-09-06</td>\n",
       "      <td>2007</td>\n",
       "      <td>0</td>\n",
       "      <td>0</td>\n",
       "      <td>IND</td>\n",
       "      <td>NO</td>\n",
       "      <td>1653.923</td>\n",
       "      <td>1515.973</td>\n",
       "      <td>0.762833</td>\n",
       "      <td>41</td>\n",
       "      <td>10</td>\n",
       "      <td>1.0</td>\n",
       "    </tr>\n",
       "    <tr>\n",
       "      <th>1</th>\n",
       "      <td>2007-09-09</td>\n",
       "      <td>2007</td>\n",
       "      <td>0</td>\n",
       "      <td>0</td>\n",
       "      <td>WSH</td>\n",
       "      <td>MIA</td>\n",
       "      <td>1448.841</td>\n",
       "      <td>1489.941</td>\n",
       "      <td>0.534341</td>\n",
       "      <td>16</td>\n",
       "      <td>13</td>\n",
       "      <td>1.0</td>\n",
       "    </tr>\n",
       "    <tr>\n",
       "      <th>2</th>\n",
       "      <td>2007-09-09</td>\n",
       "      <td>2007</td>\n",
       "      <td>0</td>\n",
       "      <td>0</td>\n",
       "      <td>BUF</td>\n",
       "      <td>DEN</td>\n",
       "      <td>1516.684</td>\n",
       "      <td>1558.574</td>\n",
       "      <td>0.533209</td>\n",
       "      <td>14</td>\n",
       "      <td>15</td>\n",
       "      <td>0.0</td>\n",
       "    </tr>\n",
       "    <tr>\n",
       "      <th>3</th>\n",
       "      <td>2007-09-09</td>\n",
       "      <td>2007</td>\n",
       "      <td>0</td>\n",
       "      <td>0</td>\n",
       "      <td>SEA</td>\n",
       "      <td>TB</td>\n",
       "      <td>1511.936</td>\n",
       "      <td>1417.385</td>\n",
       "      <td>0.714726</td>\n",
       "      <td>20</td>\n",
       "      <td>6</td>\n",
       "      <td>1.0</td>\n",
       "    </tr>\n",
       "    <tr>\n",
       "      <th>4</th>\n",
       "      <td>2007-09-09</td>\n",
       "      <td>2007</td>\n",
       "      <td>0</td>\n",
       "      <td>0</td>\n",
       "      <td>CLE</td>\n",
       "      <td>PIT</td>\n",
       "      <td>1396.563</td>\n",
       "      <td>1568.569</td>\n",
       "      <td>0.350697</td>\n",
       "      <td>7</td>\n",
       "      <td>34</td>\n",
       "      <td>0.0</td>\n",
       "    </tr>\n",
       "  </tbody>\n",
       "</table>\n",
       "</div>"
      ],
      "text/plain": [
       "        date  season  neutral  playoff team1 team2      elo1      elo2  \\\n",
       "0 2007-09-06    2007        0        0   IND    NO  1653.923  1515.973   \n",
       "1 2007-09-09    2007        0        0   WSH   MIA  1448.841  1489.941   \n",
       "2 2007-09-09    2007        0        0   BUF   DEN  1516.684  1558.574   \n",
       "3 2007-09-09    2007        0        0   SEA    TB  1511.936  1417.385   \n",
       "4 2007-09-09    2007        0        0   CLE   PIT  1396.563  1568.569   \n",
       "\n",
       "   elo_prob1  score1  score2  result1  \n",
       "0   0.762833      41      10      1.0  \n",
       "1   0.534341      16      13      1.0  \n",
       "2   0.533209      14      15      0.0  \n",
       "3   0.714726      20       6      1.0  \n",
       "4   0.350697       7      34      0.0  "
      ]
     },
     "execution_count": 4,
     "metadata": {},
     "output_type": "execute_result"
    }
   ],
   "source": [
    "elo_df.head()"
   ]
  },
  {
   "cell_type": "markdown",
   "metadata": {},
   "source": [
    "The entries are by game. We want to calculate the change in a team's Elo ranking score from one week to the next. We will ultimately want to execute a 'shift' to get the before- and after-Elo scores in the same row. But first, we must address the fact that sometimes a team is 'team1' and other times it is 'team2':"
   ]
  },
  {
   "cell_type": "code",
   "execution_count": 5,
   "metadata": {},
   "outputs": [
    {
     "data": {
      "text/html": [
       "<div>\n",
       "<style scoped>\n",
       "    .dataframe tbody tr th:only-of-type {\n",
       "        vertical-align: middle;\n",
       "    }\n",
       "\n",
       "    .dataframe tbody tr th {\n",
       "        vertical-align: top;\n",
       "    }\n",
       "\n",
       "    .dataframe thead th {\n",
       "        text-align: right;\n",
       "    }\n",
       "</style>\n",
       "<table border=\"1\" class=\"dataframe\">\n",
       "  <thead>\n",
       "    <tr style=\"text-align: right;\">\n",
       "      <th></th>\n",
       "      <th>date</th>\n",
       "      <th>team1</th>\n",
       "      <th>team2</th>\n",
       "      <th>elo1</th>\n",
       "      <th>elo2</th>\n",
       "    </tr>\n",
       "  </thead>\n",
       "  <tbody>\n",
       "    <tr>\n",
       "      <th>0</th>\n",
       "      <td>2007-09-06</td>\n",
       "      <td>IND</td>\n",
       "      <td>NO</td>\n",
       "      <td>1653.923</td>\n",
       "      <td>1515.973</td>\n",
       "    </tr>\n",
       "    <tr>\n",
       "      <th>28</th>\n",
       "      <td>2007-09-16</td>\n",
       "      <td>TB</td>\n",
       "      <td>NO</td>\n",
       "      <td>1402.979</td>\n",
       "      <td>1500.922</td>\n",
       "    </tr>\n",
       "    <tr>\n",
       "      <th>47</th>\n",
       "      <td>2007-09-24</td>\n",
       "      <td>NO</td>\n",
       "      <td>TEN</td>\n",
       "      <td>1468.805</td>\n",
       "      <td>1506.098</td>\n",
       "    </tr>\n",
       "    <tr>\n",
       "      <th>74</th>\n",
       "      <td>2007-10-07</td>\n",
       "      <td>NO</td>\n",
       "      <td>CAR</td>\n",
       "      <td>1437.203</td>\n",
       "      <td>1484.207</td>\n",
       "    </tr>\n",
       "    <tr>\n",
       "      <th>85</th>\n",
       "      <td>2007-10-14</td>\n",
       "      <td>SEA</td>\n",
       "      <td>NO</td>\n",
       "      <td>1531.254</td>\n",
       "      <td>1422.503</td>\n",
       "    </tr>\n",
       "  </tbody>\n",
       "</table>\n",
       "</div>"
      ],
      "text/plain": [
       "         date team1 team2      elo1      elo2\n",
       "0  2007-09-06   IND    NO  1653.923  1515.973\n",
       "28 2007-09-16    TB    NO  1402.979  1500.922\n",
       "47 2007-09-24    NO   TEN  1468.805  1506.098\n",
       "74 2007-10-07    NO   CAR  1437.203  1484.207\n",
       "85 2007-10-14   SEA    NO  1531.254  1422.503"
      ]
     },
     "execution_count": 5,
     "metadata": {},
     "output_type": "execute_result"
    }
   ],
   "source": [
    "elo_df[(elo_df['team1'] == 'NO') | (elo_df['team2'] == 'NO')][['date','team1','team2','elo1','elo2']].head()"
   ]
  },
  {
   "cell_type": "markdown",
   "metadata": {},
   "source": [
    "To remedy this, we'll effectively perform two \"self-joins\" of the table. One on team1 and its Elo score and game score, and one on team2"
   ]
  },
  {
   "cell_type": "code",
   "execution_count": 6,
   "metadata": {},
   "outputs": [],
   "source": [
    "elo_append_cols_h = ['date','season','neutral','playoff','team1','elo1','score1']\n",
    "elo_append_cols_a = ['date','season','neutral','playoff','team2','elo2','score2']"
   ]
  },
  {
   "cell_type": "code",
   "execution_count": 7,
   "metadata": {},
   "outputs": [],
   "source": [
    "elo_df_h = elo_df[elo_append_cols_h]\n",
    "elo_df_a = elo_df[elo_append_cols_a]"
   ]
  },
  {
   "cell_type": "code",
   "execution_count": 8,
   "metadata": {},
   "outputs": [],
   "source": [
    "elo_df_h = elo_df_h.rename(columns={'elo1':'elo', 'team1':'team','score1':'score'})\n",
    "elo_df_a = elo_df_a.rename(columns={'elo2':'elo', 'team2':'team','score2':'score'})"
   ]
  },
  {
   "cell_type": "markdown",
   "metadata": {},
   "source": [
    "Here is what one half of the self-joined dataframes looks like. It contains only the data for team 1. The other dataframe, as you can guess, contains only the data for team2."
   ]
  },
  {
   "cell_type": "code",
   "execution_count": 9,
   "metadata": {},
   "outputs": [
    {
     "data": {
      "text/html": [
       "<div>\n",
       "<style scoped>\n",
       "    .dataframe tbody tr th:only-of-type {\n",
       "        vertical-align: middle;\n",
       "    }\n",
       "\n",
       "    .dataframe tbody tr th {\n",
       "        vertical-align: top;\n",
       "    }\n",
       "\n",
       "    .dataframe thead th {\n",
       "        text-align: right;\n",
       "    }\n",
       "</style>\n",
       "<table border=\"1\" class=\"dataframe\">\n",
       "  <thead>\n",
       "    <tr style=\"text-align: right;\">\n",
       "      <th></th>\n",
       "      <th>date</th>\n",
       "      <th>season</th>\n",
       "      <th>neutral</th>\n",
       "      <th>playoff</th>\n",
       "      <th>team</th>\n",
       "      <th>elo</th>\n",
       "      <th>score</th>\n",
       "    </tr>\n",
       "  </thead>\n",
       "  <tbody>\n",
       "    <tr>\n",
       "      <th>0</th>\n",
       "      <td>2007-09-06</td>\n",
       "      <td>2007</td>\n",
       "      <td>0</td>\n",
       "      <td>0</td>\n",
       "      <td>IND</td>\n",
       "      <td>1653.923</td>\n",
       "      <td>41</td>\n",
       "    </tr>\n",
       "    <tr>\n",
       "      <th>1</th>\n",
       "      <td>2007-09-09</td>\n",
       "      <td>2007</td>\n",
       "      <td>0</td>\n",
       "      <td>0</td>\n",
       "      <td>WSH</td>\n",
       "      <td>1448.841</td>\n",
       "      <td>16</td>\n",
       "    </tr>\n",
       "    <tr>\n",
       "      <th>2</th>\n",
       "      <td>2007-09-09</td>\n",
       "      <td>2007</td>\n",
       "      <td>0</td>\n",
       "      <td>0</td>\n",
       "      <td>BUF</td>\n",
       "      <td>1516.684</td>\n",
       "      <td>14</td>\n",
       "    </tr>\n",
       "    <tr>\n",
       "      <th>3</th>\n",
       "      <td>2007-09-09</td>\n",
       "      <td>2007</td>\n",
       "      <td>0</td>\n",
       "      <td>0</td>\n",
       "      <td>SEA</td>\n",
       "      <td>1511.936</td>\n",
       "      <td>20</td>\n",
       "    </tr>\n",
       "    <tr>\n",
       "      <th>4</th>\n",
       "      <td>2007-09-09</td>\n",
       "      <td>2007</td>\n",
       "      <td>0</td>\n",
       "      <td>0</td>\n",
       "      <td>CLE</td>\n",
       "      <td>1396.563</td>\n",
       "      <td>7</td>\n",
       "    </tr>\n",
       "  </tbody>\n",
       "</table>\n",
       "</div>"
      ],
      "text/plain": [
       "        date  season  neutral  playoff team       elo  score\n",
       "0 2007-09-06    2007        0        0  IND  1653.923     41\n",
       "1 2007-09-09    2007        0        0  WSH  1448.841     16\n",
       "2 2007-09-09    2007        0        0  BUF  1516.684     14\n",
       "3 2007-09-09    2007        0        0  SEA  1511.936     20\n",
       "4 2007-09-09    2007        0        0  CLE  1396.563      7"
      ]
     },
     "execution_count": 9,
     "metadata": {},
     "output_type": "execute_result"
    }
   ],
   "source": [
    "elo_df_h.head()"
   ]
  },
  {
   "cell_type": "markdown",
   "metadata": {},
   "source": [
    "We append one df to the other, sort by date, and then apply a shift:"
   ]
  },
  {
   "cell_type": "code",
   "execution_count": 10,
   "metadata": {},
   "outputs": [],
   "source": [
    "elo_df_flat = elo_df_h.append(elo_df_a, ignore_index=True)\n",
    "\n",
    "elo_df_flat.sort_values('date', inplace=True)\n",
    "elo_df_flat.reset_index(inplace=True, drop=True)\n",
    "\n",
    "elo_df_flat['elo_after'] = elo_df_flat.groupby('team')['elo'].shift(-1)\n",
    "elo_df_flat['elo_delta'] = elo_df_flat['elo_after'] - elo_df_flat['elo']"
   ]
  },
  {
   "cell_type": "markdown",
   "metadata": {},
   "source": [
    "Recall from our glimpses above that IND played NO in the first game. Their elo_delta's should sum to 0, and they do:"
   ]
  },
  {
   "cell_type": "code",
   "execution_count": 13,
   "metadata": {},
   "outputs": [
    {
     "data": {
      "text/html": [
       "<div>\n",
       "<style scoped>\n",
       "    .dataframe tbody tr th:only-of-type {\n",
       "        vertical-align: middle;\n",
       "    }\n",
       "\n",
       "    .dataframe tbody tr th {\n",
       "        vertical-align: top;\n",
       "    }\n",
       "\n",
       "    .dataframe thead th {\n",
       "        text-align: right;\n",
       "    }\n",
       "</style>\n",
       "<table border=\"1\" class=\"dataframe\">\n",
       "  <thead>\n",
       "    <tr style=\"text-align: right;\">\n",
       "      <th></th>\n",
       "      <th>date</th>\n",
       "      <th>season</th>\n",
       "      <th>neutral</th>\n",
       "      <th>playoff</th>\n",
       "      <th>team</th>\n",
       "      <th>elo</th>\n",
       "      <th>score</th>\n",
       "      <th>elo_after</th>\n",
       "      <th>elo_delta</th>\n",
       "    </tr>\n",
       "  </thead>\n",
       "  <tbody>\n",
       "    <tr>\n",
       "      <th>0</th>\n",
       "      <td>2007-09-06</td>\n",
       "      <td>2007</td>\n",
       "      <td>0</td>\n",
       "      <td>0</td>\n",
       "      <td>IND</td>\n",
       "      <td>1653.923</td>\n",
       "      <td>41</td>\n",
       "      <td>1668.974</td>\n",
       "      <td>15.051</td>\n",
       "    </tr>\n",
       "    <tr>\n",
       "      <th>1</th>\n",
       "      <td>2007-09-06</td>\n",
       "      <td>2007</td>\n",
       "      <td>0</td>\n",
       "      <td>0</td>\n",
       "      <td>NO</td>\n",
       "      <td>1515.973</td>\n",
       "      <td>10</td>\n",
       "      <td>1500.922</td>\n",
       "      <td>-15.051</td>\n",
       "    </tr>\n",
       "  </tbody>\n",
       "</table>\n",
       "</div>"
      ],
      "text/plain": [
       "        date  season  neutral  playoff team       elo  score  elo_after  \\\n",
       "0 2007-09-06    2007        0        0  IND  1653.923     41   1668.974   \n",
       "1 2007-09-06    2007        0        0   NO  1515.973     10   1500.922   \n",
       "\n",
       "   elo_delta  \n",
       "0     15.051  \n",
       "1    -15.051  "
      ]
     },
     "execution_count": 13,
     "metadata": {},
     "output_type": "execute_result"
    }
   ],
   "source": [
    "elo_df_flat.head(2)"
   ]
  },
  {
   "cell_type": "markdown",
   "metadata": {},
   "source": [
    "Now, we merge back with the original dataframe on date & team = team1, merging only 'elo_delta'."
   ]
  },
  {
   "cell_type": "code",
   "execution_count": 14,
   "metadata": {},
   "outputs": [],
   "source": [
    "elo_df_flat_for_merge = elo_df_flat[['date','team','elo_delta']]\n",
    "\n",
    "elo_df = pd.merge(elo_df, elo_df_flat_for_merge, left_on=['date','team1'], right_on=['date','team'])\n",
    "\n",
    "elo_df.drop(columns='team', inplace=True)\n",
    "elo_df.rename(columns={'elo_delta':'elo_delta1'}, inplace=True)"
   ]
  },
  {
   "cell_type": "code",
   "execution_count": 15,
   "metadata": {},
   "outputs": [
    {
     "data": {
      "text/html": [
       "<div>\n",
       "<style scoped>\n",
       "    .dataframe tbody tr th:only-of-type {\n",
       "        vertical-align: middle;\n",
       "    }\n",
       "\n",
       "    .dataframe tbody tr th {\n",
       "        vertical-align: top;\n",
       "    }\n",
       "\n",
       "    .dataframe thead th {\n",
       "        text-align: right;\n",
       "    }\n",
       "</style>\n",
       "<table border=\"1\" class=\"dataframe\">\n",
       "  <thead>\n",
       "    <tr style=\"text-align: right;\">\n",
       "      <th></th>\n",
       "      <th>date</th>\n",
       "      <th>season</th>\n",
       "      <th>neutral</th>\n",
       "      <th>playoff</th>\n",
       "      <th>team1</th>\n",
       "      <th>team2</th>\n",
       "      <th>elo1</th>\n",
       "      <th>elo2</th>\n",
       "      <th>elo_prob1</th>\n",
       "      <th>score1</th>\n",
       "      <th>score2</th>\n",
       "      <th>result1</th>\n",
       "      <th>elo_delta1</th>\n",
       "    </tr>\n",
       "  </thead>\n",
       "  <tbody>\n",
       "    <tr>\n",
       "      <th>0</th>\n",
       "      <td>2007-09-06</td>\n",
       "      <td>2007</td>\n",
       "      <td>0</td>\n",
       "      <td>0</td>\n",
       "      <td>IND</td>\n",
       "      <td>NO</td>\n",
       "      <td>1653.923</td>\n",
       "      <td>1515.973</td>\n",
       "      <td>0.762833</td>\n",
       "      <td>41</td>\n",
       "      <td>10</td>\n",
       "      <td>1.0</td>\n",
       "      <td>15.051</td>\n",
       "    </tr>\n",
       "    <tr>\n",
       "      <th>1</th>\n",
       "      <td>2007-09-09</td>\n",
       "      <td>2007</td>\n",
       "      <td>0</td>\n",
       "      <td>0</td>\n",
       "      <td>WSH</td>\n",
       "      <td>MIA</td>\n",
       "      <td>1448.841</td>\n",
       "      <td>1489.941</td>\n",
       "      <td>0.534341</td>\n",
       "      <td>16</td>\n",
       "      <td>13</td>\n",
       "      <td>1.0</td>\n",
       "      <td>12.772</td>\n",
       "    </tr>\n",
       "    <tr>\n",
       "      <th>2</th>\n",
       "      <td>2007-09-09</td>\n",
       "      <td>2007</td>\n",
       "      <td>0</td>\n",
       "      <td>0</td>\n",
       "      <td>BUF</td>\n",
       "      <td>DEN</td>\n",
       "      <td>1516.684</td>\n",
       "      <td>1558.574</td>\n",
       "      <td>0.533209</td>\n",
       "      <td>14</td>\n",
       "      <td>15</td>\n",
       "      <td>0.0</td>\n",
       "      <td>-7.471</td>\n",
       "    </tr>\n",
       "    <tr>\n",
       "      <th>3</th>\n",
       "      <td>2007-09-09</td>\n",
       "      <td>2007</td>\n",
       "      <td>0</td>\n",
       "      <td>0</td>\n",
       "      <td>SEA</td>\n",
       "      <td>TB</td>\n",
       "      <td>1511.936</td>\n",
       "      <td>1417.385</td>\n",
       "      <td>0.714726</td>\n",
       "      <td>20</td>\n",
       "      <td>6</td>\n",
       "      <td>1.0</td>\n",
       "      <td>14.406</td>\n",
       "    </tr>\n",
       "    <tr>\n",
       "      <th>4</th>\n",
       "      <td>2007-09-09</td>\n",
       "      <td>2007</td>\n",
       "      <td>0</td>\n",
       "      <td>0</td>\n",
       "      <td>CLE</td>\n",
       "      <td>PIT</td>\n",
       "      <td>1396.563</td>\n",
       "      <td>1568.569</td>\n",
       "      <td>0.350697</td>\n",
       "      <td>7</td>\n",
       "      <td>34</td>\n",
       "      <td>0.0</td>\n",
       "      <td>-22.287</td>\n",
       "    </tr>\n",
       "  </tbody>\n",
       "</table>\n",
       "</div>"
      ],
      "text/plain": [
       "        date  season  neutral  playoff team1 team2      elo1      elo2  \\\n",
       "0 2007-09-06    2007        0        0   IND    NO  1653.923  1515.973   \n",
       "1 2007-09-09    2007        0        0   WSH   MIA  1448.841  1489.941   \n",
       "2 2007-09-09    2007        0        0   BUF   DEN  1516.684  1558.574   \n",
       "3 2007-09-09    2007        0        0   SEA    TB  1511.936  1417.385   \n",
       "4 2007-09-09    2007        0        0   CLE   PIT  1396.563  1568.569   \n",
       "\n",
       "   elo_prob1  score1  score2  result1  elo_delta1  \n",
       "0   0.762833      41      10      1.0      15.051  \n",
       "1   0.534341      16      13      1.0      12.772  \n",
       "2   0.533209      14      15      0.0      -7.471  \n",
       "3   0.714726      20       6      1.0      14.406  \n",
       "4   0.350697       7      34      0.0     -22.287  "
      ]
     },
     "execution_count": 15,
     "metadata": {},
     "output_type": "execute_result"
    }
   ],
   "source": [
    "elo_df.head()"
   ]
  },
  {
   "cell_type": "markdown",
   "metadata": {},
   "source": [
    "Voila! $\\Delta$Elo's for a given game, computed from the next week's Elo Ranking for the teams involved."
   ]
  }
 ],
 "metadata": {
  "kernelspec": {
   "display_name": "Python 3",
   "language": "python",
   "name": "python3"
  },
  "language_info": {
   "codemirror_mode": {
    "name": "ipython",
    "version": 3
   },
   "file_extension": ".py",
   "mimetype": "text/x-python",
   "name": "python",
   "nbconvert_exporter": "python",
   "pygments_lexer": "ipython3",
   "version": "3.6.6"
  }
 },
 "nbformat": 4,
 "nbformat_minor": 2
}
