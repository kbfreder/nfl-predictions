{
 "cells": [
  {
   "cell_type": "code",
   "execution_count": 1,
   "metadata": {},
   "outputs": [],
   "source": [
    "import requests\n",
    "# from bs4 import BeautifulSoup\n",
    "import pandas as pd\n",
    "import re\n",
    "import time\n",
    "import os\n",
    "import pickle\n",
    "import time\n",
    "\n",
    "from selenium.webdriver.common.desired_capabilities import DesiredCapabilities\n",
    "from selenium import webdriver\n",
    "from selenium.webdriver.common.keys import Keys\n",
    "from selenium.common.exceptions import NoSuchElementException\n",
    "from collections import defaultdict\n",
    "\n",
    "import pipeline as p\n",
    "\n",
    "%load_ext autoreload\n",
    "%autoreload 2\n",
    "\n",
    "import datetime as dt"
   ]
  },
  {
   "cell_type": "code",
   "execution_count": 2,
   "metadata": {},
   "outputs": [],
   "source": [
    "caps = DesiredCapabilities().CHROME\n",
    "caps[\"pageLoadStrategy\"] = \"none\"\n",
    "\n",
    "pd.set_eng_float_format(accuracy=1, use_eng_prefix=True)\n",
    "\n",
    "chromedriver = \"/Users/kendra/Applications/chromedriver\" # path to the chromedriver executable\n",
    "os.environ[\"webdriver.chrome.driver\"] = chromedriver\n",
    "\n",
    "url_base = 'https://www.pro-football-reference.com'"
   ]
  },
  {
   "cell_type": "markdown",
   "metadata": {},
   "source": [
    "### Define year"
   ]
  },
  {
   "cell_type": "code",
   "execution_count": 3,
   "metadata": {},
   "outputs": [],
   "source": [
    "year = 2018"
   ]
  },
  {
   "cell_type": "markdown",
   "metadata": {},
   "source": [
    "### Load existing data"
   ]
  },
  {
   "cell_type": "code",
   "execution_count": 18,
   "metadata": {},
   "outputs": [],
   "source": [
    "team_dict = p.open_pkl('TeamDicts/team_dictionary.pkl')\n",
    "\n",
    "# may need to start from scratch -- sometimes boxscore hrefs change during season\n",
    "#     bxsc_html = defaultdict(list)    # [href] = html -- also tracks whether a bxsc href has been visited\n",
    "bxsc_html = p.open_pkl(f'Data/BxscHtmls/bxsc_html_{str(year)}.pkl')"
   ]
  },
  {
   "cell_type": "markdown",
   "metadata": {},
   "source": [
    "### Update data"
   ]
  },
  {
   "cell_type": "code",
   "execution_count": 54,
   "metadata": {},
   "outputs": [
    {
     "name": "stdout",
     "output_type": "stream",
     "text": [
      "Loading page for nwe 2018\n",
      "Page loaded & data found!\n",
      "Loading page for tam 2018\n",
      "Page loaded & data found!\n",
      "Loading page for chi 2018\n",
      "Page loaded & data found!\n",
      "Skipping page https://www.pro-football-reference.com/boxscores/201901060chi.htm\n",
      "Loading page for sfo 2018\n",
      "Page loaded & data found!\n",
      "Loading page for htx 2018\n",
      "Page loaded & data found!\n",
      "Skipping page https://www.pro-football-reference.com/boxscores/201901050htx.htm\n",
      "Loading page for rai 2018\n",
      "Page loaded & data found!\n",
      "Loading page for nyg 2018\n",
      "Page loaded & data found!\n",
      "Loading page for kan 2018\n",
      "Page loaded & data found!\n",
      "Loading page for nor 2018\n",
      "Page loaded & data found!\n",
      "Loading page for crd 2018\n",
      "Page loaded & data found!\n",
      "Loading page for rav 2018\n",
      "Page loaded & data found!\n",
      "Skipping page https://www.pro-football-reference.com/boxscores/201901060rav.htm\n",
      "Loading page for det 2018\n",
      "Page loaded & data found!\n",
      "Loading page for car 2018\n",
      "Page loaded & data found!\n",
      "Loading page for sea 2018\n",
      "Page loaded & data found!\n",
      "Skipping page https://www.pro-football-reference.com/boxscores/201901050dal.htm\n",
      "Loading page for phi 2018\n",
      "Page loaded & data found!\n",
      "Loading page for nyj 2018\n",
      "Page loaded & data found!\n",
      "Loading page for den 2018\n",
      "Page loaded & data found!\n",
      "Loading page for min 2018\n",
      "Page loaded & data found!\n",
      "Loading page for gnb 2018\n",
      "Page loaded & data found!\n",
      "Loading page for sdg 2018\n",
      "Page loaded & data found!\n",
      "Loading page for atl 2018\n",
      "Page loaded & data found!\n",
      "Loading page for clt 2018\n",
      "Page loaded & data found!\n",
      "Loading page for cin 2018\n",
      "Page loaded & data found!\n",
      "Loading page for cle 2018\n",
      "Page loaded & data found!\n",
      "Loading page for dal 2018\n",
      "Page loaded & data found!\n",
      "Loading page for buf 2018\n",
      "Page loaded & data found!\n",
      "Loading page for mia 2018\n",
      "Page loaded & data found!\n",
      "Loading page for was 2018\n",
      "Page loaded & data found!\n",
      "Loading page for pit 2018\n",
      "Page loaded & data found!\n",
      "Loading page for ram 2018\n",
      "Page loaded & data found!\n",
      "Loading page for jax 2018\n",
      "Page loaded & data found!\n",
      "Loading page for oti 2018\n",
      "Page loaded & data found!\n",
      "Done\n"
     ]
    }
   ],
   "source": [
    "# Season Data from Team-Year webpages\n",
    "\n",
    "driver = webdriver.Chrome(chromedriver, desired_capabilities=caps)\n",
    "\n",
    "season_html = {}  \n",
    "bxsc_refs = {}                   # [team-year] = list of hrefs for boxscores\n",
    "\n",
    "for tm_list in team_dict.values():\n",
    "    team, url = tm_list[1], tm_list[2]\n",
    "    tm_yr = team +'-' + str(year)\n",
    "\n",
    "    # get html of season data table\n",
    "    html = p.get_season_data(url, year, driver)\n",
    "\n",
    "    # if successfully returned data:\n",
    "    if html:\n",
    "        # add html to season_html dictionary\n",
    "        season_html[tm_yr] = html\n",
    "        \n",
    "        # generate list of individaul game boxscore URLs, add them to bxsc_refs dictionary\n",
    "        href_list = p.get_href_list(html)\n",
    "        bxsc_refs[tm_yr] = href_list\n",
    "\n",
    "        # get & add bxsc html's to bxsc_html dict\n",
    "        for a in href_list:\n",
    "            href = a.attrs['href']\n",
    "            if href not in bxsc_html.keys():\n",
    "                bxsc_html[href] = p.get_bxsc_data(href, driver)\n",
    "\n",
    "\n",
    "driver.close()\n",
    "\n",
    "print('Done')\n",
    "\n",
    "p.pkl_this(f'Data/season_html_{str(year)}.pkl', season_html)\n",
    "p.pkl_this(f'Data/bxsc_html_{str(year)}.pkl', bxsc_html)"
   ]
  },
  {
   "cell_type": "code",
   "execution_count": 57,
   "metadata": {},
   "outputs": [],
   "source": [
    "p.pkl_this(f'Data/season_html_{str(year)}.pkl', season_html)\n",
    "p.pkl_this(f'Data/bxsc_html_{str(year)}.pkl', bxsc_html)"
   ]
  },
  {
   "cell_type": "code",
   "execution_count": 90,
   "metadata": {},
   "outputs": [
    {
     "name": "stdout",
     "output_type": "stream",
     "text": [
      "Updating /boxscores/201812090rai.htm\n",
      "Updating /boxscores/201811040rav.htm\n",
      "Updating /boxscores/201810140dal.htm\n",
      "Updating /boxscores/201811080pit.htm\n",
      "Updating /boxscores/201811250buf.htm\n",
      "Updating /boxscores/201810140nyj.htm\n",
      "Updating /boxscores/201810210nyj.htm\n",
      "Updating /boxscores/201811040buf.htm\n",
      "Updating /boxscores/201811110rai.htm\n",
      "Updating /boxscores/201811180clt.htm\n",
      "Updating /boxscores/201811040nwe.htm\n",
      "Updating /boxscores/201811180atl.htm\n",
      "Updating /boxscores/201811180chi.htm\n",
      "Updating /boxscores/201812160buf.htm\n",
      "Updating /boxscores/201812240rai.htm\n",
      "Updating /boxscores/201812020atl.htm\n",
      "Updating /boxscores/201812300nwe.htm\n",
      "Updating /boxscores/201812020oti.htm\n",
      "Updating /boxscores/201811180sdg.htm\n",
      "Updating /boxscores/201810210kan.htm\n",
      "Updating /boxscores/201811040min.htm\n",
      "Updating /boxscores/201811250phi.htm\n",
      "Updating /boxscores/201810280pit.htm\n",
      "Updating /boxscores/201810250htx.htm\n",
      "Updating /boxscores/201810280jax.htm\n",
      "Updating /boxscores/201811110cle.htm\n",
      "Updating /boxscores/201812160ram.htm\n",
      "Updating /boxscores/201812160clt.htm\n",
      "Updating /boxscores/201812230car.htm\n",
      "Updating /boxscores/201812230nyj.htm\n",
      "Updating /boxscores/201811250clt.htm\n",
      "Updating /boxscores/201812230sdg.htm\n",
      "Skipping page https://www.pro-football-reference.com/boxscores/201812230sdg.htm\n",
      "Updating /boxscores/201812090htx.htm\n",
      "Updating /boxscores/201810280det.htm\n",
      "Updating /boxscores/201812160sfo.htm\n",
      "Updating /boxscores/201811110cin.htm\n",
      "Updating /boxscores/201811180det.htm\n",
      "Updating /boxscores/201810140den.htm\n",
      "Updating /boxscores/201810140cin.htm\n",
      "Updating /boxscores/201812230oti.htm\n",
      "Skipping page https://www.pro-football-reference.com/boxscores/201812230oti.htm\n",
      "Updating /boxscores/201810140nwe.htm\n",
      "Updating /boxscores/201811190ram.htm\n",
      "Updating /boxscores/201812230cle.htm\n",
      "Updating /boxscores/201810210phi.htm\n",
      "Updating /boxscores/201811250cin.htm\n",
      "Updating /boxscores/201812160rav.htm\n",
      "Updating /boxscores/201812230phi.htm\n",
      "Updating /boxscores/201812160pit.htm\n",
      "Updating /boxscores/201810280crd.htm\n",
      "Updating /boxscores/201810290buf.htm\n",
      "Updating /boxscores/201812230clt.htm\n",
      "Updating /boxscores/201812160min.htm\n",
      "Updating /boxscores/201812020tam.htm\n",
      "Updating /boxscores/201812300ram.htm\n",
      "Updating /boxscores/201810210chi.htm\n",
      "Updating /boxscores/201812020pit.htm\n",
      "Updating /boxscores/201812300was.htm\n",
      "Updating /boxscores/201811290dal.htm\n",
      "Updating /boxscores/201812020mia.htm\n",
      "Updating /boxscores/201812230nwe.htm\n",
      "Updating /boxscores/201810180crd.htm\n",
      "Updating /boxscores/201812090was.htm\n",
      "Updating /boxscores/201811110kan.htm\n",
      "Updating /boxscores/201812130kan.htm\n",
      "Updating /boxscores/201812090buf.htm\n",
      "Updating /boxscores/201812300pit.htm\n",
      "Updating /boxscores/201811110chi.htm\n",
      "Updating /boxscores/201810210was.htm\n",
      "Updating /boxscores/201812300oti.htm\n",
      "Updating /boxscores/201812020htx.htm\n",
      "Updating /boxscores/201812030phi.htm\n",
      "Updating /boxscores/201810150gnb.htm\n",
      "Updating /boxscores/201811050dal.htm\n",
      "Updating /boxscores/201811040car.htm\n",
      "Updating /boxscores/201811220dal.htm\n",
      "Updating /boxscores/201811250rav.htm\n",
      "Updating /boxscores/201810280kan.htm\n",
      "Updating /boxscores/201810140atl.htm\n",
      "Updating /boxscores/201811110ram.htm\n",
      "Updating /boxscores/201810210clt.htm\n",
      "Updating /boxscores/201812020nwe.htm\n",
      "Updating /boxscores/201812230crd.htm\n",
      "Updating /boxscores/201812300nyg.htm\n",
      "Updating /boxscores/201812020sea.htm\n",
      "Updating /boxscores/201811180crd.htm\n",
      "Updating /boxscores/201811040cle.htm\n",
      "Updating /boxscores/201810280rai.htm\n",
      "Updating /boxscores/201811180nor.htm\n",
      "Updating /boxscores/201812300kan.htm\n",
      "Updating /boxscores/201810280nyg.htm\n",
      "Updating /boxscores/201810210tam.htm\n",
      "Updating /boxscores/201812300min.htm\n",
      "Updating /boxscores/201811220det.htm\n",
      "Updating /boxscores/201811250nyj.htm\n",
      "Updating /boxscores/201812020nyg.htm\n",
      "Updating /boxscores/201810280car.htm\n",
      "Updating /boxscores/201810140was.htm\n",
      "Updating /boxscores/201811040den.htm\n",
      "Updating /boxscores/201811110phi.htm\n",
      "Updating /boxscores/201812090kan.htm\n",
      "Updating /boxscores/201812090dal.htm\n",
      "Updating /boxscores/201811110gnb.htm\n",
      "Updating /boxscores/201812170car.htm\n",
      "Updating /boxscores/201812150nyj.htm\n",
      "Updating /boxscores/201811260htx.htm\n",
      "Updating /boxscores/201812090crd.htm\n",
      "Updating /boxscores/201811040mia.htm\n",
      "Updating /boxscores/201810280min.htm\n",
      "Updating /boxscores/201812230sea.htm\n",
      "Updating /boxscores/201810210jax.htm\n",
      "Updating /boxscores/201811110oti.htm\n",
      "Updating /boxscores/201812300buf.htm\n",
      "Updating /boxscores/201811180nyg.htm\n",
      "Updating /boxscores/201812150den.htm\n",
      "Updating /boxscores/201811120sfo.htm\n",
      "Updating /boxscores/201812020gnb.htm\n",
      "Updating /boxscores/201810210mia.htm\n",
      "Updating /boxscores/201810210rav.htm\n",
      "Updating /boxscores/201812300den.htm\n",
      "Updating /boxscores/201811010sfo.htm\n",
      "Updating /boxscores/201811250tam.htm\n",
      "Updating /boxscores/201811150sea.htm\n",
      "Updating /boxscores/201812090tam.htm\n",
      "Updating /boxscores/201812160atl.htm\n",
      "Updating /boxscores/201810140min.htm\n",
      "Updating /boxscores/201812300nor.htm\n",
      "Updating /boxscores/201811180jax.htm\n",
      "Updating /boxscores/201812300rav.htm\n",
      "Updating /boxscores/201811180rav.htm\n",
      "Updating /boxscores/201811040sea.htm\n",
      "Updating /boxscores/201810280ram.htm\n",
      "Updating /boxscores/201812230det.htm\n",
      "Updating /boxscores/201812230nor.htm\n",
      "Updating /boxscores/201812160cin.htm\n",
      "Updating /boxscores/201812020cin.htm\n",
      "Updating /boxscores/201810210sdg.htm\n",
      "Updating /boxscores/201811250sdg.htm\n",
      "Updating /boxscores/201812300sea.htm\n",
      "Updating /boxscores/201811110nyj.htm\n",
      "Updating /boxscores/201810280chi.htm\n",
      "Updating /boxscores/201810140mia.htm\n",
      "Updating /boxscores/201812160chi.htm\n",
      "Updating /boxscores/201812020jax.htm\n",
      "Updating /boxscores/201810210sfo.htm\n",
      "Updating /boxscores/201810140oti.htm\n",
      "Updating /boxscores/201812230sfo.htm\n",
      "Updating /boxscores/201812230dal.htm\n",
      "Updating /boxscores/201812160jax.htm\n",
      "Updating /boxscores/201810220atl.htm\n",
      "Updating /boxscores/201812300htx.htm\n",
      "Updating /boxscores/201811250den.htm\n",
      "Updating /boxscores/201812090chi.htm\n",
      "Updating /boxscores/201812060oti.htm\n",
      "Updating /boxscores/201812300gnb.htm\n",
      "Updating /boxscores/201812090gnb.htm\n",
      "Updating /boxscores/201810140htx.htm\n",
      "Updating /boxscores/201812090sdg.htm\n",
      "Updating /boxscores/201811110tam.htm\n",
      "Updating /boxscores/201811110clt.htm\n",
      "Updating /boxscores/201812100sea.htm\n",
      "Updating /boxscores/201812300tam.htm\n",
      "Updating /boxscores/201812090cle.htm\n",
      "Updating /boxscores/201812020rai.htm\n",
      "Updating /boxscores/201811040nor.htm\n",
      "Updating /boxscores/201810280cin.htm\n",
      "Updating /boxscores/201811250min.htm\n",
      "Updating /boxscores/201811250car.htm\n",
      "Updating /boxscores/201812230mia.htm\n",
      "Updating /boxscores/201812090mia.htm\n",
      "Updating /boxscores/201812090sfo.htm\n",
      "Updating /boxscores/201810140rai.htm\n",
      "Updating /boxscores/201810140cle.htm\n",
      "Updating /boxscores/201812160nyg.htm\n",
      "Updating /boxscores/201811220nor.htm\n",
      "Updating /boxscores/201812020det.htm\n",
      "Updating /boxscores/201811040was.htm\n",
      "Updating /boxscores/201811180was.htm\n"
     ]
    }
   ],
   "source": [
    "# to update Game Data from Boxscores webpages separately\n",
    "\n",
    "if 1 == 1:\n",
    "    driver = webdriver.Chrome(chromedriver, desired_capabilities=caps)\n",
    "\n",
    "    for href, html in bxsc_html.items():\n",
    "        if html == None:\n",
    "            print('Updating ' + href)\n",
    "            bxsc_html[href] = p.get_bxsc_data(href, driver)\n",
    "    \n",
    "    print('Done')\n",
    "    driver.close()\n",
    "\n",
    "    p.pkl_this(f'Data/bxsc_html_{str(year)}.pkl', bxsc_html)"
   ]
  },
  {
   "cell_type": "code",
   "execution_count": 91,
   "metadata": {},
   "outputs": [],
   "source": [
    "# to clean up bxsc_html\n",
    "\n",
    "if 1 == 1:\n",
    "    del_list = []\n",
    "    for href, html in bxsc_html.items():\n",
    "        if html == None:\n",
    "            del_list.append(href)\n",
    "    "
   ]
  },
  {
   "cell_type": "code",
   "execution_count": 92,
   "metadata": {},
   "outputs": [
    {
     "data": {
      "text/plain": [
       "['/boxscores/201812230sdg.htm', '/boxscores/201812230oti.htm']"
      ]
     },
     "execution_count": 92,
     "metadata": {},
     "output_type": "execute_result"
    }
   ],
   "source": [
    "del_list"
   ]
  },
  {
   "cell_type": "code",
   "execution_count": 93,
   "metadata": {},
   "outputs": [],
   "source": [
    "for href in del_list:\n",
    "    del bxsc_html[href]"
   ]
  },
  {
   "cell_type": "code",
   "execution_count": 94,
   "metadata": {},
   "outputs": [
    {
     "data": {
      "text/plain": [
       "254"
      ]
     },
     "execution_count": 94,
     "metadata": {},
     "output_type": "execute_result"
    }
   ],
   "source": [
    "len(bxsc_html)"
   ]
  },
  {
   "cell_type": "code",
   "execution_count": 95,
   "metadata": {},
   "outputs": [],
   "source": [
    "p.pkl_this(f'Data/bxsc_html_{str(year)}.pkl', bxsc_html)"
   ]
  },
  {
   "cell_type": "markdown",
   "metadata": {},
   "source": [
    "#### Fix these:"
   ]
  },
  {
   "cell_type": "code",
   "execution_count": 97,
   "metadata": {},
   "outputs": [],
   "source": [
    "driver = webdriver.Chrome(chromedriver, desired_capabilities=caps)"
   ]
  },
  {
   "cell_type": "code",
   "execution_count": 98,
   "metadata": {},
   "outputs": [],
   "source": [
    "href = '/boxscores/201812220sdg.htm'\n",
    "bxsc_html[href] = p.get_bxsc_data(href, driver)"
   ]
  },
  {
   "cell_type": "code",
   "execution_count": 99,
   "metadata": {},
   "outputs": [],
   "source": [
    "# driver = webdriver.Chrome(chromedriver, desired_capabilities=caps)\n",
    "href = '/boxscores/201812220oti.htm'\n",
    "bxsc_html[href] = p.get_bxsc_data(href, driver)"
   ]
  },
  {
   "cell_type": "code",
   "execution_count": 100,
   "metadata": {},
   "outputs": [
    {
     "data": {
      "text/plain": [
       "256"
      ]
     },
     "execution_count": 100,
     "metadata": {},
     "output_type": "execute_result"
    }
   ],
   "source": [
    "len(bxsc_html)"
   ]
  },
  {
   "cell_type": "code",
   "execution_count": 101,
   "metadata": {},
   "outputs": [],
   "source": [
    "p.pkl_this(f'Data/bxsc_html_{str(year)}.pkl', bxsc_html)"
   ]
  },
  {
   "cell_type": "code",
   "execution_count": 102,
   "metadata": {},
   "outputs": [],
   "source": [
    "driver.close()"
   ]
  },
  {
   "cell_type": "markdown",
   "metadata": {},
   "source": [
    "### Clean Season Data"
   ]
  },
  {
   "cell_type": "code",
   "execution_count": 58,
   "metadata": {},
   "outputs": [
    {
     "name": "stderr",
     "output_type": "stream",
     "text": [
      "/Users/kendra/anaconda3/lib/python3.6/site-packages/dateutil/parser/_parser.py:1204: UnknownTimezoneWarning: tzname ET identified but not understood.  Pass `tzinfos` argument in order to correctly return a timezone-aware datetime.  In a future version, this will raise an exception.\n",
      "  category=UnknownTimezoneWarning)\n"
     ]
    },
    {
     "name": "stdout",
     "output_type": "stream",
     "text": [
      "Done\n"
     ]
    }
   ],
   "source": [
    "url_team_dict = p.open_pkl('TeamDicts/url_team_dict.pkl')\n",
    "file_dir = 'Data/SeasonHtmls/'\n",
    "# os.chdir('Data/SeasonHtmls/')\n",
    "# count = 0\n",
    "\n",
    "master_df = pd.DataFrame()\n",
    "merge_dict = defaultdict(list)\n",
    "\n",
    "# for f in os.listdir():\n",
    "for f in os.listdir(file_dir):\n",
    "    \n",
    "    if f[0] != '.' and int(f[4:8]) == year:\n",
    "        team = url_team_dict[f[:3].lower()][2]\n",
    "\n",
    "        if team not in merge_dict[year]:\n",
    "#             print('Processing ' + team, year)\n",
    "            html = p.open_pkl(file_dir + f)\n",
    "            try:\n",
    "                # covert to df & clean \n",
    "                df = p.clean_season_data(html, team, year)\n",
    "\n",
    "                # append to master df\n",
    "                master_df = master_df.append(df, ignore_index=True, sort=True)\n",
    "\n",
    "                # add entry to tsdf_merge_track\n",
    "                merge_dict[year].append(team)\n",
    "\n",
    "            except ValueError as e: \n",
    "                print('Error cleaning ' + team, year, e)\n",
    "                p.log_this('Error cleaning ' + team, year, e)\n",
    "\n",
    "\n",
    "print('Done')   "
   ]
  },
  {
   "cell_type": "code",
   "execution_count": 103,
   "metadata": {},
   "outputs": [
    {
     "data": {
      "text/html": [
       "<div>\n",
       "<style scoped>\n",
       "    .dataframe tbody tr th:only-of-type {\n",
       "        vertical-align: middle;\n",
       "    }\n",
       "\n",
       "    .dataframe tbody tr th {\n",
       "        vertical-align: top;\n",
       "    }\n",
       "\n",
       "    .dataframe thead th {\n",
       "        text-align: right;\n",
       "    }\n",
       "</style>\n",
       "<table border=\"1\" class=\"dataframe\">\n",
       "  <thead>\n",
       "    <tr style=\"text-align: right;\">\n",
       "      <th></th>\n",
       "      <th>1stD-O</th>\n",
       "      <th>Date</th>\n",
       "      <th>Day</th>\n",
       "      <th>DefTO</th>\n",
       "      <th>Location</th>\n",
       "      <th>OT</th>\n",
       "      <th>Opp</th>\n",
       "      <th>PassY</th>\n",
       "      <th>PtsOpp</th>\n",
       "      <th>PtsTm</th>\n",
       "      <th>Record</th>\n",
       "      <th>Result</th>\n",
       "      <th>RushY</th>\n",
       "      <th>TO</th>\n",
       "      <th>Team</th>\n",
       "      <th>Time</th>\n",
       "      <th>TotY</th>\n",
       "      <th>Week</th>\n",
       "      <th>Year</th>\n",
       "    </tr>\n",
       "  </thead>\n",
       "  <tbody>\n",
       "    <tr>\n",
       "      <th>0</th>\n",
       "      <td>26.0</td>\n",
       "      <td>2018-09-09</td>\n",
       "      <td>Sun</td>\n",
       "      <td>NaN</td>\n",
       "      <td>NaN</td>\n",
       "      <td>NaN</td>\n",
       "      <td>Tampa Bay Buccaneers</td>\n",
       "      <td>432.0</td>\n",
       "      <td>48.0</td>\n",
       "      <td>40.0</td>\n",
       "      <td>0-1</td>\n",
       "      <td>L</td>\n",
       "      <td>43.0</td>\n",
       "      <td>2.0</td>\n",
       "      <td>NOR</td>\n",
       "      <td>13:00:00</td>\n",
       "      <td>475.0</td>\n",
       "      <td>1</td>\n",
       "      <td>2018</td>\n",
       "    </tr>\n",
       "    <tr>\n",
       "      <th>1</th>\n",
       "      <td>18.0</td>\n",
       "      <td>2018-09-16</td>\n",
       "      <td>Sun</td>\n",
       "      <td>1.0</td>\n",
       "      <td>NaN</td>\n",
       "      <td>NaN</td>\n",
       "      <td>Cleveland Browns</td>\n",
       "      <td>213.0</td>\n",
       "      <td>18.0</td>\n",
       "      <td>21.0</td>\n",
       "      <td>1-1</td>\n",
       "      <td>W</td>\n",
       "      <td>62.0</td>\n",
       "      <td>2.0</td>\n",
       "      <td>NOR</td>\n",
       "      <td>13:00:00</td>\n",
       "      <td>275.0</td>\n",
       "      <td>2</td>\n",
       "      <td>2018</td>\n",
       "    </tr>\n",
       "    <tr>\n",
       "      <th>2</th>\n",
       "      <td>32.0</td>\n",
       "      <td>2018-09-23</td>\n",
       "      <td>Sun</td>\n",
       "      <td>NaN</td>\n",
       "      <td>@</td>\n",
       "      <td>OT</td>\n",
       "      <td>Atlanta Falcons</td>\n",
       "      <td>391.0</td>\n",
       "      <td>37.0</td>\n",
       "      <td>43.0</td>\n",
       "      <td>2-1</td>\n",
       "      <td>W</td>\n",
       "      <td>143.0</td>\n",
       "      <td>NaN</td>\n",
       "      <td>NOR</td>\n",
       "      <td>13:00:00</td>\n",
       "      <td>534.0</td>\n",
       "      <td>3</td>\n",
       "      <td>2018</td>\n",
       "    </tr>\n",
       "    <tr>\n",
       "      <th>3</th>\n",
       "      <td>25.0</td>\n",
       "      <td>2018-09-30</td>\n",
       "      <td>Sun</td>\n",
       "      <td>2.0</td>\n",
       "      <td>@</td>\n",
       "      <td>NaN</td>\n",
       "      <td>New York Giants</td>\n",
       "      <td>219.0</td>\n",
       "      <td>18.0</td>\n",
       "      <td>33.0</td>\n",
       "      <td>3-1</td>\n",
       "      <td>W</td>\n",
       "      <td>170.0</td>\n",
       "      <td>NaN</td>\n",
       "      <td>NOR</td>\n",
       "      <td>16:25:00</td>\n",
       "      <td>389.0</td>\n",
       "      <td>4</td>\n",
       "      <td>2018</td>\n",
       "    </tr>\n",
       "    <tr>\n",
       "      <th>4</th>\n",
       "      <td>27.0</td>\n",
       "      <td>2018-10-08</td>\n",
       "      <td>Mon</td>\n",
       "      <td>2.0</td>\n",
       "      <td>NaN</td>\n",
       "      <td>NaN</td>\n",
       "      <td>Washington Redskins</td>\n",
       "      <td>349.0</td>\n",
       "      <td>19.0</td>\n",
       "      <td>43.0</td>\n",
       "      <td>4-1</td>\n",
       "      <td>W</td>\n",
       "      <td>98.0</td>\n",
       "      <td>1.0</td>\n",
       "      <td>NOR</td>\n",
       "      <td>20:15:00</td>\n",
       "      <td>447.0</td>\n",
       "      <td>5</td>\n",
       "      <td>2018</td>\n",
       "    </tr>\n",
       "  </tbody>\n",
       "</table>\n",
       "</div>"
      ],
      "text/plain": [
       "   1stD-O       Date  Day  DefTO Location   OT                   Opp  PassY  \\\n",
       "0    26.0 2018-09-09  Sun    NaN      NaN  NaN  Tampa Bay Buccaneers  432.0   \n",
       "1    18.0 2018-09-16  Sun    1.0      NaN  NaN      Cleveland Browns  213.0   \n",
       "2    32.0 2018-09-23  Sun    NaN        @   OT       Atlanta Falcons  391.0   \n",
       "3    25.0 2018-09-30  Sun    2.0        @  NaN       New York Giants  219.0   \n",
       "4    27.0 2018-10-08  Mon    2.0      NaN  NaN   Washington Redskins  349.0   \n",
       "\n",
       "   PtsOpp  PtsTm Record Result  RushY   TO Team      Time   TotY  Week  Year  \n",
       "0    48.0   40.0    0-1      L   43.0  2.0  NOR  13:00:00  475.0     1  2018  \n",
       "1    18.0   21.0    1-1      W   62.0  2.0  NOR  13:00:00  275.0     2  2018  \n",
       "2    37.0   43.0    2-1      W  143.0  NaN  NOR  13:00:00  534.0     3  2018  \n",
       "3    18.0   33.0    3-1      W  170.0  NaN  NOR  16:25:00  389.0     4  2018  \n",
       "4    19.0   43.0    4-1      W   98.0  1.0  NOR  20:15:00  447.0     5  2018  "
      ]
     },
     "execution_count": 103,
     "metadata": {},
     "output_type": "execute_result"
    }
   ],
   "source": [
    "master_df.head()"
   ]
  },
  {
   "cell_type": "code",
   "execution_count": 12,
   "metadata": {},
   "outputs": [
    {
     "name": "stdout",
     "output_type": "stream",
     "text": [
      "520\n"
     ]
    },
    {
     "data": {
      "text/plain": [
       "True"
      ]
     },
     "execution_count": 12,
     "metadata": {},
     "output_type": "execute_result"
    }
   ],
   "source": [
    "# 520 games in regular season; 531 including play-offs\n",
    "print (len(master_df))\n",
    "len(merge_dict[year]) == 32"
   ]
  },
  {
   "cell_type": "code",
   "execution_count": 60,
   "metadata": {},
   "outputs": [
    {
     "name": "stdout",
     "output_type": "stream",
     "text": [
      "<class 'pandas.core.frame.DataFrame'>\n",
      "RangeIndex: 520 entries, 0 to 519\n",
      "Data columns (total 19 columns):\n",
      "1stD-O      512 non-null float64\n",
      "Date        520 non-null datetime64[ns]\n",
      "Day         520 non-null object\n",
      "DefTO       369 non-null float64\n",
      "Location    260 non-null object\n",
      "OT          30 non-null object\n",
      "Opp         520 non-null object\n",
      "PassY       512 non-null float64\n",
      "PtsOpp      512 non-null float64\n",
      "PtsTm       512 non-null float64\n",
      "Record      512 non-null object\n",
      "Result      512 non-null object\n",
      "RushY       512 non-null float64\n",
      "TO          369 non-null float64\n",
      "Team        520 non-null object\n",
      "Time        520 non-null object\n",
      "TotY        512 non-null float64\n",
      "Week        520 non-null int64\n",
      "Year        520 non-null int64\n",
      "dtypes: datetime64[ns](1), float64(8), int64(2), object(8)\n",
      "memory usage: 77.3+ KB\n"
     ]
    }
   ],
   "source": [
    "master_df.info()"
   ]
  },
  {
   "cell_type": "code",
   "execution_count": 61,
   "metadata": {},
   "outputs": [
    {
     "data": {
      "text/plain": [
       "datetime.time(13, 0)"
      ]
     },
     "execution_count": 61,
     "metadata": {},
     "output_type": "execute_result"
    }
   ],
   "source": [
    "master_df.loc[0,'Time']"
   ]
  },
  {
   "cell_type": "code",
   "execution_count": 62,
   "metadata": {},
   "outputs": [],
   "source": [
    "p.pkl_this(f'../master_df_{str(year)}.pkl', master_df)"
   ]
  },
  {
   "cell_type": "markdown",
   "metadata": {},
   "source": [
    "### Clean Boxscore Data"
   ]
  },
  {
   "cell_type": "code",
   "execution_count": 104,
   "metadata": {},
   "outputs": [
    {
     "name": "stdout",
     "output_type": "stream",
     "text": [
      "20\n",
      "40\n",
      "60\n",
      "80\n",
      "100\n",
      "120\n",
      "140\n",
      "160\n",
      "180\n",
      "200\n",
      "220\n",
      "240\n",
      "Done!\n"
     ]
    }
   ],
   "source": [
    "count = 0\n",
    "\n",
    "bxsc_df = pd.DataFrame()\n",
    "\n",
    "for key, val in bxsc_html.items():\n",
    "    week_date = dt.datetime.strptime(key.split(\"/\")[2][:8], '%Y%m%d')\n",
    "\n",
    "    if week_date < dt.datetime.now():\n",
    "#         print(week_date)\n",
    "        team = url_team_dict[key[-7:-4]][2]\n",
    "#         print(team)\n",
    "        week = master_df[(master_df['Date'] == week_date) & (master_df['Team'] == team)]['Week'].values[0]\n",
    "        try:\n",
    "            df = p.clean_bxsc_data(val, week, year)\n",
    "\n",
    "            # Append boxscore df to bxsc_df\n",
    "            bxsc_df = bxsc_df.append(df)\n",
    "\n",
    "            count += 1\n",
    "            if count%20 == 0:\n",
    "                print(count)\n",
    "        except:\n",
    "            print(f'Error: {week_date} & {team}')\n",
    "    \n",
    "\n",
    "print ('Done!')"
   ]
  },
  {
   "cell_type": "code",
   "execution_count": 106,
   "metadata": {},
   "outputs": [],
   "source": [
    "p.pkl_this(f'Data/bxsc_df_{str(year)}.pkl', bxsc_df)"
   ]
  },
  {
   "cell_type": "markdown",
   "metadata": {},
   "source": [
    "### Merge bxsc_df with master_df"
   ]
  },
  {
   "cell_type": "code",
   "execution_count": 107,
   "metadata": {},
   "outputs": [],
   "source": [
    "df = pd.merge(master_df, bxsc_df, how='left', on=['Team', 'Week','Year'])"
   ]
  },
  {
   "cell_type": "code",
   "execution_count": 109,
   "metadata": {},
   "outputs": [
    {
     "data": {
      "text/html": [
       "<div>\n",
       "<style scoped>\n",
       "    .dataframe tbody tr th:only-of-type {\n",
       "        vertical-align: middle;\n",
       "    }\n",
       "\n",
       "    .dataframe tbody tr th {\n",
       "        vertical-align: top;\n",
       "    }\n",
       "\n",
       "    .dataframe thead th {\n",
       "        text-align: right;\n",
       "    }\n",
       "</style>\n",
       "<table border=\"1\" class=\"dataframe\">\n",
       "  <thead>\n",
       "    <tr style=\"text-align: right;\">\n",
       "      <th></th>\n",
       "      <th>1stD-O</th>\n",
       "      <th>Date</th>\n",
       "      <th>Day</th>\n",
       "      <th>DefTO</th>\n",
       "      <th>Location</th>\n",
       "      <th>OT</th>\n",
       "      <th>Opp</th>\n",
       "      <th>PassY</th>\n",
       "      <th>PtsOpp</th>\n",
       "      <th>PtsTm</th>\n",
       "      <th>...</th>\n",
       "      <th>PassAtt</th>\n",
       "      <th>PassTDs</th>\n",
       "      <th>INT</th>\n",
       "      <th>SacksO</th>\n",
       "      <th>Fumbles</th>\n",
       "      <th>Penalies</th>\n",
       "      <th>PenY</th>\n",
       "      <th>3rdDConv</th>\n",
       "      <th>3rdDAtt</th>\n",
       "      <th>4thDAtt</th>\n",
       "    </tr>\n",
       "  </thead>\n",
       "  <tbody>\n",
       "    <tr>\n",
       "      <th>0</th>\n",
       "      <td>26.0</td>\n",
       "      <td>2018-09-09</td>\n",
       "      <td>Sun</td>\n",
       "      <td>NaN</td>\n",
       "      <td>NaN</td>\n",
       "      <td>NaN</td>\n",
       "      <td>Tampa Bay Buccaneers</td>\n",
       "      <td>432.0</td>\n",
       "      <td>48.0</td>\n",
       "      <td>40.0</td>\n",
       "      <td>...</td>\n",
       "      <td>45.0</td>\n",
       "      <td>3.0</td>\n",
       "      <td>0.0</td>\n",
       "      <td>1.0</td>\n",
       "      <td>2.0</td>\n",
       "      <td>8.0</td>\n",
       "      <td>77.0</td>\n",
       "      <td>4.0</td>\n",
       "      <td>9.0</td>\n",
       "      <td>1.0</td>\n",
       "    </tr>\n",
       "    <tr>\n",
       "      <th>1</th>\n",
       "      <td>18.0</td>\n",
       "      <td>2018-09-16</td>\n",
       "      <td>Sun</td>\n",
       "      <td>1.0</td>\n",
       "      <td>NaN</td>\n",
       "      <td>NaN</td>\n",
       "      <td>Cleveland Browns</td>\n",
       "      <td>213.0</td>\n",
       "      <td>18.0</td>\n",
       "      <td>21.0</td>\n",
       "      <td>...</td>\n",
       "      <td>35.0</td>\n",
       "      <td>2.0</td>\n",
       "      <td>0.0</td>\n",
       "      <td>3.0</td>\n",
       "      <td>2.0</td>\n",
       "      <td>4.0</td>\n",
       "      <td>53.0</td>\n",
       "      <td>3.0</td>\n",
       "      <td>12.0</td>\n",
       "      <td>0.0</td>\n",
       "    </tr>\n",
       "    <tr>\n",
       "      <th>2</th>\n",
       "      <td>32.0</td>\n",
       "      <td>2018-09-23</td>\n",
       "      <td>Sun</td>\n",
       "      <td>NaN</td>\n",
       "      <td>@</td>\n",
       "      <td>OT</td>\n",
       "      <td>Atlanta Falcons</td>\n",
       "      <td>391.0</td>\n",
       "      <td>37.0</td>\n",
       "      <td>43.0</td>\n",
       "      <td>...</td>\n",
       "      <td>49.0</td>\n",
       "      <td>3.0</td>\n",
       "      <td>0.0</td>\n",
       "      <td>1.0</td>\n",
       "      <td>1.0</td>\n",
       "      <td>11.0</td>\n",
       "      <td>120.0</td>\n",
       "      <td>7.0</td>\n",
       "      <td>14.0</td>\n",
       "      <td>1.0</td>\n",
       "    </tr>\n",
       "    <tr>\n",
       "      <th>3</th>\n",
       "      <td>25.0</td>\n",
       "      <td>2018-09-30</td>\n",
       "      <td>Sun</td>\n",
       "      <td>2.0</td>\n",
       "      <td>@</td>\n",
       "      <td>NaN</td>\n",
       "      <td>New York Giants</td>\n",
       "      <td>219.0</td>\n",
       "      <td>18.0</td>\n",
       "      <td>33.0</td>\n",
       "      <td>...</td>\n",
       "      <td>34.0</td>\n",
       "      <td>0.0</td>\n",
       "      <td>0.0</td>\n",
       "      <td>1.0</td>\n",
       "      <td>1.0</td>\n",
       "      <td>5.0</td>\n",
       "      <td>51.0</td>\n",
       "      <td>5.0</td>\n",
       "      <td>13.0</td>\n",
       "      <td>1.0</td>\n",
       "    </tr>\n",
       "    <tr>\n",
       "      <th>4</th>\n",
       "      <td>27.0</td>\n",
       "      <td>2018-10-08</td>\n",
       "      <td>Mon</td>\n",
       "      <td>2.0</td>\n",
       "      <td>NaN</td>\n",
       "      <td>NaN</td>\n",
       "      <td>Washington Redskins</td>\n",
       "      <td>349.0</td>\n",
       "      <td>19.0</td>\n",
       "      <td>43.0</td>\n",
       "      <td>...</td>\n",
       "      <td>29.0</td>\n",
       "      <td>3.0</td>\n",
       "      <td>0.0</td>\n",
       "      <td>2.0</td>\n",
       "      <td>2.0</td>\n",
       "      <td>4.0</td>\n",
       "      <td>45.0</td>\n",
       "      <td>5.0</td>\n",
       "      <td>9.0</td>\n",
       "      <td>0.0</td>\n",
       "    </tr>\n",
       "  </tbody>\n",
       "</table>\n",
       "<p>5 rows × 33 columns</p>\n",
       "</div>"
      ],
      "text/plain": [
       "   1stD-O       Date  Day  DefTO Location   OT                   Opp  PassY  \\\n",
       "0    26.0 2018-09-09  Sun    NaN      NaN  NaN  Tampa Bay Buccaneers  432.0   \n",
       "1    18.0 2018-09-16  Sun    1.0      NaN  NaN      Cleveland Browns  213.0   \n",
       "2    32.0 2018-09-23  Sun    NaN        @   OT       Atlanta Falcons  391.0   \n",
       "3    25.0 2018-09-30  Sun    2.0        @  NaN       New York Giants  219.0   \n",
       "4    27.0 2018-10-08  Mon    2.0      NaN  NaN   Washington Redskins  349.0   \n",
       "\n",
       "   PtsOpp  PtsTm   ...   PassAtt PassTDs  INT  SacksO Fumbles Penalies   PenY  \\\n",
       "0    48.0   40.0   ...      45.0     3.0  0.0     1.0     2.0      8.0   77.0   \n",
       "1    18.0   21.0   ...      35.0     2.0  0.0     3.0     2.0      4.0   53.0   \n",
       "2    37.0   43.0   ...      49.0     3.0  0.0     1.0     1.0     11.0  120.0   \n",
       "3    18.0   33.0   ...      34.0     0.0  0.0     1.0     1.0      5.0   51.0   \n",
       "4    19.0   43.0   ...      29.0     3.0  0.0     2.0     2.0      4.0   45.0   \n",
       "\n",
       "   3rdDConv  3rdDAtt 4thDAtt  \n",
       "0       4.0      9.0     1.0  \n",
       "1       3.0     12.0     0.0  \n",
       "2       7.0     14.0     1.0  \n",
       "3       5.0     13.0     1.0  \n",
       "4       5.0      9.0     0.0  \n",
       "\n",
       "[5 rows x 33 columns]"
      ]
     },
     "execution_count": 109,
     "metadata": {},
     "output_type": "execute_result"
    }
   ],
   "source": [
    "df.head()"
   ]
  },
  {
   "cell_type": "code",
   "execution_count": 108,
   "metadata": {},
   "outputs": [
    {
     "data": {
      "text/plain": [
       "(520, 520)"
      ]
     },
     "execution_count": 108,
     "metadata": {},
     "output_type": "execute_result"
    }
   ],
   "source": [
    "len(df), len(master_df)"
   ]
  },
  {
   "cell_type": "code",
   "execution_count": 110,
   "metadata": {},
   "outputs": [
    {
     "data": {
      "text/plain": [
       "Index(['1stD-O', 'Date', 'Day', 'DefTO', 'Location', 'OT', 'Opp', 'PassY',\n",
       "       'PtsOpp', 'PtsTm', 'Record', 'Result', 'RushY', 'TO', 'Team', 'Time',\n",
       "       'TotY', 'Week', 'Year', 'Time of Possession', 'RushAtt', 'RushTDs',\n",
       "       'PassCmp', 'PassAtt', 'PassTDs', 'INT', 'SacksO', 'Fumbles', 'Penalies',\n",
       "       'PenY', '3rdDConv', '3rdDAtt', '4thDAtt'],\n",
       "      dtype='object')"
      ]
     },
     "execution_count": 110,
     "metadata": {},
     "output_type": "execute_result"
    }
   ],
   "source": [
    "df.columns"
   ]
  },
  {
   "cell_type": "code",
   "execution_count": 111,
   "metadata": {},
   "outputs": [],
   "source": [
    "df.rename(columns={'1stD-O':'1stD'}, inplace=True)"
   ]
  },
  {
   "cell_type": "code",
   "execution_count": 112,
   "metadata": {},
   "outputs": [],
   "source": [
    "p.pkl_this(f'Data/merged_df_{str(year)}.pkl', df)"
   ]
  },
  {
   "cell_type": "markdown",
   "metadata": {},
   "source": [
    "### Merge with other season's merged data"
   ]
  },
  {
   "cell_type": "code",
   "execution_count": 126,
   "metadata": {},
   "outputs": [],
   "source": [
    "merged_df = p.open_pkl('Data/merged_df.pkl')"
   ]
  },
  {
   "cell_type": "markdown",
   "metadata": {},
   "source": [
    "Old merged_df did not have Time column converted. Do so here, before merging:"
   ]
  },
  {
   "cell_type": "code",
   "execution_count": 129,
   "metadata": {},
   "outputs": [
    {
     "data": {
      "text/plain": [
       "'1:03PM ET'"
      ]
     },
     "execution_count": 129,
     "metadata": {},
     "output_type": "execute_result"
    }
   ],
   "source": [
    "merged_df.loc[0,'Time']"
   ]
  },
  {
   "cell_type": "code",
   "execution_count": 131,
   "metadata": {},
   "outputs": [
    {
     "name": "stderr",
     "output_type": "stream",
     "text": [
      "/Users/kendra/anaconda3/lib/python3.6/site-packages/dateutil/parser/_parser.py:1204: UnknownTimezoneWarning: tzname ET identified but not understood.  Pass `tzinfos` argument in order to correctly return a timezone-aware datetime.  In a future version, this will raise an exception.\n",
      "  category=UnknownTimezoneWarning)\n"
     ]
    }
   ],
   "source": [
    "merged_df['Time'] = pd.to_datetime(merged_df['Time'], utc=False).dt.time"
   ]
  },
  {
   "cell_type": "code",
   "execution_count": 132,
   "metadata": {},
   "outputs": [
    {
     "data": {
      "text/plain": [
       "datetime.time(13, 3)"
      ]
     },
     "execution_count": 132,
     "metadata": {},
     "output_type": "execute_result"
    }
   ],
   "source": [
    "merged_df.loc[0,'Time']"
   ]
  },
  {
   "cell_type": "markdown",
   "metadata": {},
   "source": [
    "Check that columns match"
   ]
  },
  {
   "cell_type": "code",
   "execution_count": 123,
   "metadata": {},
   "outputs": [
    {
     "data": {
      "text/plain": [
       "True"
      ]
     },
     "execution_count": 123,
     "metadata": {},
     "output_type": "execute_result"
    }
   ],
   "source": [
    "sorted(merged_df.columns) == sorted (df.columns)"
   ]
  },
  {
   "cell_type": "code",
   "execution_count": 133,
   "metadata": {},
   "outputs": [],
   "source": [
    "new_merge = merged_df.append(df, sort=True)"
   ]
  },
  {
   "cell_type": "code",
   "execution_count": 119,
   "metadata": {},
   "outputs": [
    {
     "data": {
      "text/html": [
       "<div>\n",
       "<style scoped>\n",
       "    .dataframe tbody tr th:only-of-type {\n",
       "        vertical-align: middle;\n",
       "    }\n",
       "\n",
       "    .dataframe tbody tr th {\n",
       "        vertical-align: top;\n",
       "    }\n",
       "\n",
       "    .dataframe thead th {\n",
       "        text-align: right;\n",
       "    }\n",
       "</style>\n",
       "<table border=\"1\" class=\"dataframe\">\n",
       "  <thead>\n",
       "    <tr style=\"text-align: right;\">\n",
       "      <th></th>\n",
       "      <th>1stD</th>\n",
       "      <th>3rdDAtt</th>\n",
       "      <th>3rdDConv</th>\n",
       "      <th>4thDAtt</th>\n",
       "      <th>Date</th>\n",
       "      <th>Day</th>\n",
       "      <th>DefTO</th>\n",
       "      <th>Fumbles</th>\n",
       "      <th>INT</th>\n",
       "      <th>Location</th>\n",
       "      <th>...</th>\n",
       "      <th>RushTDs</th>\n",
       "      <th>RushY</th>\n",
       "      <th>SacksO</th>\n",
       "      <th>TO</th>\n",
       "      <th>Team</th>\n",
       "      <th>Time</th>\n",
       "      <th>Time of Possession</th>\n",
       "      <th>TotY</th>\n",
       "      <th>Week</th>\n",
       "      <th>Year</th>\n",
       "    </tr>\n",
       "  </thead>\n",
       "  <tbody>\n",
       "    <tr>\n",
       "      <th>0</th>\n",
       "      <td>20.0</td>\n",
       "      <td>17.0</td>\n",
       "      <td>5.0</td>\n",
       "      <td>4.0</td>\n",
       "      <td>2014-09-07</td>\n",
       "      <td>Sun</td>\n",
       "      <td>3.0</td>\n",
       "      <td>3.0</td>\n",
       "      <td>0.0</td>\n",
       "      <td>@</td>\n",
       "      <td>...</td>\n",
       "      <td>1.0</td>\n",
       "      <td>89.0</td>\n",
       "      <td>4.0</td>\n",
       "      <td>2.0</td>\n",
       "      <td>NWE</td>\n",
       "      <td>1:03PM ET</td>\n",
       "      <td>29:33</td>\n",
       "      <td>315.0</td>\n",
       "      <td>1</td>\n",
       "      <td>2014</td>\n",
       "    </tr>\n",
       "    <tr>\n",
       "      <th>1</th>\n",
       "      <td>16.0</td>\n",
       "      <td>14.0</td>\n",
       "      <td>5.0</td>\n",
       "      <td>1.0</td>\n",
       "      <td>2014-09-14</td>\n",
       "      <td>Sun</td>\n",
       "      <td>4.0</td>\n",
       "      <td>1.0</td>\n",
       "      <td>0.0</td>\n",
       "      <td>@</td>\n",
       "      <td>...</td>\n",
       "      <td>1.0</td>\n",
       "      <td>150.0</td>\n",
       "      <td>1.0</td>\n",
       "      <td>NaN</td>\n",
       "      <td>NWE</td>\n",
       "      <td>1:05PM ET</td>\n",
       "      <td>31:34</td>\n",
       "      <td>292.0</td>\n",
       "      <td>2</td>\n",
       "      <td>2014</td>\n",
       "    </tr>\n",
       "    <tr>\n",
       "      <th>2</th>\n",
       "      <td>21.0</td>\n",
       "      <td>18.0</td>\n",
       "      <td>9.0</td>\n",
       "      <td>1.0</td>\n",
       "      <td>2014-09-21</td>\n",
       "      <td>Sun</td>\n",
       "      <td>1.0</td>\n",
       "      <td>1.0</td>\n",
       "      <td>0.0</td>\n",
       "      <td>NaN</td>\n",
       "      <td>...</td>\n",
       "      <td>0.0</td>\n",
       "      <td>76.0</td>\n",
       "      <td>2.0</td>\n",
       "      <td>NaN</td>\n",
       "      <td>NWE</td>\n",
       "      <td>1:02PM ET</td>\n",
       "      <td>31:35</td>\n",
       "      <td>297.0</td>\n",
       "      <td>3</td>\n",
       "      <td>2014</td>\n",
       "    </tr>\n",
       "    <tr>\n",
       "      <th>3</th>\n",
       "      <td>13.0</td>\n",
       "      <td>9.0</td>\n",
       "      <td>2.0</td>\n",
       "      <td>0.0</td>\n",
       "      <td>2014-09-29</td>\n",
       "      <td>Mon</td>\n",
       "      <td>NaN</td>\n",
       "      <td>2.0</td>\n",
       "      <td>2.0</td>\n",
       "      <td>@</td>\n",
       "      <td>...</td>\n",
       "      <td>0.0</td>\n",
       "      <td>75.0</td>\n",
       "      <td>3.0</td>\n",
       "      <td>3.0</td>\n",
       "      <td>NWE</td>\n",
       "      <td>8:31PM ET</td>\n",
       "      <td>23:33</td>\n",
       "      <td>290.0</td>\n",
       "      <td>4</td>\n",
       "      <td>2014</td>\n",
       "    </tr>\n",
       "    <tr>\n",
       "      <th>4</th>\n",
       "      <td>30.0</td>\n",
       "      <td>16.0</td>\n",
       "      <td>6.0</td>\n",
       "      <td>1.0</td>\n",
       "      <td>2014-10-05</td>\n",
       "      <td>Sun</td>\n",
       "      <td>3.0</td>\n",
       "      <td>1.0</td>\n",
       "      <td>0.0</td>\n",
       "      <td>NaN</td>\n",
       "      <td>...</td>\n",
       "      <td>1.0</td>\n",
       "      <td>220.0</td>\n",
       "      <td>1.0</td>\n",
       "      <td>NaN</td>\n",
       "      <td>NWE</td>\n",
       "      <td>8:43PM ET</td>\n",
       "      <td>38:56</td>\n",
       "      <td>505.0</td>\n",
       "      <td>5</td>\n",
       "      <td>2014</td>\n",
       "    </tr>\n",
       "  </tbody>\n",
       "</table>\n",
       "<p>5 rows × 33 columns</p>\n",
       "</div>"
      ],
      "text/plain": [
       "   1stD  3rdDAtt  3rdDConv  4thDAtt       Date  Day  DefTO  Fumbles  INT  \\\n",
       "0  20.0     17.0       5.0      4.0 2014-09-07  Sun    3.0      3.0  0.0   \n",
       "1  16.0     14.0       5.0      1.0 2014-09-14  Sun    4.0      1.0  0.0   \n",
       "2  21.0     18.0       9.0      1.0 2014-09-21  Sun    1.0      1.0  0.0   \n",
       "3  13.0      9.0       2.0      0.0 2014-09-29  Mon    NaN      2.0  2.0   \n",
       "4  30.0     16.0       6.0      1.0 2014-10-05  Sun    3.0      1.0  0.0   \n",
       "\n",
       "  Location  ...  RushTDs  RushY  SacksO   TO  Team       Time  \\\n",
       "0        @  ...      1.0   89.0     4.0  2.0   NWE  1:03PM ET   \n",
       "1        @  ...      1.0  150.0     1.0  NaN   NWE  1:05PM ET   \n",
       "2      NaN  ...      0.0   76.0     2.0  NaN   NWE  1:02PM ET   \n",
       "3        @  ...      0.0   75.0     3.0  3.0   NWE  8:31PM ET   \n",
       "4      NaN  ...      1.0  220.0     1.0  NaN   NWE  8:43PM ET   \n",
       "\n",
       "   Time of Possession   TotY  Week  Year  \n",
       "0               29:33  315.0     1  2014  \n",
       "1               31:34  292.0     2  2014  \n",
       "2               31:35  297.0     3  2014  \n",
       "3               23:33  290.0     4  2014  \n",
       "4               38:56  505.0     5  2014  \n",
       "\n",
       "[5 rows x 33 columns]"
      ]
     },
     "execution_count": 119,
     "metadata": {},
     "output_type": "execute_result"
    }
   ],
   "source": [
    "new_merge.head()"
   ]
  },
  {
   "cell_type": "code",
   "execution_count": 137,
   "metadata": {},
   "outputs": [],
   "source": [
    "new_merge.reset_index(drop=True, inplace=True)"
   ]
  },
  {
   "cell_type": "code",
   "execution_count": 138,
   "metadata": {},
   "outputs": [
    {
     "data": {
      "text/plain": [
       "1stD                                 20.0\n",
       "3rdDAtt                              17.0\n",
       "3rdDConv                              5.0\n",
       "4thDAtt                               4.0\n",
       "Date                  2014-09-07 00:00:00\n",
       "Day                                   Sun\n",
       "DefTO                                 3.0\n",
       "Fumbles                               3.0\n",
       "INT                                   0.0\n",
       "Location                                @\n",
       "OT                                    NaN\n",
       "Opp                        Miami Dolphins\n",
       "PassAtt                              56.0\n",
       "PassCmp                              29.0\n",
       "PassTDs                               1.0\n",
       "PassY                               226.0\n",
       "PenY                                100.0\n",
       "Penalies                              9.0\n",
       "PtsOpp                               33.0\n",
       "PtsTm                                20.0\n",
       "Record                                0-1\n",
       "Result                                  L\n",
       "RushAtt                              20.0\n",
       "RushTDs                               1.0\n",
       "RushY                                89.0\n",
       "SacksO                                4.0\n",
       "TO                                    2.0\n",
       "Team                                  NWE\n",
       "Time                             13:03:00\n",
       "Time of Possession                  29:33\n",
       "TotY                                315.0\n",
       "Week                                    1\n",
       "Year                                 2014\n",
       "Name: 0, dtype: object"
      ]
     },
     "execution_count": 138,
     "metadata": {},
     "output_type": "execute_result"
    }
   ],
   "source": [
    "new_merge.loc[0]"
   ]
  },
  {
   "cell_type": "code",
   "execution_count": 135,
   "metadata": {},
   "outputs": [
    {
     "data": {
      "text/plain": [
       "(5874, 6394)"
      ]
     },
     "execution_count": 135,
     "metadata": {},
     "output_type": "execute_result"
    }
   ],
   "source": [
    "len(merged_df), len(new_merge)"
   ]
  },
  {
   "cell_type": "code",
   "execution_count": 134,
   "metadata": {},
   "outputs": [],
   "source": [
    "p.pkl_this('Data/merged_df.pkl', new_merge)"
   ]
  },
  {
   "cell_type": "markdown",
   "metadata": {},
   "source": [
    "### Elo Data from FiveThirtyEight"
   ]
  },
  {
   "cell_type": "code",
   "execution_count": 71,
   "metadata": {},
   "outputs": [],
   "source": [
    "elo_url = 'https://projects.fivethirtyeight.com/nfl-api/nfl_elo.csv'\n",
    "elo_df = pd.read_csv(elo_url)"
   ]
  },
  {
   "cell_type": "code",
   "execution_count": 72,
   "metadata": {},
   "outputs": [
    {
     "data": {
      "text/html": [
       "<div>\n",
       "<style scoped>\n",
       "    .dataframe tbody tr th:only-of-type {\n",
       "        vertical-align: middle;\n",
       "    }\n",
       "\n",
       "    .dataframe tbody tr th {\n",
       "        vertical-align: top;\n",
       "    }\n",
       "\n",
       "    .dataframe thead th {\n",
       "        text-align: right;\n",
       "    }\n",
       "</style>\n",
       "<table border=\"1\" class=\"dataframe\">\n",
       "  <thead>\n",
       "    <tr style=\"text-align: right;\">\n",
       "      <th></th>\n",
       "      <th>date</th>\n",
       "      <th>season</th>\n",
       "      <th>neutral</th>\n",
       "      <th>playoff</th>\n",
       "      <th>team1</th>\n",
       "      <th>team2</th>\n",
       "      <th>elo1_pre</th>\n",
       "      <th>elo2_pre</th>\n",
       "      <th>elo_prob1</th>\n",
       "      <th>elo_prob2</th>\n",
       "      <th>elo1_post</th>\n",
       "      <th>elo2_post</th>\n",
       "      <th>score1</th>\n",
       "      <th>score2</th>\n",
       "    </tr>\n",
       "  </thead>\n",
       "  <tbody>\n",
       "    <tr>\n",
       "      <th>0</th>\n",
       "      <td>1920-09-26</td>\n",
       "      <td>1920</td>\n",
       "      <td>0</td>\n",
       "      <td>NaN</td>\n",
       "      <td>RII</td>\n",
       "      <td>STP</td>\n",
       "      <td>1.5k</td>\n",
       "      <td>1.3k</td>\n",
       "      <td>824.7m</td>\n",
       "      <td>175.3m</td>\n",
       "      <td>1.5k</td>\n",
       "      <td>1.3k</td>\n",
       "      <td>48.0</td>\n",
       "      <td>0.0</td>\n",
       "    </tr>\n",
       "    <tr>\n",
       "      <th>1</th>\n",
       "      <td>1920-10-03</td>\n",
       "      <td>1920</td>\n",
       "      <td>0</td>\n",
       "      <td>NaN</td>\n",
       "      <td>BFF</td>\n",
       "      <td>WBU</td>\n",
       "      <td>1.5k</td>\n",
       "      <td>1.3k</td>\n",
       "      <td>802.0m</td>\n",
       "      <td>198.0m</td>\n",
       "      <td>1.5k</td>\n",
       "      <td>1.3k</td>\n",
       "      <td>32.0</td>\n",
       "      <td>6.0</td>\n",
       "    </tr>\n",
       "    <tr>\n",
       "      <th>2</th>\n",
       "      <td>1920-10-03</td>\n",
       "      <td>1920</td>\n",
       "      <td>0</td>\n",
       "      <td>NaN</td>\n",
       "      <td>CBD</td>\n",
       "      <td>PTQ</td>\n",
       "      <td>1.5k</td>\n",
       "      <td>1.3k</td>\n",
       "      <td>825.3m</td>\n",
       "      <td>174.7m</td>\n",
       "      <td>1.5k</td>\n",
       "      <td>1.3k</td>\n",
       "      <td>48.0</td>\n",
       "      <td>0.0</td>\n",
       "    </tr>\n",
       "    <tr>\n",
       "      <th>3</th>\n",
       "      <td>1920-10-03</td>\n",
       "      <td>1920</td>\n",
       "      <td>0</td>\n",
       "      <td>NaN</td>\n",
       "      <td>CHI</td>\n",
       "      <td>MUT</td>\n",
       "      <td>1.4k</td>\n",
       "      <td>1.3k</td>\n",
       "      <td>683.0m</td>\n",
       "      <td>317.0m</td>\n",
       "      <td>1.4k</td>\n",
       "      <td>1.3k</td>\n",
       "      <td>20.0</td>\n",
       "      <td>0.0</td>\n",
       "    </tr>\n",
       "    <tr>\n",
       "      <th>4</th>\n",
       "      <td>1920-10-03</td>\n",
       "      <td>1920</td>\n",
       "      <td>0</td>\n",
       "      <td>NaN</td>\n",
       "      <td>RII</td>\n",
       "      <td>MUN</td>\n",
       "      <td>1.5k</td>\n",
       "      <td>1.5k</td>\n",
       "      <td>644.2m</td>\n",
       "      <td>355.8m</td>\n",
       "      <td>1.5k</td>\n",
       "      <td>1.5k</td>\n",
       "      <td>45.0</td>\n",
       "      <td>0.0</td>\n",
       "    </tr>\n",
       "  </tbody>\n",
       "</table>\n",
       "</div>"
      ],
      "text/plain": [
       "         date  season  neutral playoff team1 team2  elo1_pre  elo2_pre  \\\n",
       "0  1920-09-26    1920        0     NaN   RII   STP      1.5k      1.3k   \n",
       "1  1920-10-03    1920        0     NaN   BFF   WBU      1.5k      1.3k   \n",
       "2  1920-10-03    1920        0     NaN   CBD   PTQ      1.5k      1.3k   \n",
       "3  1920-10-03    1920        0     NaN   CHI   MUT      1.4k      1.3k   \n",
       "4  1920-10-03    1920        0     NaN   RII   MUN      1.5k      1.5k   \n",
       "\n",
       "   elo_prob1  elo_prob2  elo1_post  elo2_post  score1  score2  \n",
       "0     824.7m     175.3m       1.5k       1.3k    48.0     0.0  \n",
       "1     802.0m     198.0m       1.5k       1.3k    32.0     6.0  \n",
       "2     825.3m     174.7m       1.5k       1.3k    48.0     0.0  \n",
       "3     683.0m     317.0m       1.4k       1.3k    20.0     0.0  \n",
       "4     644.2m     355.8m       1.5k       1.5k    45.0     0.0  "
      ]
     },
     "execution_count": 72,
     "metadata": {},
     "output_type": "execute_result"
    }
   ],
   "source": [
    "elo_df.head()"
   ]
  },
  {
   "cell_type": "code",
   "execution_count": 75,
   "metadata": {},
   "outputs": [],
   "source": [
    "elo_df['date'] = pd.to_datetime(elo_df['date'], format='%Y-%m-%d')\n",
    "elo_df = elo_df[elo_df['date'] >= dt.datetime(2007,8,1)].reset_index(drop=True) # Can drop anything before 2007\n",
    "p.pkl_this('Data/elo_df.pkl', elo_df)"
   ]
  },
  {
   "cell_type": "markdown",
   "metadata": {},
   "source": [
    "## *Proceed to '02c_TrailingSeasonAvgs_MergeElo'*"
   ]
  },
  {
   "cell_type": "code",
   "execution_count": null,
   "metadata": {},
   "outputs": [],
   "source": []
  }
 ],
 "metadata": {
  "kernelspec": {
   "display_name": "Python 3",
   "language": "python",
   "name": "python3"
  },
  "language_info": {
   "codemirror_mode": {
    "name": "ipython",
    "version": 3
   },
   "file_extension": ".py",
   "mimetype": "text/x-python",
   "name": "python",
   "nbconvert_exporter": "python",
   "pygments_lexer": "ipython3",
   "version": "3.6.6"
  }
 },
 "nbformat": 4,
 "nbformat_minor": 2
}
